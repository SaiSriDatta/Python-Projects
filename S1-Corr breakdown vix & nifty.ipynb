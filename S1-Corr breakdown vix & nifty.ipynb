{
 "cells": [
  {
   "cell_type": "code",
   "execution_count": 9,
   "id": "8711e9a3-c5e7-49b4-a89a-58d28111d647",
   "metadata": {},
   "outputs": [
    {
     "ename": "NameError",
     "evalue": "name 'file_name' is not defined",
     "output_type": "error",
     "traceback": [
      "\u001b[1;31m---------------------------------------------------------------------------\u001b[0m",
      "\u001b[1;31mNameError\u001b[0m                                 Traceback (most recent call last)",
      "Cell \u001b[1;32mIn[9], line 20\u001b[0m\n\u001b[0;32m     17\u001b[0m         df \u001b[38;5;241m=\u001b[39m ticker\u001b[38;5;241m.\u001b[39mhistory(start \u001b[38;5;241m=\u001b[39m\u001b[38;5;124m'\u001b[39m\u001b[38;5;124m2000-05-31\u001b[39m\u001b[38;5;124m'\u001b[39m, end \u001b[38;5;241m=\u001b[39m\u001b[38;5;124m'\u001b[39m\u001b[38;5;124m2024-05-31\u001b[39m\u001b[38;5;124m'\u001b[39m)\n\u001b[0;32m     18\u001b[0m         df\u001b[38;5;241m.\u001b[39mto_csv(file_name)\n\u001b[1;32m---> 20\u001b[0m df \u001b[38;5;241m=\u001b[39m pd\u001b[38;5;241m.\u001b[39mread_csv(file_name, index_col\u001b[38;5;241m=\u001b[39m\u001b[38;5;241m0\u001b[39m)\n\u001b[0;32m     21\u001b[0m df\u001b[38;5;241m.\u001b[39mindex \u001b[38;5;241m=\u001b[39m pd\u001b[38;5;241m.\u001b[39mto_datetime(df\u001b[38;5;241m.\u001b[39mindex, ist\u001b[38;5;241m=\u001b[39m\u001b[38;5;28;01mTrue\u001b[39;00m)\u001b[38;5;241m.\u001b[39mdate\n\u001b[0;32m     22\u001b[0m \u001b[38;5;28;01mreturn\u001b[39;00m df\n",
      "\u001b[1;31mNameError\u001b[0m: name 'file_name' is not defined"
     ]
    }
   ],
   "source": [
    "import os \n",
    "import requests \n",
    "import pandas as pd\n",
    "import yfinance as yf \n",
    "import warnings \n",
    "warnings.filterwarnings(\"ignore\")\n",
    "import numpy as np\n",
    "import matplotlib.pyplot as plt \n",
    "\n",
    "def load_data():\n",
    "\n",
    "    direc = 'data/'\n",
    "    os.makedirs(direc, exist_ok = True)\n",
    "    file_name = os.path.join(direc, symbol + '.csv' )\n",
    "    if not os.path.exists(file_name):\n",
    "        ticker = yf.Ticker(symbol)\n",
    "        df = ticker.history(start ='2000-05-31', end ='2024-05-31')\n",
    "        df.to_csv(file_name)\n",
    "\n",
    "df = pd.read_csv(file_name, index_col=0)\n",
    "df.index = pd.to_datetime(df.index, ist=True).date\n",
    "return df\n",
    "\n",
    "    "
   ]
  }
 ],
 "metadata": {
  "kernelspec": {
   "display_name": "Python 3 (ipykernel)",
   "language": "python",
   "name": "python3"
  },
  "language_info": {
   "codemirror_mode": {
    "name": "ipython",
    "version": 3
   },
   "file_extension": ".py",
   "mimetype": "text/x-python",
   "name": "python",
   "nbconvert_exporter": "python",
   "pygments_lexer": "ipython3",
   "version": "3.11.7"
  }
 },
 "nbformat": 4,
 "nbformat_minor": 5
}
