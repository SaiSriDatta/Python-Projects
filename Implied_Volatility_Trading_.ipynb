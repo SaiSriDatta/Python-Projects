{
  "nbformat": 4,
  "nbformat_minor": 0,
  "metadata": {
    "colab": {
      "provenance": [],
      "authorship_tag": "ABX9TyOnErF2d9zFt5mkvIYToiRI",
      "include_colab_link": true
    },
    "kernelspec": {
      "name": "python3",
      "display_name": "Python 3"
    },
    "language_info": {
      "name": "python"
    }
  },
  "cells": [
    {
      "cell_type": "markdown",
      "metadata": {
        "id": "view-in-github",
        "colab_type": "text"
      },
      "source": [
        "<a href=\"https://colab.research.google.com/github/SaiSriDatta/Python-work/blob/main/Implied_Volatility_Trading_.ipynb\" target=\"_parent\"><img src=\"https://colab.research.google.com/assets/colab-badge.svg\" alt=\"Open In Colab\"/></a>"
      ]
    },
    {
      "cell_type": "code",
      "source": [
        "#The intution is to trade based on Implied volatility. If the VIX goes up even though the markets are going up, we short S&P500 for two days and go long VIX.\n",
        "#Risk free rate and transaction costs are not considered."
      ],
      "metadata": {
        "id": "-gQCkgE6aSgd"
      },
      "execution_count": null,
      "outputs": []
    },
    {
      "cell_type": "code",
      "source": [
        "import os\n",
        "import pandas as pd\n",
        "import numpy as np\n",
        "import matplotlib.pyplot as plt\n",
        "import yfinance as yf\n",
        "import requests\n",
        "import warnings\n",
        "warnings.filterwarnings(\"ignore\")\n"
      ],
      "metadata": {
        "id": "OSNrZOV8rTgj"
      },
      "execution_count": 1,
      "outputs": []
    },
    {
      "cell_type": "code",
      "source": [
        "#making a file in to load and save data\n",
        "def load_data(symbol):\n",
        "\n",
        "  direc = 'data//'\n",
        "  os.makedirs(direc,exist_ok =True)\n",
        "  file_name = os.path.join(direc, symbol + '.csv')\n",
        "\n",
        "  if not os.path.exists(file_name):\n",
        "    ticker = yf.Ticker(symbol)\n",
        "    df = ticker.history(start = \"2000-01-02\", end = \"2024-5-31\")\n",
        "    df.to_csv(file_name)\n",
        "\n",
        "\n",
        "\n",
        "  df = pd.read_csv(file_name, index_col = 0)\n",
        "  df.index = pd.to_datetime(df.index,utc=True).date\n",
        "  return df\n",
        "\n",
        "\n"
      ],
      "metadata": {
        "id": "dK25pZQKTDW0"
      },
      "execution_count": 45,
      "outputs": []
    },
    {
      "cell_type": "code",
      "source": [
        "#using snp500 and IndiaVIX for volatility\n",
        "snp500= load_data(\"^GSPC\")\n",
        "vix= load_data(\"^VIX\")"
      ],
      "metadata": {
        "id": "Aa81_X0KWTgJ"
      },
      "execution_count": 46,
      "outputs": []
    },
    {
      "cell_type": "code",
      "source": [
        "#finding the rolling sum of the daily returns of snp500\n",
        "#percent change\n",
        "snp500[\"daily_return\"]=snp500[\"Close\"].pct_change()\n",
        "snp500[\"daily_return_direction\"]=np.nan\n",
        "snp500.loc[snp500[\"daily_return\"]>0,\"daily_return_direction\"]=1\n",
        "snp500.loc[snp500[\"daily_return\"]<0,\"daily_return_direction\"]=-1\n",
        "snp500[\"rolling_sum\"]=snp500[\"daily_return_direction\"].rolling(window=2).sum()\n"
      ],
      "metadata": {
        "id": "3-KVC9rbXozK"
      },
      "execution_count": 47,
      "outputs": []
    },
    {
      "cell_type": "code",
      "source": [
        "#doing the same for vix\n",
        "vix[\"daily_return\"]=vix[\"Close\"].pct_change()\n",
        "vix[\"daily_return_direction\"]=np.nan\n",
        "vix.loc[vix[\"daily_return\"]>0,\"daily_return_direction\"]=1\n",
        "vix.loc[vix[\"daily_return\"]<0,\"daily_return_direction\"]=-1\n",
        "vix[\"rolling_sum\"]=vix[\"daily_return_direction\"].rolling(window=2).sum()"
      ],
      "metadata": {
        "id": "1ppjLZpRaeWD"
      },
      "execution_count": 48,
      "outputs": []
    },
    {
      "cell_type": "code",
      "source": [
        "#Combining the two rolling sums\n",
        "data = pd.concat([snp500[[\"daily_return\",\"rolling_sum\"]],vix[[\"daily_return\",\"rolling_sum\"]]],axis=1)\n",
        "data.columns=[\"snp500_daily_return\",\"snp500_rolling_sum\",\"vix_daily_return\",\"vix_rolling_sum\"]\n",
        "data['Total_rolling_sum'] = data['snp500_rolling_sum'] + data['vix_rolling_sum']\n"
      ],
      "metadata": {
        "id": "3m6l7yY4cdBS"
      },
      "execution_count": 49,
      "outputs": []
    },
    {
      "cell_type": "code",
      "source": [
        "#Creating a signal\n",
        "data[\"signal\"]=0\n",
        "data.loc[data[\"Total_rolling_sum\"]!=4.0,'signal']=0\n",
        "data.loc[data[\"Total_rolling_sum\"]==4.0,'signal']=1\n",
        "print(\"Count of Trades:\",len(data[data[\"signal\"]==1]))"
      ],
      "metadata": {
        "colab": {
          "base_uri": "https://localhost:8080/"
        },
        "id": "PmqePD6hg7rq",
        "outputId": "b4ef287e-551e-4a8a-bc66-0902fba4bc24"
      },
      "execution_count": 50,
      "outputs": [
        {
          "output_type": "stream",
          "name": "stdout",
          "text": [
            "Count of Trades: 67\n"
          ]
        }
      ]
    },
    {
      "cell_type": "code",
      "source": [
        "#Signal is short first two days\n",
        "data[\"signal\"]=-data[\"signal\"].shift(1) -data[\"signal\"].shift(2)+data[\"signal\"].shift(3)+data[\"signal\"].shift(4)\n",
        "data[\"signal\"]=data[\"signal\"].fillna(0)\n",
        "\n",
        "data['strategy_return'] = (data['signal'] * data[\"snp500_daily_return\"] - data['signal'] * data[\"vix_daily_return\"])\n"
      ],
      "metadata": {
        "id": "5i7TCLjbhmnJ"
      },
      "execution_count": 51,
      "outputs": []
    },
    {
      "cell_type": "code",
      "source": [
        "#Calculating Sharpe\n",
        "snp_sharpe = data[\"snp500_daily_return\"].mean() / data[\"snp500_daily_return\"].std()*np.sqrt(252)\n",
        "print(f\"S&P500 Sharpe Ratio: {snp_sharpe:.2f}\")\n",
        "\n",
        "strategy_sharpe = data[\"strategy_return\"].mean() / data[\"strategy_return\"].std()*np.sqrt(252)\n",
        "print(f\"Strategy Sharpe Ratio: {strategy_sharpe:.2f}\")\n",
        "\n",
        "cumstrat = data['strategy_return'].cumsum()\n",
        "cumsum = data['snp500_daily_return'].cumsum()\n"
      ],
      "metadata": {
        "colab": {
          "base_uri": "https://localhost:8080/"
        },
        "id": "Fcz8UtEoof96",
        "outputId": "1fe4770c-58a3-45d2-a828-ad06fa068add"
      },
      "execution_count": 52,
      "outputs": [
        {
          "output_type": "stream",
          "name": "stdout",
          "text": [
            "S&P500 Sharpe Ratio: 0.37\n",
            "Strategy Sharpe Ratio: 0.28\n"
          ]
        }
      ]
    },
    {
      "cell_type": "code",
      "source": [
        "plt.plot(cumstrat)\n",
        "plt.xlabel('Date')\n",
        "plt.ylabel('Cumulative Return')\n",
        "plt.title('Cumulative Return of Strategy')\n",
        "plt.show()\n",
        "print(f\"Cumulative return of Strategy: {cumstrat[-1]}\")\n",
        "print(f\"Cumulative return of S&P 500: {cumsum[-1]}\")"
      ],
      "metadata": {
        "colab": {
          "base_uri": "https://localhost:8080/",
          "height": 507
        },
        "id": "gQaS_YEvp_Hn",
        "outputId": "d8f0c235-7f54-42d6-fd76-2b588479224f"
      },
      "execution_count": 53,
      "outputs": [
        {
          "output_type": "display_data",
          "data": {
            "text/plain": [
              "<Figure size 640x480 with 1 Axes>"
            ],
            "image/png": "[encoded data removed]"
          },
          "metadata": {}
        },
        {
          "output_type": "stream",
          "name": "stdout",
          "text": [
            "Cumulative return of Strategy: 1.6661464355528153\n",
            "Cumulative return of S&P 500: 1.744977704090278\n"
          ]
        }
      ]
    },
    {
      "cell_type": "code",
      "source": [
        "##The strategy seems to give lesser returns than S&P returns while backtesting."
      ],
      "metadata": {
        "id": "DQe2bdUksQIG"
      },
      "execution_count": null,
      "outputs": []
    }
  ]
}