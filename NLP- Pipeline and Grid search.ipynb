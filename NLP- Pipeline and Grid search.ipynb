{
 "cells": [
  {
   "cell_type": "code",
   "execution_count": 1,
   "id": "3502206a-eedc-4887-a2b5-65ebeae7d66c",
   "metadata": {},
   "outputs": [],
   "source": [
    "#import required libraries\n",
    "import pandas as pd\n",
    "import string\n",
    "from pprint import pprint \n",
    "from time import time "
   ]
  },
  {
   "cell_type": "code",
   "execution_count": 9,
   "id": "075776d5-9133-4fc7-b5a0-0f773c5fcb2f",
   "metadata": {},
   "outputs": [],
   "source": [
    "#import the dataset; message is the feature\n",
    "df_spam_collection = pd.read_csv(r'C:\\Users\\ramasastrydatta\\Downloads\\SpamCollection\\SpamCollection\\SpamCollection',sep='\\t',names =['response','message'])"
   ]
  },
  {
   "cell_type": "code",
   "execution_count": 10,
   "id": "281af0b6-977e-4a59-8c8f-1b2bc4d10fbc",
   "metadata": {},
   "outputs": [
    {
     "data": {
      "text/html": [
       "<div>\n",
       "<style scoped>\n",
       "    .dataframe tbody tr th:only-of-type {\n",
       "        vertical-align: middle;\n",
       "    }\n",
       "\n",
       "    .dataframe tbody tr th {\n",
       "        vertical-align: top;\n",
       "    }\n",
       "\n",
       "    .dataframe thead th {\n",
       "        text-align: right;\n",
       "    }\n",
       "</style>\n",
       "<table border=\"1\" class=\"dataframe\">\n",
       "  <thead>\n",
       "    <tr style=\"text-align: right;\">\n",
       "      <th></th>\n",
       "      <th>response</th>\n",
       "      <th>message</th>\n",
       "    </tr>\n",
       "  </thead>\n",
       "  <tbody>\n",
       "    <tr>\n",
       "      <th>0</th>\n",
       "      <td>ham</td>\n",
       "      <td>Go until jurong point, crazy.. Available only ...</td>\n",
       "    </tr>\n",
       "    <tr>\n",
       "      <th>1</th>\n",
       "      <td>ham</td>\n",
       "      <td>Ok lar... Joking wif u oni...</td>\n",
       "    </tr>\n",
       "    <tr>\n",
       "      <th>2</th>\n",
       "      <td>spam</td>\n",
       "      <td>Free entry in 2 a wkly comp to win FA Cup fina...</td>\n",
       "    </tr>\n",
       "    <tr>\n",
       "      <th>3</th>\n",
       "      <td>ham</td>\n",
       "      <td>U dun say so early hor... U c already then say...</td>\n",
       "    </tr>\n",
       "    <tr>\n",
       "      <th>4</th>\n",
       "      <td>ham</td>\n",
       "      <td>Nah I don't think he goes to usf, he lives aro...</td>\n",
       "    </tr>\n",
       "  </tbody>\n",
       "</table>\n",
       "</div>"
      ],
      "text/plain": [
       "  response                                            message\n",
       "0      ham  Go until jurong point, crazy.. Available only ...\n",
       "1      ham                      Ok lar... Joking wif u oni...\n",
       "2     spam  Free entry in 2 a wkly comp to win FA Cup fina...\n",
       "3      ham  U dun say so early hor... U c already then say...\n",
       "4      ham  Nah I don't think he goes to usf, he lives aro..."
      ]
     },
     "execution_count": 10,
     "metadata": {},
     "output_type": "execute_result"
    }
   ],
   "source": [
    "#view first 5 records\n",
    "df_spam_collection.head()"
   ]
  },
  {
   "cell_type": "code",
   "execution_count": 15,
   "id": "eb963441-6fbd-45bd-bdd8-3fc69e35ebc3",
   "metadata": {},
   "outputs": [],
   "source": [
    "#import text processing libraries \n",
    "from sklearn.feature_extraction.text import CountVectorizer \n",
    "from sklearn.feature_extraction.text import TfidfTransformer\n",
    "#import SGD classifier \n",
    "from sklearn.linear_model import SGDClassifier\n",
    "#import for gridsearch\n",
    "from sklearn.model_selection import GridSearchCV\n",
    "#import for pipeline\n",
    "from sklearn.pipeline import Pipeline\n",
    "#define the pipeline\n",
    "pipeline = Pipeline([('vect',CountVectorizer()),('tfidf',TfidfTransformer()),('clf',SGDClassifier())])"
   ]
  },
  {
   "cell_type": "code",
   "execution_count": 27,
   "id": "86b72d0a-3669-40b0-a36f-61c6a3b7d120",
   "metadata": {},
   "outputs": [],
   "source": [
    "#parameters for grid search \n",
    "parameters = {'tfidf__use_idf':(True,False)}"
   ]
  },
  {
   "cell_type": "code",
   "execution_count": 29,
   "id": "2b270904-a617-401c-92d3-5b702d9f04ab",
   "metadata": {},
   "outputs": [
    {
     "name": "stdout",
     "output_type": "stream",
     "text": [
      "performing grid search now..\n",
      "parameters: \n",
      "{'tfidf__use_idf': (True, False)}\n",
      "Fitting 5 folds for each of 2 candidates, totalling 10 fits\n",
      "done in 0.571s\n",
      "\n"
     ]
    }
   ],
   "source": [
    "#perform the grid search with pipeline and parameters\n",
    "grid_search = GridSearchCV(pipeline,parameters,n_jobs=-1,verbose=1)\n",
    "print ('performing grid search now..')\n",
    "print ('parameters: ')\n",
    "pprint(parameters)\n",
    "t0 = time()\n",
    "grid_search.fit((df_spam_collection['message']),(df_spam_collection['response']))\n",
    "print (('done in %0.3fs')% (time()-t0))\n",
    "print()\n"
   ]
  },
  {
   "cell_type": "code",
   "execution_count": null,
   "id": "5d9dc1bf-2e6d-48c3-bd15-068c02d24cb1",
   "metadata": {},
   "outputs": [],
   "source": []
  }
 ],
 "metadata": {
  "kernelspec": {
   "display_name": "Python 3 (ipykernel)",
   "language": "python",
   "name": "python3"
  },
  "language_info": {
   "codemirror_mode": {
    "name": "ipython",
    "version": 3
   },
   "file_extension": ".py",
   "mimetype": "text/x-python",
   "name": "python",
   "nbconvert_exporter": "python",
   "pygments_lexer": "ipython3",
   "version": "3.11.7"
  }
 },
 "nbformat": 4,
 "nbformat_minor": 5
}
