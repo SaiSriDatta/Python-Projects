{
 "cells": [
  {
   "cell_type": "code",
   "execution_count": 1,
   "id": "8f24923e-fb9d-4176-9bd7-4d23cf669899",
   "metadata": {},
   "outputs": [],
   "source": [
    "# Bringing the SciPy function\n",
    "from scipy.integrate import quad"
   ]
  },
  {
   "cell_type": "code",
   "execution_count": 2,
   "id": "7c0efd66-2e7a-4ecc-a714-509c8e7edaf0",
   "metadata": {},
   "outputs": [],
   "source": [
    "# define the function \n",
    "def integrateFunction (x):\n",
    "    return x"
   ]
  },
  {
   "cell_type": "code",
   "execution_count": 3,
   "id": "61affe54-d113-46ae-bb73-1195ef2f4835",
   "metadata": {},
   "outputs": [
    {
     "data": {
      "text/plain": [
       "(0.5, 5.551115123125783e-15)"
      ]
     },
     "execution_count": 3,
     "metadata": {},
     "output_type": "execute_result"
    }
   ],
   "source": [
    "quad(integrateFunction,0,1)"
   ]
  },
  {
   "cell_type": "code",
   "execution_count": 8,
   "id": "d7545a6a-7a1e-4513-b531-db635f666773",
   "metadata": {},
   "outputs": [
    {
     "data": {
      "text/plain": [
       "1.1102230246251565e-14"
      ]
     },
     "execution_count": 8,
     "metadata": {},
     "output_type": "execute_result"
    }
   ],
   "source": [
    "5.551115123125783e-15*2"
   ]
  },
  {
   "cell_type": "code",
   "execution_count": 9,
   "id": "5fe8479b-7a0e-4a45-bd0d-f5512f36829a",
   "metadata": {},
   "outputs": [],
   "source": [
    "def integrateFn (x):\n",
    "    return x*a+b"
   ]
  },
  {
   "cell_type": "code",
   "execution_count": 10,
   "id": "b9da0642-c50b-4aac-8aa0-f77eb78332a0",
   "metadata": {},
   "outputs": [],
   "source": [
    "a=3\n",
    "b=2\n"
   ]
  },
  {
   "cell_type": "code",
   "execution_count": 19,
   "id": "2e9faef8-9800-465f-95cd-c7b59edd3b69",
   "metadata": {},
   "outputs": [
    {
     "data": {
      "text/plain": [
       "(3.5, 3.885780586188048e-14)"
      ]
     },
     "execution_count": 19,
     "metadata": {},
     "output_type": "execute_result"
    }
   ],
   "source": [
    "quad(integrateFn,0,1)"
   ]
  },
  {
   "cell_type": "code",
   "execution_count": 20,
   "id": "727cf271-fd99-40a5-9fd1-b40034d39919",
   "metadata": {},
   "outputs": [],
   "source": [
    "import scipy.integrate as integrate"
   ]
  },
  {
   "cell_type": "code",
   "execution_count": 23,
   "id": "24c06e30-3d27-4205-8a56-f8b05e3a7cf1",
   "metadata": {},
   "outputs": [
    {
     "data": {
      "text/plain": [
       "(3.0, 4.436070580899685e-14)"
      ]
     },
     "execution_count": 23,
     "metadata": {},
     "output_type": "execute_result"
    }
   ],
   "source": [
    "# lambda is used to define region of integration \n",
    "def f(x,y):\n",
    "    return x + y\n",
    "integrate.dblquad(f,0,1,lambda x:0, lambda x: 2)"
   ]
  },
  {
   "cell_type": "code",
   "execution_count": 24,
   "id": "b8d7f998-73b9-4814-ac5c-2c855502a023",
   "metadata": {},
   "outputs": [],
   "source": [
    "#optimization\n",
    "import numpy as np\n",
    "from scipy import optimize\n",
    "def f(x):\n",
    "    return x**2 + 5*np.sin(x) "
   ]
  },
  {
   "cell_type": "code",
   "execution_count": 26,
   "id": "d8da5bec-25a2-4c0c-8b85-506b7f8844e0",
   "metadata": {},
   "outputs": [
    {
     "name": "stdout",
     "output_type": "stream",
     "text": [
      "Optimization terminated successfully.\n",
      "         Current function value: -3.246394\n",
      "         Iterations: 5\n",
      "         Function evaluations: 18\n",
      "         Gradient evaluations: 9\n"
     ]
    }
   ],
   "source": [
    "# using the optimize function with options displays the CONVERGENCE MESSAGES\n",
    "minimaValue = optimize.minimize(f,x0=2,method='bfgs',options={'disp':True})"
   ]
  },
  {
   "cell_type": "code",
   "execution_count": 29,
   "id": "df61581b-c40d-426b-96be-c57c1cec5a1b",
   "metadata": {},
   "outputs": [
    {
     "data": {
      "text/plain": [
       "  message: Optimization terminated successfully.\n",
       "  success: True\n",
       "   status: 0\n",
       "      fun: -3.2463942726915196\n",
       "        x: [-1.111e+00]\n",
       "      nit: 5\n",
       "      jac: [-4.470e-07]\n",
       " hess_inv: [[ 1.545e-01]]\n",
       "     nfev: 18\n",
       "     njev: 9"
      ]
     },
     "execution_count": 29,
     "metadata": {},
     "output_type": "execute_result"
    }
   ],
   "source": [
    "#minima value without options : no convergence messages, \n",
    "minimaValueWithoutOutput = optimize.minimize(f,x0=2,method='bfgs')\n",
    "minimaValueWithoutOutput"
   ]
  },
  {
   "cell_type": "code",
   "execution_count": 31,
   "id": "4ca837cd-ae12-4c03-a6ae-335b8f380d52",
   "metadata": {},
   "outputs": [],
   "source": [
    "import numpy as np \n",
    "from scipy.optimize import root \n",
    "def rootfunc(x):\n",
    "    return x + 3.5 * np.cos(x)"
   ]
  },
  {
   "cell_type": "code",
   "execution_count": 34,
   "id": "67e5998e-e9a9-4450-afc9-017c41c966c0",
   "metadata": {},
   "outputs": [
    {
     "data": {
      "text/plain": [
       " message: The solution converged.\n",
       " success: True\n",
       "  status: 1\n",
       "     fun: [ 0.000e+00]\n",
       "       x: [-1.216e+00]\n",
       "    nfev: 14\n",
       "    fjac: [[-1.000e+00]]\n",
       "       r: [-4.282e+00]\n",
       "     qtf: [-8.329e-13]"
      ]
     },
     "execution_count": 34,
     "metadata": {},
     "output_type": "execute_result"
    }
   ],
   "source": [
    "rootValue = root(rootfunc, 0.3)"
   ]
  },
  {
   "cell_type": "code",
   "execution_count": 35,
   "id": "ab8d7280-ddce-4c04-85e2-d4642d797638",
   "metadata": {},
   "outputs": [
    {
     "data": {
      "text/plain": [
       " message: The solution converged.\n",
       " success: True\n",
       "  status: 1\n",
       "     fun: [ 0.000e+00]\n",
       "       x: [-1.216e+00]\n",
       "    nfev: 14\n",
       "    fjac: [[-1.000e+00]]\n",
       "       r: [-4.282e+00]\n",
       "     qtf: [-8.329e-13]"
      ]
     },
     "execution_count": 35,
     "metadata": {},
     "output_type": "execute_result"
    }
   ],
   "source": [
    "rootValue"
   ]
  },
  {
   "cell_type": "code",
   "execution_count": 42,
   "id": "0690b3d0-f51b-49ce-9d2f-40a74457bc84",
   "metadata": {},
   "outputs": [],
   "source": [
    "# calculate eigenvalues and vectors\n",
    "# import the required libraries\n",
    "import numpy as np\n",
    "from scipy import linalg"
   ]
  },
  {
   "cell_type": "code",
   "execution_count": 53,
   "id": "963f5ec4-2e74-40dc-8b2d-4566fa2239a7",
   "metadata": {},
   "outputs": [],
   "source": [
    "#test_data matrix -( rating on a scale of 1-10) ; linalg.eig\n",
    "test_rating_data = np.array([[5,8],[7,9]])\n",
    "eigenValues, eigenVector = linalg.eig(test_rating_data)\n",
    "first_eigen, second_eigen = eigenValues"
   ]
  },
  {
   "cell_type": "code",
   "execution_count": 54,
   "id": "10659da6-b04f-4c2f-b9be-1030b565f90f",
   "metadata": {},
   "outputs": [
    {
     "name": "stdout",
     "output_type": "stream",
     "text": [
      "(-0.745966692414834+0j) (14.745966692414834+0j)\n"
     ]
    }
   ],
   "source": [
    "#print eigenvalues (1st and 2nd)\n",
    "print (first_eigen, second_eigen)"
   ]
  },
  {
   "cell_type": "code",
   "execution_count": 56,
   "id": "2b2dd963-db14-4007-bf17-8dbb0f35a194",
   "metadata": {},
   "outputs": [
    {
     "name": "stdout",
     "output_type": "stream",
     "text": [
      "[-0.81220939  0.58336601]\n"
     ]
    }
   ],
   "source": [
    "#print first eigenvector using slicing tech\n",
    "print (eigenVector[:,0])"
   ]
  },
  {
   "cell_type": "code",
   "execution_count": 57,
   "id": "befd9d46-4584-4ffd-b8f5-b35e391daa8d",
   "metadata": {},
   "outputs": [
    {
     "name": "stdout",
     "output_type": "stream",
     "text": [
      "[-0.63447346 -0.77294465]\n"
     ]
    }
   ],
   "source": [
    "#print second eigenvector using slicing tech\n",
    "print (eigenVector[:,1])"
   ]
  },
  {
   "cell_type": "code",
   "execution_count": 1,
   "id": "a2bf1fb3-ee70-4d22-b86e-1a16bcabd18a",
   "metadata": {},
   "outputs": [
    {
     "data": {
      "text/plain": [
       "151115771435386135231392"
      ]
     },
     "execution_count": 1,
     "metadata": {},
     "output_type": "execute_result"
    }
   ],
   "source": [
    "34359748368 * 4398046511194"
   ]
  },
  {
   "cell_type": "code",
   "execution_count": 3,
   "id": "f3206e90-ae91-490f-b669-824e199d8fd4",
   "metadata": {},
   "outputs": [],
   "source": [
    "import numpy as np\n",
    "from scipy import linalg\n",
    "\n",
    "test_rating_data = np.array([[14,23],[7,9]])\n",
    "eigenValues, eigenVector = linalg.eig(test_rating_data)\n",
    "first_eigen, second_eigen = eigenValues"
   ]
  },
  {
   "cell_type": "code",
   "execution_count": 4,
   "id": "e15cebdb-79d9-42c7-937d-d698d1a37418",
   "metadata": {},
   "outputs": [
    {
     "name": "stdout",
     "output_type": "stream",
     "text": [
      "(24.432517156377564+0j) (-1.4325171563775627+0j)\n"
     ]
    }
   ],
   "source": [
    "print (first_eigen, second_eigen)"
   ]
  },
  {
   "cell_type": "code",
   "execution_count": 5,
   "id": "7384e1bd-9e94-422e-b065-cd9df8e4633a",
   "metadata": {},
   "outputs": [],
   "source": [
    "#statistical sub-packages\n",
    "from scipy.stats import norm"
   ]
  },
  {
   "cell_type": "code",
   "execution_count": 7,
   "id": "f44d7450-0bc5-4890-b608-7d8a262f3621",
   "metadata": {},
   "outputs": [
    {
     "data": {
      "text/plain": [
       "array([ 0.01998217,  0.88540942, -1.53178273, -1.30809388, -2.02730164,\n",
       "        0.18519017,  0.10932818, -1.45159337, -0.02963744,  0.06063646])"
      ]
     },
     "execution_count": 7,
     "metadata": {},
     "output_type": "execute_result"
    }
   ],
   "source": [
    "#rvs - random variables \n",
    "norm.rvs(loc=0, scale=1,size=10)"
   ]
  },
  {
   "cell_type": "code",
   "execution_count": 8,
   "id": "99ee9d2b-3f71-4050-b341-beb16131e40b",
   "metadata": {},
   "outputs": [
    {
     "data": {
      "text/plain": [
       "0.9772498680518208"
      ]
     },
     "execution_count": 8,
     "metadata": {},
     "output_type": "execute_result"
    }
   ],
   "source": [
    "norm.cdf(5,loc=1, scale=2)"
   ]
  },
  {
   "cell_type": "code",
   "execution_count": 10,
   "id": "1b8eea8e-059a-423a-8586-1b6ae20be223",
   "metadata": {},
   "outputs": [
    {
     "data": {
      "text/plain": [
       "1.0279773571668917e-18"
      ]
     },
     "execution_count": 10,
     "metadata": {},
     "output_type": "execute_result"
    }
   ],
   "source": [
    "norm.pdf(9,loc=0,scale=1)"
   ]
  },
  {
   "cell_type": "code",
   "execution_count": 11,
   "id": "99a51faa-1c57-4f33-ad67-e1021e5a1f0c",
   "metadata": {},
   "outputs": [],
   "source": [
    "#weave package inline() executes c++ code on the go, blitz () compiles all expressions to python. \n"
   ]
  },
  {
   "cell_type": "code",
   "execution_count": null,
   "id": "1bf10740-7c83-465c-9480-80e5cd532f01",
   "metadata": {},
   "outputs": [],
   "source": [
    "#IO package. "
   ]
  },
  {
   "cell_type": "code",
   "execution_count": 16,
   "id": "f9e49070-c0ed-4eba-a4ce-033a3e8763f0",
   "metadata": {},
   "outputs": [
    {
     "data": {
      "text/plain": [
       "array([24.,  6.])"
      ]
     },
     "execution_count": 16,
     "metadata": {},
     "output_type": "execute_result"
    }
   ],
   "source": [
    "#using matrices for solving the equations\n",
    "import numpy as np\n",
    "from scipy import linalg\n",
    "questionVaraible = ([[1,1],[4,9]])\n",
    "totalVariable = ([30,150])\n",
    "solution_for_x_y = linalg.solve(questionVaraible,totalVariable)\n",
    "\n",
    "solution_for_x_y\n",
    "\n"
   ]
  },
  {
   "cell_type": "code",
   "execution_count": 24,
   "id": "09c2c70a-3e2b-4771-a201-536c334b5b72",
   "metadata": {},
   "outputs": [
    {
     "data": {
      "text/plain": [
       "array([-0.29875339,  1.48264461, -0.82725054,  0.50056458, -0.09638303,\n",
       "       -0.38265638, -0.42939405,  1.19771001,  0.30500703, -1.2788778 ,\n",
       "        1.25519826, -0.39189459, -1.60519135,  2.3827067 ,  1.76798291,\n",
       "       -1.03493171,  0.08920574,  0.48882901, -0.93211426,  1.45626271])"
      ]
     },
     "execution_count": 24,
     "metadata": {},
     "output_type": "execute_result"
    }
   ],
   "source": [
    "#using scipy for random variable gneration\n",
    "from scipy.stats import norm\n",
    "norm.rvs(size = 20, loc = 0, scale =1)\n"
   ]
  },
  {
   "cell_type": "code",
   "execution_count": 27,
   "id": "1c99ce51-e36a-4a48-991c-a817d524e5e0",
   "metadata": {},
   "outputs": [
    {
     "data": {
      "text/plain": [
       "0.9986501019683699"
      ]
     },
     "execution_count": 27,
     "metadata": {},
     "output_type": "execute_result"
    }
   ],
   "source": [
    "#loc = 1, scale = 3\n",
    "norm.cdf(10, loc = 1, scale =3)"
   ]
  },
  {
   "cell_type": "code",
   "execution_count": 28,
   "id": "24bed836-f36b-468d-bf1c-b5a21e9d99f1",
   "metadata": {},
   "outputs": [
    {
     "data": {
      "text/plain": [
       "7.998827757006813e-38"
      ]
     },
     "execution_count": 28,
     "metadata": {},
     "output_type": "execute_result"
    }
   ],
   "source": [
    "norm.pdf(14, loc = 1, scale =1)"
   ]
  },
  {
   "cell_type": "code",
   "execution_count": null,
   "id": "147bd694-3073-46ea-bc67-c7f9d22c1165",
   "metadata": {},
   "outputs": [],
   "source": [
    "\n"
   ]
  }
 ],
 "metadata": {
  "kernelspec": {
   "display_name": "Python 3 (ipykernel)",
   "language": "python",
   "name": "python3"
  },
  "language_info": {
   "codemirror_mode": {
    "name": "ipython",
    "version": 3
   },
   "file_extension": ".py",
   "mimetype": "text/x-python",
   "name": "python",
   "nbconvert_exporter": "python",
   "pygments_lexer": "ipython3",
   "version": "3.11.7"
  }
 },
 "nbformat": 4,
 "nbformat_minor": 5
}
