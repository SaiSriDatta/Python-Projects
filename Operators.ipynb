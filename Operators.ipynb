{
 "cells": [
  {
   "cell_type": "code",
   "execution_count": 1,
   "id": "dc91971b-8e22-416a-a28c-d4d247dd6c33",
   "metadata": {
    "editable": true,
    "slideshow": {
     "slide_type": ""
    },
    "tags": []
   },
   "outputs": [
    {
     "data": {
      "text/plain": [
       "False"
      ]
     },
     "execution_count": 1,
     "metadata": {},
     "output_type": "execute_result"
    }
   ],
   "source": [
    "IPL_teams_list =  ['SRH', 'CSK', 'RCB', 'MI']\n",
    "'PWI' in IPL_teams_list"
   ]
  },
  {
   "cell_type": "code",
   "execution_count": 5,
   "id": "a4094827-bdba-45ab-875d-0bd087236e5d",
   "metadata": {},
   "outputs": [
    {
     "data": {
      "text/plain": [
       "'Rama Sastry'"
      ]
     },
     "execution_count": 5,
     "metadata": {},
     "output_type": "execute_result"
    }
   ],
   "source": [
    "first_name = 'Rama'\n",
    "second_name = 'Sastry'\n",
    "full_name = first_name+' '+ second_name\n",
    "full_name"
   ]
  },
  {
   "cell_type": "code",
   "execution_count": null,
   "id": "c53a1fdf-297b-4853-aee0-000a77294e81",
   "metadata": {},
   "outputs": [],
   "source": [
    "concatenate\n"
   ]
  },
  {
   "cell_type": "code",
   "execution_count": 6,
   "id": "0de78480-b69b-4660-9c55-81bda7cba680",
   "metadata": {},
   "outputs": [
    {
     "data": {
      "text/plain": [
       "('Jai_bolo_Bhagawan_Sri_Sathya_Sai_Babaji_Ki',\n",
       " 'Jai',\n",
       " 'Jai_bolo_Bhagawan_Sri_Sathya_Sai_Babaji_Ki',\n",
       " 'Jai',\n",
       " 'Jai_bolo_Bhagawan_Sri_Sathya_Sai_Babaji_Ki',\n",
       " 'Jai')"
      ]
     },
     "execution_count": 6,
     "metadata": {},
     "output_type": "execute_result"
    }
   ],
   "source": [
    "Shailesh_sir_says = ( 'Jai_bolo_Bhagawan_Sri_Sathya_Sai_Babaji_Ki', 'Jai') * 3\n",
    "Shailesh_sir_says"
   ]
  },
  {
   "cell_type": "code",
   "execution_count": 17,
   "id": "fe1ff6ef-0639-4536-a241-0ccd96df4eff",
   "metadata": {},
   "outputs": [
    {
     "name": "stdout",
     "output_type": "stream",
     "text": [
      "Pat Cummins Australia All-rounder\n"
     ]
    }
   ],
   "source": [
    "def profile():\n",
    "    Name = 'Pat Cummins'\n",
    "    Country = 'Australia'\n",
    "    Talent = 'All-rounder'\n",
    "    return Name, Country, Talent\n",
    "Name, Country, Talent = profile()\n",
    "print (Name, Country, Talent)\n"
   ]
  },
  {
   "cell_type": "code",
   "execution_count": 9,
   "id": "55afb664-eacb-455d-9c15-694130656e3d",
   "metadata": {},
   "outputs": [
    {
     "name": "stdout",
     "output_type": "stream",
     "text": [
      "Name, Country, Talent\n"
     ]
    }
   ],
   "source": [
    "print ('Name, Country, Talent')"
   ]
  },
  {
   "cell_type": "code",
   "execution_count": 32,
   "id": "ee062186-53d0-45d5-9b16-bda7192cdc01",
   "metadata": {},
   "outputs": [
    {
     "data": {
      "text/plain": [
       "68"
      ]
     },
     "execution_count": 32,
     "metadata": {},
     "output_type": "execute_result"
    }
   ],
   "source": [
    "def add_two_numbers(num1, num2):\n",
    "    return num1 + num2\n",
    "\n",
    "number1 = 45\n",
    "number2 = 23\n",
    "result = add_two_numbers(number1,number2)\n",
    "result\n"
   ]
  },
  {
   "cell_type": "code",
   "execution_count": 31,
   "id": "3f9accbf-3300-4ffd-b2e4-79f4471d2b5c",
   "metadata": {},
   "outputs": [
    {
     "data": {
      "text/plain": [
       "123"
      ]
     },
     "execution_count": 31,
     "metadata": {},
     "output_type": "execute_result"
    }
   ],
   "source": [
    "def Choose_randomly_from(num1, num2, num3, num4, num5):\n",
    "    return num1|num2|num3|num4|num5\n",
    "\n",
    "number1 = 2\n",
    "number2 = 67\n",
    "number3 = 34\n",
    "number4 = 121\n",
    "number5 = 56\n",
    "result = Choose_randomly_from(number1, number2, number3, number4, number5)\n",
    "result\n"
   ]
  },
  {
   "cell_type": "code",
   "execution_count": null,
   "id": "447ae639-3248-463c-83a1-c14a53e165e2",
   "metadata": {},
   "outputs": [],
   "source": [
    "Enumerate function\n"
   ]
  },
  {
   "cell_type": "code",
   "execution_count": 1,
   "id": "fd138c47-43b2-436e-826f-7c726ccf02f3",
   "metadata": {},
   "outputs": [
    {
     "name": "stdout",
     "output_type": "stream",
     "text": [
      "0 SRH\n",
      "1 CSK\n",
      "2 MI\n",
      "3 RCB\n",
      "4 DC\n",
      "5 LSG\n",
      "6 KKR\n",
      "7 PBKS\n",
      "8 GT\n",
      "9 RR\n"
     ]
    }
   ],
   "source": [
    "Team_list = ['SRH', 'CSK', 'MI', 'RCB', 'DC', 'LSG', 'KKR', 'PBKS', 'GT', 'RR' ]\n",
    "for position,name in enumerate(Team_list):\n",
    "    print (position,name)"
   ]
  },
  {
   "cell_type": "code",
   "execution_count": 2,
   "id": "e90b64a3-0152-4843-b282-3ca8edc28e8b",
   "metadata": {},
   "outputs": [
    {
     "data": {
      "text/plain": [
       "{'SRH': 0,\n",
       " 'CSK': 1,\n",
       " 'MI': 2,\n",
       " 'RCB': 3,\n",
       " 'DC': 4,\n",
       " 'LSG': 5,\n",
       " 'KKR': 6,\n",
       " 'PBKS': 7,\n",
       " 'GT': 8,\n",
       " 'RR': 9}"
      ]
     },
     "execution_count": 2,
     "metadata": {},
     "output_type": "execute_result"
    }
   ],
   "source": [
    "Team_map = dict((name,position) for position, name in enumerate(Team_list))\n",
    "Team_map"
   ]
  },
  {
   "cell_type": "code",
   "execution_count": 7,
   "id": "cc5a72cf-7a49-44ec-80fd-2384ebf6a6a3",
   "metadata": {},
   "outputs": [
    {
     "data": {
      "text/plain": [
       "[2, 5, 8, 32, 78, 90]"
      ]
     },
     "execution_count": 7,
     "metadata": {},
     "output_type": "execute_result"
    }
   ],
   "source": [
    "sorted([32,78,2,5,8,90])"
   ]
  },
  {
   "cell_type": "code",
   "execution_count": 4,
   "id": "64c02855-afce-49a9-ad1c-48276ee1a95f",
   "metadata": {},
   "outputs": [
    {
     "data": {
      "text/plain": [
       "[19, 18, 17, 16, 15, 14, 13, 12, 11, 10, 9, 8, 7, 6, 5, 4, 3, 2, 1, 0]"
      ]
     },
     "execution_count": 4,
     "metadata": {},
     "output_type": "execute_result"
    }
   ],
   "source": [
    "num_list = range(20)\n",
    "list(reversed(num_list))"
   ]
  },
  {
   "cell_type": "code",
   "execution_count": 5,
   "id": "5679edce-d6f4-45fa-88dc-ff6c76936232",
   "metadata": {},
   "outputs": [
    {
     "ename": "NameError",
     "evalue": "name 'subject_num' is not defined",
     "output_type": "error",
     "traceback": [
      "\u001b[1;31m---------------------------------------------------------------------------\u001b[0m",
      "\u001b[1;31mNameError\u001b[0m                                 Traceback (most recent call last)",
      "Cell \u001b[1;32mIn[5], line 3\u001b[0m\n\u001b[0;32m      1\u001b[0m subjects \u001b[38;5;241m=\u001b[39m [\u001b[38;5;124m'\u001b[39m\u001b[38;5;124mmath\u001b[39m\u001b[38;5;124m'\u001b[39m,\u001b[38;5;124m'\u001b[39m\u001b[38;5;124mstatistics\u001b[39m\u001b[38;5;124m'\u001b[39m,\u001b[38;5;124m'\u001b[39m\u001b[38;5;124malgebra\u001b[39m\u001b[38;5;124m'\u001b[39m]\n\u001b[0;32m      2\u001b[0m subject_count \u001b[38;5;241m=\u001b[39m [\u001b[38;5;124m'\u001b[39m\u001b[38;5;124mone\u001b[39m\u001b[38;5;124m'\u001b[39m,\u001b[38;5;124m'\u001b[39m\u001b[38;5;124mtwo\u001b[39m\u001b[38;5;124m'\u001b[39m,\u001b[38;5;124m'\u001b[39m\u001b[38;5;124mthree\u001b[39m\u001b[38;5;124m'\u001b[39m]\n\u001b[1;32m----> 3\u001b[0m subject_full \u001b[38;5;241m=\u001b[39m \u001b[38;5;28mzip\u001b[39m(subjects,subject_num)\n\u001b[0;32m      4\u001b[0m subject_full\n",
      "\u001b[1;31mNameError\u001b[0m: name 'subject_num' is not defined"
     ]
    }
   ],
   "source": [
    "subjects = ['math','statistics','algebra']\n",
    "subject_count = ['one','two','three']\n",
    "subject_full = zip(subjects,subject_num)\n",
    "subject_full"
   ]
  },
  {
   "cell_type": "code",
   "execution_count": null,
   "id": "0265df1d-945b-4cc2-99ae-4984051cc1db",
   "metadata": {},
   "outputs": [],
   "source": [
    "age = 21"
   ]
  },
  {
   "cell_type": "code",
   "execution_count": 6,
   "id": "c486a22e-e35c-496c-a25e-46d495f01aca",
   "metadata": {},
   "outputs": [
    {
     "name": "stdout",
     "output_type": "stream",
     "text": [
      "Adult\n"
     ]
    }
   ],
   "source": [
    "age = 21\n",
    "if age < 18:\n",
    "    print ('minor')\n",
    "else:\n",
    "    print ('Adult')\n",
    "    "
   ]
  },
  {
   "cell_type": "code",
   "execution_count": 18,
   "id": "69ce7cc7-b200-4db5-b8aa-3b64001ab982",
   "metadata": {},
   "outputs": [
    {
     "name": "stdout",
     "output_type": "stream",
     "text": [
      " Grade A \n"
     ]
    }
   ],
   "source": [
    "marks = 82\n",
    "if marks > 95:\n",
    "    print (' Grade O ')\n",
    "elif 90<marks<=95:\n",
    "    print (' Grade A+ ')\n",
    "elif 80<marks<=90:\n",
    "    print (' Grade A ')\n",
    "elif 70<marks<=80:\n",
    "    print ('Grade B')\n",
    "else:\n",
    "    print ('D')\n"
   ]
  },
  {
   "cell_type": "code",
   "execution_count": 13,
   "id": "44c5cb75-a0a6-4580-b2e0-bb0710a7b8c3",
   "metadata": {},
   "outputs": [
    {
     "name": "stdout",
     "output_type": "stream",
     "text": [
      "TCS\n",
      "HDFC\n",
      "INF\n",
      "RELJIO\n",
      "ADANI\n",
      "SHPJG\n"
     ]
    }
   ],
   "source": [
    "stock_tickers =[ 'TCS','HDFC','INF',None,'RELJIO','ADANI','SHPJG']\n",
    "for tickers in (stock_tickers):\n",
    "    if(tickers is None):\n",
    "        continue\n",
    "    print (tickers)"
   ]
  },
  {
   "cell_type": "code",
   "execution_count": 12,
   "id": "5a33193c-5015-4cb3-91b0-794ed29745d0",
   "metadata": {},
   "outputs": [
    {
     "name": "stdout",
     "output_type": "stream",
     "text": [
      "TCS\n",
      "HDFC\n",
      "INF\n",
      "RELJIO\n",
      "ADANI\n",
      "SHPJG\n"
     ]
    }
   ],
   "source": [
    "for tickers in (stock_tickers):\n",
    "    if(tickers is None):\n",
    "        continue\n",
    "    print (tickers)"
   ]
  },
  {
   "cell_type": "code",
   "execution_count": 11,
   "id": "1de53b05-f363-434c-9aa9-496d9f32876e",
   "metadata": {},
   "outputs": [
    {
     "name": "stdout",
     "output_type": "stream",
     "text": [
      "277\n",
      "276\n",
      "275\n",
      "274\n",
      "273\n",
      "272\n",
      "271\n"
     ]
    }
   ],
   "source": [
    "score = 277 \n",
    "while score > 270:\n",
    "    print(score)\n",
    "    score = score - 1"
   ]
  },
  {
   "cell_type": "code",
   "execution_count": 8,
   "id": "3c41edb5-549c-48d1-be8f-0add0b98c7d7",
   "metadata": {},
   "outputs": [
    {
     "name": "stdout",
     "output_type": "stream",
     "text": [
      "TCS\n",
      "HDFC\n",
      "INF\n",
      "RELJIO\n",
      "ADANI\n",
      "SHPJG\n"
     ]
    }
   ],
   "source": [
    "stock_tickers =[ 'TCS','HDFC','INF',None,'RELJIO','ADANI','SHPJG']\n",
    "for tickers in (stock_tickers):\n",
    "    if(tickers is None):\n",
    "        continue\n",
    "    print (tickers)"
   ]
  },
  {
   "cell_type": "code",
   "execution_count": 20,
   "id": "ebe5c3b7-6f57-4a54-8db8-ecd1b4ac0a4d",
   "metadata": {},
   "outputs": [],
   "source": [
    "distance = [10,15,17,26]\n",
    "time = [0.3,0.47,0.55,1.2]"
   ]
  },
  {
   "cell_type": "code",
   "execution_count": 21,
   "id": "df7ca321-ee80-4d0a-8f4d-679d405d7127",
   "metadata": {},
   "outputs": [
    {
     "ename": "TypeError",
     "evalue": "unsupported operand type(s) for /: 'list' and 'list'",
     "output_type": "error",
     "traceback": [
      "\u001b[1;31m---------------------------------------------------------------------------\u001b[0m",
      "\u001b[1;31mTypeError\u001b[0m                                 Traceback (most recent call last)",
      "Cell \u001b[1;32mIn[21], line 1\u001b[0m\n\u001b[1;32m----> 1\u001b[0m speed \u001b[38;5;241m=\u001b[39m distance\u001b[38;5;241m/\u001b[39mtime\n",
      "\u001b[1;31mTypeError\u001b[0m: unsupported operand type(s) for /: 'list' and 'list'"
     ]
    }
   ],
   "source": [
    "speed = distance/time\n"
   ]
  },
  {
   "cell_type": "code",
   "execution_count": 22,
   "id": "b7ae4dae-9bbf-4b72-83af-dd5a235087b2",
   "metadata": {},
   "outputs": [],
   "source": [
    "import numpy as np"
   ]
  },
  {
   "cell_type": "code",
   "execution_count": 24,
   "id": "0120bd63-fa32-4c99-bc16-4635f67e65c7",
   "metadata": {},
   "outputs": [
    {
     "data": {
      "text/plain": [
       "array([33.33333333, 31.91489362, 30.90909091, 21.66666667])"
      ]
     },
     "execution_count": 24,
     "metadata": {},
     "output_type": "execute_result"
    }
   ],
   "source": [
    "np_distance = np.array(distance)\n",
    "np_time = np.array(time)\n",
    "speed = np_distance/np_time\n",
    "speed"
   ]
  },
  {
   "cell_type": "code",
   "execution_count": null,
   "id": "1914e8ac-2c08-47ed-9b43-bceb0fabad0b",
   "metadata": {},
   "outputs": [],
   "source": []
  },
  {
   "cell_type": "code",
   "execution_count": null,
   "id": "0c79698a-ca98-46fc-a58b-d7eb02f779b8",
   "metadata": {},
   "outputs": [],
   "source": []
  }
 ],
 "metadata": {
  "kernelspec": {
   "display_name": "Python 3 (ipykernel)",
   "language": "python",
   "name": "python3"
  },
  "language_info": {
   "codemirror_mode": {
    "name": "ipython",
    "version": 3
   },
   "file_extension": ".py",
   "mimetype": "text/x-python",
   "name": "python",
   "nbconvert_exporter": "python",
   "pygments_lexer": "ipython3",
   "version": "3.11.7"
  }
 },
 "nbformat": 4,
 "nbformat_minor": 5
}
