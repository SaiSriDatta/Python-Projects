{
 "cells": [
  {
   "cell_type": "code",
   "execution_count": 1,
   "id": "8882b495-ac76-46d2-8010-17fd554c557d",
   "metadata": {},
   "outputs": [],
   "source": [
    "#used in data wrangling \n",
    "import pandas as pd\n",
    "import numpy as np\n"
   ]
  },
  {
   "cell_type": "code",
   "execution_count": 3,
   "id": "520d74e4-fb76-4112-a407-f2e8afeb57f2",
   "metadata": {},
   "outputs": [
    {
     "data": {
      "text/plain": [
       "0     A\n",
       "1     b\n",
       "2     G\n",
       "3     G\n",
       "4     H\n",
       "5     J\n",
       "6     1\n",
       "7     2\n",
       "8     3\n",
       "9     h\n",
       "10    j\n",
       "11    h\n",
       "12    j\n",
       "dtype: object"
      ]
     },
     "execution_count": 3,
     "metadata": {},
     "output_type": "execute_result"
    }
   ],
   "source": [
    "first_series = pd.Series(list('AbGGHJ123hjhj'))\n",
    "first_series"
   ]
  },
  {
   "cell_type": "code",
   "execution_count": 5,
   "id": "1bd68ed2-8a63-4952-a30b-73ae0afd8818",
   "metadata": {},
   "outputs": [
    {
     "name": "stdout",
     "output_type": "stream",
     "text": [
      "0      Algeria\n",
      "1       Angola\n",
      "2    Argentina\n",
      "3    Australia\n",
      "4      Austria\n",
      "dtype: object\n"
     ]
    }
   ],
   "source": [
    "# to notice how indexing is done automatically, with data types and objects given\n",
    "np_country = np.array(['Algeria', 'Angola', 'Argentina', 'Australia', 'Austria'])\n",
    "s_country = pd.Series(np_country)\n",
    "print (s_country)\n"
   ]
  },
  {
   "cell_type": "code",
   "execution_count": 17,
   "id": "7d332a0d-7a5a-4788-a230-2df73c54a259",
   "metadata": {},
   "outputs": [
    {
     "name": "stdout",
     "output_type": "stream",
     "text": [
      "Algeria       2255.225482\n",
      "Angola        629.9553062\n",
      "Argentina     11601.63022\n",
      "Australia     25306.82494\n",
      "Austria       27266.40335\n",
      "Bahamas       19466.99052\n",
      "Bangladesh    588.3691778\n",
      "Belarus       2890.345675\n",
      "Belgium       24733.62696\n",
      "Bhutan        1445.760002\n",
      "Brazil        4803.398244\n",
      "Bulgaria      2618.876037\n",
      "Cambodia      590.4521124\n",
      "Cameroon      665.7982328\n",
      "Chile         7122.938458\n",
      "China          2639.54156\n",
      "Colombia        3362.4656\n",
      "Cyprus        15378.16704\n",
      "dtype: object\n"
     ]
    }
   ],
   "source": [
    "# to keep our own index. note index always comes first \n",
    "gdp_dict_country = pd.Series(['2255.225482', '629.9553062', '11601.63022', '25306.82494',\n",
    "        '27266.40335', '19466.99052', '588.3691778', '2890.345675',\n",
    "        '24733.62696', '1445.760002', '4803.398244', '2618.876037',\n",
    "        '590.4521124', '665.7982328', '7122.938458', '2639.54156',\n",
    "        '3362.4656', '15378.16704'],\n",
    "        index =['Algeria', 'Angola', 'Argentina', 'Australia', 'Austria',\n",
    "        'Bahamas', 'Bangladesh', 'Belarus', 'Belgium', 'Bhutan',\n",
    "        'Brazil', 'Bulgaria', 'Cambodia', 'Cameroon', 'Chile', 'China',\n",
    "        'Colombia', 'Cyprus'])\n",
    "print ( gdp_dict_country)"
   ]
  },
  {
   "cell_type": "code",
   "execution_count": 15,
   "id": "fce079bb-ba4a-4ea4-a550-18d206b5dbc3",
   "metadata": {},
   "outputs": [
    {
     "data": {
      "text/plain": [
       "a    10\n",
       "b    10\n",
       "c    10\n",
       "d    10\n",
       "e    10\n",
       "dtype: int64"
      ]
     },
     "execution_count": 15,
     "metadata": {},
     "output_type": "execute_result"
    }
   ],
   "source": [
    "#scalar as index, index is always a collection of some kind \n",
    "scalar_series = pd.Series(10, np.array(['a','b','c','d','e']))\n",
    "scalar_series"
   ]
  },
  {
   "cell_type": "code",
   "execution_count": 18,
   "id": "b89e2981-be88-44ae-8a57-8bb0a07f3053",
   "metadata": {},
   "outputs": [
    {
     "name": "stderr",
     "output_type": "stream",
     "text": [
      "C:\\Users\\ramasastrydatta\\AppData\\Local\\Temp\\ipykernel_7620\\1507494966.py:2: FutureWarning: Series.__getitem__ treating keys as positions is deprecated. In a future version, integer keys will always be treated as labels (consistent with DataFrame behavior). To access a value by position, use `ser.iloc[pos]`\n",
      "  gdp_dict_country[0]\n"
     ]
    },
    {
     "data": {
      "text/plain": [
       "'2255.225482'"
      ]
     },
     "execution_count": 18,
     "metadata": {},
     "output_type": "execute_result"
    }
   ],
   "source": [
    "#access of elements in the series \n",
    "gdp_dict_country[0]"
   ]
  },
  {
   "cell_type": "code",
   "execution_count": 26,
   "id": "639d4073-99b4-46c7-aea1-f29052410718",
   "metadata": {},
   "outputs": [
    {
     "data": {
      "text/plain": [
       "Algeria      2255.225482\n",
       "Angola       629.9553062\n",
       "Argentina    11601.63022\n",
       "Australia    25306.82494\n",
       "Austria      27266.40335\n",
       "Bahamas      19466.99052\n",
       "dtype: object"
      ]
     },
     "execution_count": 26,
     "metadata": {},
     "output_type": "execute_result"
    }
   ],
   "source": [
    "#access first five countries in series \n",
    "gdp_dict_country[0:6]"
   ]
  },
  {
   "cell_type": "code",
   "execution_count": 23,
   "id": "379464c9-9b18-48d6-9493-db8a5d88143c",
   "metadata": {},
   "outputs": [
    {
     "data": {
      "text/plain": [
       "'588.3691778'"
      ]
     },
     "execution_count": 23,
     "metadata": {},
     "output_type": "execute_result"
    }
   ],
   "source": [
    "# look up by name is .loc\n",
    "gdp_dict_country.loc['Bangladesh']"
   ]
  },
  {
   "cell_type": "code",
   "execution_count": 28,
   "id": "b06fda8a-2d8d-4b08-b1d0-e23a678cacdf",
   "metadata": {},
   "outputs": [
    {
     "data": {
      "text/plain": [
       "'588.3691778'"
      ]
     },
     "execution_count": 28,
     "metadata": {},
     "output_type": "execute_result"
    }
   ],
   "source": [
    "#since bangladesh has index '6' entering either input in argument will give same output, but its loc and iloc respectively.\n",
    "gdp_dict_country.iloc[6]"
   ]
  },
  {
   "cell_type": "code",
   "execution_count": 30,
   "id": "021f4b45-3121-4d6e-af5f-3405bab66f62",
   "metadata": {},
   "outputs": [
    {
     "data": {
      "text/plain": [
       "a    11\n",
       "b    22\n",
       "c    33\n",
       "d    44\n",
       "dtype: int64"
      ]
     },
     "execution_count": 30,
     "metadata": {},
     "output_type": "execute_result"
    }
   ],
   "source": [
    "series_one = pd.Series([1,2,3,4],index =['a','b','c','d'])\n",
    "series_two = pd.Series([10,20,30,40],index=['a','b','c','d'])\n",
    "series_one+series_two"
   ]
  },
  {
   "cell_type": "code",
   "execution_count": 31,
   "id": "72fea00a-b8b1-4301-a72d-c1e0c6f8d061",
   "metadata": {},
   "outputs": [
    {
     "data": {
      "text/plain": [
       "a    11\n",
       "b    32\n",
       "c    23\n",
       "d    44\n",
       "dtype: int64"
      ]
     },
     "execution_count": 31,
     "metadata": {},
     "output_type": "execute_result"
    }
   ],
   "source": [
    "#boud to the index \n",
    "series_two = pd.Series([10,20,30,40],index=['a','c','b','d'])\n",
    "series_one+series_two\n"
   ]
  },
  {
   "cell_type": "code",
   "execution_count": 32,
   "id": "f72826f3-6d39-4fae-9c53-cc423f74c314",
   "metadata": {},
   "outputs": [
    {
     "data": {
      "text/plain": [
       "a    11.0\n",
       "b     NaN\n",
       "c    23.0\n",
       "d     NaN\n",
       "e     NaN\n",
       "f     NaN\n",
       "dtype: float64"
      ]
     },
     "execution_count": 32,
     "metadata": {},
     "output_type": "execute_result"
    }
   ],
   "source": [
    "series_two = pd.Series([10,20,30,40],index=['a','c','e','f'])\n",
    "series_one+series_two"
   ]
  },
  {
   "cell_type": "code",
   "execution_count": 33,
   "id": "5c883141-fedf-4f86-87d3-cdaed46889de",
   "metadata": {},
   "outputs": [],
   "source": [
    "# challenges faced due to NaN values.\n",
    "import pandas as pd\n"
   ]
  },
  {
   "cell_type": "code",
   "execution_count": 34,
   "id": "8f7edbe2-cfdc-4922-b998-58efd49bc393",
   "metadata": {},
   "outputs": [],
   "source": [
    "icc_winner_list ={'Year':[2011,2015,2019,2023],'Winners':['India','Australia','England','Australia'],'Venue':['India','Australia','England','India']}"
   ]
  },
  {
   "cell_type": "code",
   "execution_count": 37,
   "id": "fb892d67-c876-422c-b8b7-9b32951ec080",
   "metadata": {},
   "outputs": [
    {
     "data": {
      "text/html": [
       "<div>\n",
       "<style scoped>\n",
       "    .dataframe tbody tr th:only-of-type {\n",
       "        vertical-align: middle;\n",
       "    }\n",
       "\n",
       "    .dataframe tbody tr th {\n",
       "        vertical-align: top;\n",
       "    }\n",
       "\n",
       "    .dataframe thead th {\n",
       "        text-align: right;\n",
       "    }\n",
       "</style>\n",
       "<table border=\"1\" class=\"dataframe\">\n",
       "  <thead>\n",
       "    <tr style=\"text-align: right;\">\n",
       "      <th></th>\n",
       "      <th>Year</th>\n",
       "      <th>Winners</th>\n",
       "      <th>Venue</th>\n",
       "    </tr>\n",
       "  </thead>\n",
       "  <tbody>\n",
       "    <tr>\n",
       "      <th>0</th>\n",
       "      <td>2011</td>\n",
       "      <td>India</td>\n",
       "      <td>India</td>\n",
       "    </tr>\n",
       "    <tr>\n",
       "      <th>1</th>\n",
       "      <td>2015</td>\n",
       "      <td>Australia</td>\n",
       "      <td>Australia</td>\n",
       "    </tr>\n",
       "    <tr>\n",
       "      <th>2</th>\n",
       "      <td>2019</td>\n",
       "      <td>England</td>\n",
       "      <td>England</td>\n",
       "    </tr>\n",
       "    <tr>\n",
       "      <th>3</th>\n",
       "      <td>2023</td>\n",
       "      <td>Australia</td>\n",
       "      <td>India</td>\n",
       "    </tr>\n",
       "  </tbody>\n",
       "</table>\n",
       "</div>"
      ],
      "text/plain": [
       "   Year    Winners      Venue\n",
       "0  2011      India      India\n",
       "1  2015  Australia  Australia\n",
       "2  2019    England    England\n",
       "3  2023  Australia      India"
      ]
     },
     "execution_count": 37,
     "metadata": {},
     "output_type": "execute_result"
    }
   ],
   "source": [
    "df_icc_winner = pd.DataFrame(icc_winner_list)\n",
    "df_icc_winner"
   ]
  },
  {
   "cell_type": "code",
   "execution_count": 38,
   "id": "b231d920-f55b-4bca-a2d5-5c92efa13c5b",
   "metadata": {},
   "outputs": [
    {
     "data": {
      "text/html": [
       "<div>\n",
       "<style scoped>\n",
       "    .dataframe tbody tr th:only-of-type {\n",
       "        vertical-align: middle;\n",
       "    }\n",
       "\n",
       "    .dataframe tbody tr th {\n",
       "        vertical-align: top;\n",
       "    }\n",
       "\n",
       "    .dataframe thead th {\n",
       "        text-align: right;\n",
       "    }\n",
       "</style>\n",
       "<table border=\"1\" class=\"dataframe\">\n",
       "  <thead>\n",
       "    <tr style=\"text-align: right;\">\n",
       "      <th></th>\n",
       "      <th>2011</th>\n",
       "      <th>2023</th>\n",
       "    </tr>\n",
       "  </thead>\n",
       "  <tbody>\n",
       "    <tr>\n",
       "      <th>India</th>\n",
       "      <td>India</td>\n",
       "      <td>Australia</td>\n",
       "    </tr>\n",
       "  </tbody>\n",
       "</table>\n",
       "</div>"
      ],
      "text/plain": [
       "        2011       2023\n",
       "India  India  Australia"
      ]
     },
     "execution_count": 38,
     "metadata": {},
     "output_type": "execute_result"
    }
   ],
   "source": [
    "icc_winner_dict = {2011:{'India':'India'},2023:{'India':'Australia'}}\n",
    "df_icc_winner_dict = pd.DataFrame(icc_winner_dict)\n",
    "df_icc_winner_dict"
   ]
  },
  {
   "cell_type": "code",
   "execution_count": 45,
   "id": "06cb4af0-629e-4e2d-99e5-65a40048a996",
   "metadata": {},
   "outputs": [
    {
     "data": {
      "text/plain": [
       "0    2011\n",
       "1    2015\n",
       "2    2019\n",
       "3    2023\n",
       "Name: Year, dtype: int64"
      ]
     },
     "execution_count": 45,
     "metadata": {},
     "output_type": "execute_result"
    }
   ],
   "source": [
    "#viewing the columns \n",
    "df_icc_winner.Year"
   ]
  },
  {
   "cell_type": "code",
   "execution_count": 46,
   "id": "e8de6876-8875-4bfc-a606-66dd19769ca1",
   "metadata": {},
   "outputs": [
    {
     "data": {
      "text/plain": [
       "<bound method NDFrame.describe of    Year    Winners      Venue\n",
       "0  2011      India      India\n",
       "1  2015  Australia  Australia\n",
       "2  2019    England    England\n",
       "3  2023  Australia      India>"
      ]
     },
     "execution_count": 46,
     "metadata": {},
     "output_type": "execute_result"
    }
   ],
   "source": [
    "#describe to see all content\n",
    "df_icc_winner.describe"
   ]
  },
  {
   "cell_type": "code",
   "execution_count": 48,
   "id": "a899813f-d9ad-497a-aca9-824afe4a5737",
   "metadata": {},
   "outputs": [
    {
     "data": {
      "text/html": [
       "<div>\n",
       "<style scoped>\n",
       "    .dataframe tbody tr th:only-of-type {\n",
       "        vertical-align: middle;\n",
       "    }\n",
       "\n",
       "    .dataframe tbody tr th {\n",
       "        vertical-align: top;\n",
       "    }\n",
       "\n",
       "    .dataframe thead th {\n",
       "        text-align: right;\n",
       "    }\n",
       "</style>\n",
       "<table border=\"1\" class=\"dataframe\">\n",
       "  <thead>\n",
       "    <tr style=\"text-align: right;\">\n",
       "      <th></th>\n",
       "      <th>Winners</th>\n",
       "      <th>Venue</th>\n",
       "    </tr>\n",
       "  </thead>\n",
       "  <tbody>\n",
       "    <tr>\n",
       "      <th>2011</th>\n",
       "      <td>India</td>\n",
       "      <td>India</td>\n",
       "    </tr>\n",
       "    <tr>\n",
       "      <th>2015</th>\n",
       "      <td>Australia</td>\n",
       "      <td>Australia</td>\n",
       "    </tr>\n",
       "    <tr>\n",
       "      <th>2019</th>\n",
       "      <td>England</td>\n",
       "      <td>England</td>\n",
       "    </tr>\n",
       "    <tr>\n",
       "      <th>2023</th>\n",
       "      <td>Australia</td>\n",
       "      <td>India</td>\n",
       "    </tr>\n",
       "  </tbody>\n",
       "</table>\n",
       "</div>"
      ],
      "text/plain": [
       "        Winners      Venue\n",
       "2011      India      India\n",
       "2015  Australia  Australia\n",
       "2019    England    England\n",
       "2023  Australia      India"
      ]
     },
     "execution_count": 48,
     "metadata": {},
     "output_type": "execute_result"
    }
   ],
   "source": [
    "#create dataframe from dict of series\n",
    "winner_series = pd.Series(['India','Australia','England','Australia'],index = [2011,2015,2019,2023])\n",
    "Venue_series = pd.Series(['India','Australia','England','India'],index = [2011,2015,2019,2023])\n",
    "df_winner = pd.DataFrame({'Winners':winner_series,'Venue':Venue_series})\n",
    "df_winner"
   ]
  },
  {
   "cell_type": "code",
   "execution_count": 49,
   "id": "e8d37f7d-8494-47de-b6a5-dc25e17dbc0d",
   "metadata": {},
   "outputs": [],
   "source": [
    "#creating dataframe with dict of ndarray\n",
    "import numpy as np"
   ]
  },
  {
   "cell_type": "code",
   "execution_count": 50,
   "id": "a42dfbe4-28be-4bf6-a0cc-8f790e8f3c1a",
   "metadata": {},
   "outputs": [
    {
     "data": {
      "text/html": [
       "<div>\n",
       "<style scoped>\n",
       "    .dataframe tbody tr th:only-of-type {\n",
       "        vertical-align: middle;\n",
       "    }\n",
       "\n",
       "    .dataframe tbody tr th {\n",
       "        vertical-align: top;\n",
       "    }\n",
       "\n",
       "    .dataframe thead th {\n",
       "        text-align: right;\n",
       "    }\n",
       "</style>\n",
       "<table border=\"1\" class=\"dataframe\">\n",
       "  <thead>\n",
       "    <tr style=\"text-align: right;\">\n",
       "      <th></th>\n",
       "      <th>Year</th>\n",
       "    </tr>\n",
       "  </thead>\n",
       "  <tbody>\n",
       "    <tr>\n",
       "      <th>0</th>\n",
       "      <td>2011</td>\n",
       "    </tr>\n",
       "    <tr>\n",
       "      <th>1</th>\n",
       "      <td>2015</td>\n",
       "    </tr>\n",
       "    <tr>\n",
       "      <th>2</th>\n",
       "      <td>2019</td>\n",
       "    </tr>\n",
       "    <tr>\n",
       "      <th>3</th>\n",
       "      <td>2023</td>\n",
       "    </tr>\n",
       "  </tbody>\n",
       "</table>\n",
       "</div>"
      ],
      "text/plain": [
       "   Year\n",
       "0  2011\n",
       "1  2015\n",
       "2  2019\n",
       "3  2023"
      ]
     },
     "execution_count": 50,
     "metadata": {},
     "output_type": "execute_result"
    }
   ],
   "source": [
    "np_array = np.array([2011,2015,2019,2023])\n",
    "dict_ndarray = {'Year':np_array}\n",
    "df_ndarray=pd.DataFrame(dict_ndarray)\n",
    "df_ndarray"
   ]
  },
  {
   "cell_type": "code",
   "execution_count": 53,
   "id": "94489eb6-df94-45c3-950e-b166dc3ab16c",
   "metadata": {},
   "outputs": [
    {
     "data": {
      "text/html": [
       "<div>\n",
       "<style scoped>\n",
       "    .dataframe tbody tr th:only-of-type {\n",
       "        vertical-align: middle;\n",
       "    }\n",
       "\n",
       "    .dataframe tbody tr th {\n",
       "        vertical-align: top;\n",
       "    }\n",
       "\n",
       "    .dataframe thead th {\n",
       "        text-align: right;\n",
       "    }\n",
       "</style>\n",
       "<table border=\"1\" class=\"dataframe\">\n",
       "  <thead>\n",
       "    <tr style=\"text-align: right;\">\n",
       "      <th></th>\n",
       "      <th>Winners</th>\n",
       "      <th>Venue</th>\n",
       "    </tr>\n",
       "  </thead>\n",
       "  <tbody>\n",
       "    <tr>\n",
       "      <th>2011</th>\n",
       "      <td>India</td>\n",
       "      <td>India</td>\n",
       "    </tr>\n",
       "    <tr>\n",
       "      <th>2015</th>\n",
       "      <td>Australia</td>\n",
       "      <td>Australia</td>\n",
       "    </tr>\n",
       "    <tr>\n",
       "      <th>2019</th>\n",
       "      <td>England</td>\n",
       "      <td>England</td>\n",
       "    </tr>\n",
       "    <tr>\n",
       "      <th>2023</th>\n",
       "      <td>Australia</td>\n",
       "      <td>India</td>\n",
       "    </tr>\n",
       "  </tbody>\n",
       "</table>\n",
       "</div>"
      ],
      "text/plain": [
       "        Winners      Venue\n",
       "2011      India      India\n",
       "2015  Australia  Australia\n",
       "2019    England    England\n",
       "2023  Australia      India"
      ]
     },
     "execution_count": 53,
     "metadata": {},
     "output_type": "execute_result"
    }
   ],
   "source": [
    "#dataframe from a dataframe \n",
    "df_from_df = pd.DataFrame(df_winner)\n",
    "df_from_df"
   ]
  },
  {
   "cell_type": "code",
   "execution_count": 54,
   "id": "0deafff3-bfd8-4098-b762-b962e010bbe6",
   "metadata": {},
   "outputs": [],
   "source": [
    "# View and select data \n",
    "import numpy as np\n",
    "import pandas as pd\n"
   ]
  },
  {
   "cell_type": "code",
   "execution_count": 55,
   "id": "0cf05b33-622b-4623-8236-b73d638b302e",
   "metadata": {},
   "outputs": [
    {
     "data": {
      "text/html": [
       "<div>\n",
       "<style scoped>\n",
       "    .dataframe tbody tr th:only-of-type {\n",
       "        vertical-align: middle;\n",
       "    }\n",
       "\n",
       "    .dataframe tbody tr th {\n",
       "        vertical-align: top;\n",
       "    }\n",
       "\n",
       "    .dataframe thead th {\n",
       "        text-align: right;\n",
       "    }\n",
       "</style>\n",
       "<table border=\"1\" class=\"dataframe\">\n",
       "  <thead>\n",
       "    <tr style=\"text-align: right;\">\n",
       "      <th></th>\n",
       "      <th>Winners</th>\n",
       "      <th>Venue</th>\n",
       "    </tr>\n",
       "  </thead>\n",
       "  <tbody>\n",
       "    <tr>\n",
       "      <th>2011</th>\n",
       "      <td>India</td>\n",
       "      <td>India</td>\n",
       "    </tr>\n",
       "    <tr>\n",
       "      <th>2015</th>\n",
       "      <td>Australia</td>\n",
       "      <td>Australia</td>\n",
       "    </tr>\n",
       "    <tr>\n",
       "      <th>2019</th>\n",
       "      <td>England</td>\n",
       "      <td>England</td>\n",
       "    </tr>\n",
       "    <tr>\n",
       "      <th>2023</th>\n",
       "      <td>Australia</td>\n",
       "      <td>India</td>\n",
       "    </tr>\n",
       "  </tbody>\n",
       "</table>\n",
       "</div>"
      ],
      "text/plain": [
       "        Winners      Venue\n",
       "2011      India      India\n",
       "2015  Australia  Australia\n",
       "2019    England    England\n",
       "2023  Australia      India"
      ]
     },
     "execution_count": 55,
     "metadata": {},
     "output_type": "execute_result"
    }
   ],
   "source": [
    "winner_series = pd.Series(['India','Australia','England','Australia'],index = [2011,2015,2019,2023])\n",
    "Venue_series = pd.Series(['India','Australia','England','India'],index = [2011,2015,2019,2023])\n",
    "df_winner = pd.DataFrame({'Winners':winner_series,'Venue':Venue_series})\n",
    "df_winner"
   ]
  },
  {
   "cell_type": "code",
   "execution_count": 56,
   "id": "463fcff6-fa1a-4b68-b1d6-f6b47f3cf490",
   "metadata": {},
   "outputs": [
    {
     "data": {
      "text/plain": [
       "<bound method NDFrame.describe of         Winners      Venue\n",
       "2011      India      India\n",
       "2015  Australia  Australia\n",
       "2019    England    England\n",
       "2023  Australia      India>"
      ]
     },
     "execution_count": 56,
     "metadata": {},
     "output_type": "execute_result"
    }
   ],
   "source": [
    "df_winner.describe"
   ]
  },
  {
   "cell_type": "code",
   "execution_count": 57,
   "id": "cca79399-c89c-40f8-92e7-71bff1a08348",
   "metadata": {},
   "outputs": [
    {
     "data": {
      "text/html": [
       "<div>\n",
       "<style scoped>\n",
       "    .dataframe tbody tr th:only-of-type {\n",
       "        vertical-align: middle;\n",
       "    }\n",
       "\n",
       "    .dataframe tbody tr th {\n",
       "        vertical-align: top;\n",
       "    }\n",
       "\n",
       "    .dataframe thead th {\n",
       "        text-align: right;\n",
       "    }\n",
       "</style>\n",
       "<table border=\"1\" class=\"dataframe\">\n",
       "  <thead>\n",
       "    <tr style=\"text-align: right;\">\n",
       "      <th></th>\n",
       "      <th>Winners</th>\n",
       "      <th>Venue</th>\n",
       "    </tr>\n",
       "  </thead>\n",
       "  <tbody>\n",
       "    <tr>\n",
       "      <th>2011</th>\n",
       "      <td>India</td>\n",
       "      <td>India</td>\n",
       "    </tr>\n",
       "    <tr>\n",
       "      <th>2015</th>\n",
       "      <td>Australia</td>\n",
       "      <td>Australia</td>\n",
       "    </tr>\n",
       "  </tbody>\n",
       "</table>\n",
       "</div>"
      ],
      "text/plain": [
       "        Winners      Venue\n",
       "2011      India      India\n",
       "2015  Australia  Australia"
      ]
     },
     "execution_count": 57,
     "metadata": {},
     "output_type": "execute_result"
    }
   ],
   "source": [
    "# view from top\n",
    "df_winner.head(2)"
   ]
  },
  {
   "cell_type": "code",
   "execution_count": 61,
   "id": "e0f10b7b-537c-49b2-b9e9-d6cdf31c78c2",
   "metadata": {},
   "outputs": [
    {
     "data": {
      "text/html": [
       "<div>\n",
       "<style scoped>\n",
       "    .dataframe tbody tr th:only-of-type {\n",
       "        vertical-align: middle;\n",
       "    }\n",
       "\n",
       "    .dataframe tbody tr th {\n",
       "        vertical-align: top;\n",
       "    }\n",
       "\n",
       "    .dataframe thead th {\n",
       "        text-align: right;\n",
       "    }\n",
       "</style>\n",
       "<table border=\"1\" class=\"dataframe\">\n",
       "  <thead>\n",
       "    <tr style=\"text-align: right;\">\n",
       "      <th></th>\n",
       "      <th>Winners</th>\n",
       "      <th>Venue</th>\n",
       "    </tr>\n",
       "  </thead>\n",
       "  <tbody>\n",
       "    <tr>\n",
       "      <th>2019</th>\n",
       "      <td>England</td>\n",
       "      <td>England</td>\n",
       "    </tr>\n",
       "    <tr>\n",
       "      <th>2023</th>\n",
       "      <td>Australia</td>\n",
       "      <td>India</td>\n",
       "    </tr>\n",
       "  </tbody>\n",
       "</table>\n",
       "</div>"
      ],
      "text/plain": [
       "        Winners    Venue\n",
       "2019    England  England\n",
       "2023  Australia    India"
      ]
     },
     "execution_count": 61,
     "metadata": {},
     "output_type": "execute_result"
    }
   ],
   "source": [
    "#view from down\n",
    "df_winner.tail(2)"
   ]
  },
  {
   "cell_type": "code",
   "execution_count": 62,
   "id": "7caf0ef4-639f-4762-be4d-d223c9b4bc27",
   "metadata": {},
   "outputs": [
    {
     "data": {
      "text/plain": [
       "Index([2011, 2015, 2019, 2023], dtype='int64')"
      ]
     },
     "execution_count": 62,
     "metadata": {},
     "output_type": "execute_result"
    }
   ],
   "source": [
    "# to view index\n",
    "df_winner.index"
   ]
  },
  {
   "cell_type": "code",
   "execution_count": 63,
   "id": "716cdf2a-461c-4355-baeb-babf42ad289e",
   "metadata": {},
   "outputs": [
    {
     "data": {
      "text/plain": [
       "Index(['Winners', 'Venue'], dtype='object')"
      ]
     },
     "execution_count": 63,
     "metadata": {},
     "output_type": "execute_result"
    }
   ],
   "source": [
    "# to view columns \n",
    "df_winner.columns"
   ]
  },
  {
   "cell_type": "code",
   "execution_count": 64,
   "id": "5d627c88-5fbe-4751-96bc-7dafe2cbfe19",
   "metadata": {},
   "outputs": [
    {
     "data": {
      "text/plain": [
       "2011        India\n",
       "2015    Australia\n",
       "2019      England\n",
       "2023        India\n",
       "Name: Venue, dtype: object"
      ]
     },
     "execution_count": 64,
     "metadata": {},
     "output_type": "execute_result"
    }
   ],
   "source": [
    "#select data \n",
    "df_winner['Venue']"
   ]
  },
  {
   "cell_type": "code",
   "execution_count": 65,
   "id": "96c76046-f6f1-42c4-a56f-f954df735eaf",
   "metadata": {},
   "outputs": [
    {
     "data": {
      "text/plain": [
       "2011        India\n",
       "2015    Australia\n",
       "2019      England\n",
       "2023    Australia\n",
       "Name: Winners, dtype: object"
      ]
     },
     "execution_count": 65,
     "metadata": {},
     "output_type": "execute_result"
    }
   ],
   "source": [
    "df_winner['Winners']"
   ]
  },
  {
   "cell_type": "code",
   "execution_count": 66,
   "id": "e42ada80-6d3b-4b91-9f51-f5a586c550a8",
   "metadata": {},
   "outputs": [
    {
     "data": {
      "text/plain": [
       "Winners    England\n",
       "Venue      England\n",
       "Name: 2019, dtype: object"
      ]
     },
     "execution_count": 66,
     "metadata": {},
     "output_type": "execute_result"
    }
   ],
   "source": [
    "# select based on location using labels\n",
    "df_winner.loc[2019]"
   ]
  },
  {
   "cell_type": "code",
   "execution_count": 67,
   "id": "f2728e23-57b8-4976-8b2c-a276922cb986",
   "metadata": {},
   "outputs": [
    {
     "data": {
      "text/html": [
       "<div>\n",
       "<style scoped>\n",
       "    .dataframe tbody tr th:only-of-type {\n",
       "        vertical-align: middle;\n",
       "    }\n",
       "\n",
       "    .dataframe tbody tr th {\n",
       "        vertical-align: top;\n",
       "    }\n",
       "\n",
       "    .dataframe thead th {\n",
       "        text-align: right;\n",
       "    }\n",
       "</style>\n",
       "<table border=\"1\" class=\"dataframe\">\n",
       "  <thead>\n",
       "    <tr style=\"text-align: right;\">\n",
       "      <th></th>\n",
       "      <th>Winners</th>\n",
       "      <th>Venue</th>\n",
       "    </tr>\n",
       "  </thead>\n",
       "  <tbody>\n",
       "    <tr>\n",
       "      <th>2011</th>\n",
       "      <td>India</td>\n",
       "      <td>India</td>\n",
       "    </tr>\n",
       "    <tr>\n",
       "      <th>2015</th>\n",
       "      <td>Australia</td>\n",
       "      <td>Australia</td>\n",
       "    </tr>\n",
       "    <tr>\n",
       "      <th>2019</th>\n",
       "      <td>England</td>\n",
       "      <td>England</td>\n",
       "    </tr>\n",
       "  </tbody>\n",
       "</table>\n",
       "</div>"
      ],
      "text/plain": [
       "        Winners      Venue\n",
       "2011      India      India\n",
       "2015  Australia  Australia\n",
       "2019    England    England"
      ]
     },
     "execution_count": 67,
     "metadata": {},
     "output_type": "execute_result"
    }
   ],
   "source": [
    "#select using index position\n",
    "df_winner.iloc[0:3]"
   ]
  },
  {
   "cell_type": "code",
   "execution_count": 71,
   "id": "181789a0-f897-49ab-b38a-e079f831c882",
   "metadata": {},
   "outputs": [
    {
     "data": {
      "text/plain": [
       "'England'"
      ]
     },
     "execution_count": 71,
     "metadata": {},
     "output_type": "execute_result"
    }
   ],
   "source": [
    "#select based on index value\n",
    "df_winner.iat[2,1]"
   ]
  },
  {
   "cell_type": "code",
   "execution_count": 77,
   "id": "94da1b1b-348a-4766-b989-529c7e0fdc9b",
   "metadata": {},
   "outputs": [
    {
     "ename": "SyntaxError",
     "evalue": "cannot assign to literal here. Maybe you meant '==' instead of '='? (1717082722.py, line 2)",
     "output_type": "error",
     "traceback": [
      "\u001b[1;36m  Cell \u001b[1;32mIn[77], line 2\u001b[1;36m\u001b[0m\n\u001b[1;33m    df_winner [df_winner['Winners' ='Australia']]\u001b[0m\n\u001b[1;37m                         ^\u001b[0m\n\u001b[1;31mSyntaxError\u001b[0m\u001b[1;31m:\u001b[0m cannot assign to literal here. Maybe you meant '==' instead of '='?\n"
     ]
    }
   ],
   "source": [
    "#select data by condition which is number of times Australia won the world cup\n",
    "df_winner [df_winner['Winners' ='Australia']]"
   ]
  },
  {
   "cell_type": "code",
   "execution_count": 80,
   "id": "c376ad50-3109-476a-9c4c-aa5d1af64376",
   "metadata": {},
   "outputs": [
    {
     "data": {
      "text/plain": [
       "a     NaN\n",
       "b     NaN\n",
       "c    13.0\n",
       "d     NaN\n",
       "e    25.0\n",
       "f     NaN\n",
       "g     NaN\n",
       "h     NaN\n",
       "dtype: float64"
      ]
     },
     "execution_count": 80,
     "metadata": {},
     "output_type": "execute_result"
    }
   ],
   "source": [
    "#missing values NaN : Not a Number \n",
    "series_one = pd.Series([1,2,3,4,5],index =['a','b','c','d','e'])\n",
    "series_two = pd.Series([10,20,30,40,50],index=['c','e','f','g','h'])\n",
    "sum_of_series = series_one+series_two\n",
    "sum_of_series"
   ]
  },
  {
   "cell_type": "code",
   "execution_count": 85,
   "id": "e3bd6098-d3ce-4ef9-bee1-1a667c357b85",
   "metadata": {},
   "outputs": [
    {
     "data": {
      "text/plain": [
       "c    13.0\n",
       "e    25.0\n",
       "dtype: float64"
      ]
     },
     "execution_count": 85,
     "metadata": {},
     "output_type": "execute_result"
    }
   ],
   "source": [
    "#dropna function\n",
    "dropna_s=sum_of_series.dropna()\n",
    "dropna_s"
   ]
  },
  {
   "cell_type": "code",
   "execution_count": 91,
   "id": "e340d732-3565-4e7f-a9b9-fd3cc9a0e888",
   "metadata": {},
   "outputs": [
    {
     "data": {
      "text/plain": [
       "a     0.0\n",
       "b     0.0\n",
       "c    13.0\n",
       "d     0.0\n",
       "e    25.0\n",
       "f     0.0\n",
       "g     0.0\n",
       "h     0.0\n",
       "dtype: float64"
      ]
     },
     "execution_count": 91,
     "metadata": {},
     "output_type": "execute_result"
    }
   ],
   "source": [
    "#fill NaN\n",
    "fillna_s = sum_of_series.fillna(0)\n",
    "fillna_s"
   ]
  },
  {
   "cell_type": "code",
   "execution_count": 93,
   "id": "ed73e09f-f95d-44a4-89db-c8ff6b8b42e3",
   "metadata": {},
   "outputs": [
    {
     "data": {
      "text/plain": [
       "a     1.0\n",
       "b     2.0\n",
       "c    13.0\n",
       "d     4.0\n",
       "e    25.0\n",
       "f    30.0\n",
       "g    40.0\n",
       "h    50.0\n",
       "dtype: float64"
      ]
     },
     "execution_count": 93,
     "metadata": {},
     "output_type": "execute_result"
    }
   ],
   "source": [
    "#3 fill NaN with 0 before operation\n",
    "fill_NaN_with_zero_before_sum = series_one.add(series_two,fill_value=0)\n",
    "fill_NaN_with_zero_before_sum"
   ]
  },
  {
   "cell_type": "code",
   "execution_count": 95,
   "id": "4cc557cb-f354-442b-8360-267d8f40a5eb",
   "metadata": {},
   "outputs": [
    {
     "data": {
      "text/html": [
       "<div>\n",
       "<style scoped>\n",
       "    .dataframe tbody tr th:only-of-type {\n",
       "        vertical-align: middle;\n",
       "    }\n",
       "\n",
       "    .dataframe tbody tr th {\n",
       "        vertical-align: top;\n",
       "    }\n",
       "\n",
       "    .dataframe thead th {\n",
       "        text-align: right;\n",
       "    }\n",
       "</style>\n",
       "<table border=\"1\" class=\"dataframe\">\n",
       "  <thead>\n",
       "    <tr style=\"text-align: right;\">\n",
       "      <th></th>\n",
       "      <th>movie 1</th>\n",
       "      <th>movie 2</th>\n",
       "    </tr>\n",
       "  </thead>\n",
       "  <tbody>\n",
       "    <tr>\n",
       "      <th>Tom</th>\n",
       "      <td>5</td>\n",
       "      <td>4</td>\n",
       "    </tr>\n",
       "    <tr>\n",
       "      <th>Ram</th>\n",
       "      <td>4</td>\n",
       "      <td>5</td>\n",
       "    </tr>\n",
       "    <tr>\n",
       "      <th>Ken</th>\n",
       "      <td>3</td>\n",
       "      <td>2</td>\n",
       "    </tr>\n",
       "    <tr>\n",
       "      <th>Tsu</th>\n",
       "      <td>3</td>\n",
       "      <td>3</td>\n",
       "    </tr>\n",
       "    <tr>\n",
       "      <th>Gus</th>\n",
       "      <td>2</td>\n",
       "      <td>4</td>\n",
       "    </tr>\n",
       "    <tr>\n",
       "      <th>Dre</th>\n",
       "      <td>1</td>\n",
       "      <td>2</td>\n",
       "    </tr>\n",
       "  </tbody>\n",
       "</table>\n",
       "</div>"
      ],
      "text/plain": [
       "     movie 1  movie 2\n",
       "Tom        5        4\n",
       "Ram        4        5\n",
       "Ken        3        2\n",
       "Tsu        3        3\n",
       "Gus        2        4\n",
       "Dre        1        2"
      ]
     },
     "execution_count": 95,
     "metadata": {},
     "output_type": "execute_result"
    }
   ],
   "source": [
    "#DATA OPERATIONS\n",
    "df_movie_rating = pd.DataFrame({'movie 1':[5,4,3,3,2,1],'movie 2' :[4,5,2,3,4,2]},index =['Tom','Ram','Ken','Tsu','Gus','Dre'])\n",
    "df_movie_rating"
   ]
  },
  {
   "cell_type": "code",
   "execution_count": 109,
   "id": "a75c0f02-8b7d-4a58-bd8a-ffd796bfa771",
   "metadata": {},
   "outputs": [
    {
     "ename": "SyntaxError",
     "evalue": "invalid syntax. Maybe you meant '==' or ':=' instead of '='? (500076109.py, line 2)",
     "output_type": "error",
     "traceback": [
      "\u001b[1;36m  Cell \u001b[1;32mIn[109], line 2\u001b[1;36m\u001b[0m\n\u001b[1;33m    if rating=5:\u001b[0m\n\u001b[1;37m       ^\u001b[0m\n\u001b[1;31mSyntaxError\u001b[0m\u001b[1;31m:\u001b[0m invalid syntax. Maybe you meant '==' or ':=' instead of '='?\n"
     ]
    }
   ],
   "source": [
    "def movie_grade(rating):\n",
    "    if rating = 5:\n",
    "        return 'A'\n",
    "    if rating = 4:\n",
    "        return 'B'\n",
    "    if rating = 3:\n",
    "        return 'C'\n",
    "    else :\n",
    "        return 'F'"
   ]
  },
  {
   "cell_type": "code",
   "execution_count": 111,
   "id": "90719a02-de1b-4e4f-b806-3d84ec198954",
   "metadata": {},
   "outputs": [
    {
     "name": "stdout",
     "output_type": "stream",
     "text": [
      "B\n"
     ]
    }
   ],
   "source": [
    "print (movie_grade(4))"
   ]
  },
  {
   "cell_type": "code",
   "execution_count": 112,
   "id": "583643b7-cb41-4ce0-8334-605fec14e6f5",
   "metadata": {},
   "outputs": [
    {
     "name": "stderr",
     "output_type": "stream",
     "text": [
      "C:\\Users\\ramasastrydatta\\AppData\\Local\\Temp\\ipykernel_7620\\3508546455.py:1: FutureWarning: DataFrame.applymap has been deprecated. Use DataFrame.map instead.\n",
      "  df_movie_rating.applymap(movie_grade)\n"
     ]
    },
    {
     "data": {
      "text/html": [
       "<div>\n",
       "<style scoped>\n",
       "    .dataframe tbody tr th:only-of-type {\n",
       "        vertical-align: middle;\n",
       "    }\n",
       "\n",
       "    .dataframe tbody tr th {\n",
       "        vertical-align: top;\n",
       "    }\n",
       "\n",
       "    .dataframe thead th {\n",
       "        text-align: right;\n",
       "    }\n",
       "</style>\n",
       "<table border=\"1\" class=\"dataframe\">\n",
       "  <thead>\n",
       "    <tr style=\"text-align: right;\">\n",
       "      <th></th>\n",
       "      <th>movie 1</th>\n",
       "      <th>movie 2</th>\n",
       "    </tr>\n",
       "  </thead>\n",
       "  <tbody>\n",
       "    <tr>\n",
       "      <th>Tom</th>\n",
       "      <td>A</td>\n",
       "      <td>B</td>\n",
       "    </tr>\n",
       "    <tr>\n",
       "      <th>Ram</th>\n",
       "      <td>B</td>\n",
       "      <td>A</td>\n",
       "    </tr>\n",
       "    <tr>\n",
       "      <th>Ken</th>\n",
       "      <td>C</td>\n",
       "      <td>F</td>\n",
       "    </tr>\n",
       "    <tr>\n",
       "      <th>Tsu</th>\n",
       "      <td>C</td>\n",
       "      <td>C</td>\n",
       "    </tr>\n",
       "    <tr>\n",
       "      <th>Gus</th>\n",
       "      <td>F</td>\n",
       "      <td>B</td>\n",
       "    </tr>\n",
       "    <tr>\n",
       "      <th>Dre</th>\n",
       "      <td>F</td>\n",
       "      <td>F</td>\n",
       "    </tr>\n",
       "  </tbody>\n",
       "</table>\n",
       "</div>"
      ],
      "text/plain": [
       "    movie 1 movie 2\n",
       "Tom       A       B\n",
       "Ram       B       A\n",
       "Ken       C       F\n",
       "Tsu       C       C\n",
       "Gus       F       B\n",
       "Dre       F       F"
      ]
     },
     "execution_count": 112,
     "metadata": {},
     "output_type": "execute_result"
    }
   ],
   "source": [
    "#applymap method\n",
    "df_movie_rating.applymap(movie_grade)"
   ]
  },
  {
   "cell_type": "code",
   "execution_count": 113,
   "id": "f7ccd7dc-09e0-46c3-894e-389ed1b932be",
   "metadata": {},
   "outputs": [
    {
     "data": {
      "text/html": [
       "<div>\n",
       "<style scoped>\n",
       "    .dataframe tbody tr th:only-of-type {\n",
       "        vertical-align: middle;\n",
       "    }\n",
       "\n",
       "    .dataframe tbody tr th {\n",
       "        vertical-align: top;\n",
       "    }\n",
       "\n",
       "    .dataframe thead th {\n",
       "        text-align: right;\n",
       "    }\n",
       "</style>\n",
       "<table border=\"1\" class=\"dataframe\">\n",
       "  <thead>\n",
       "    <tr style=\"text-align: right;\">\n",
       "      <th></th>\n",
       "      <th>Test1</th>\n",
       "      <th>Test2</th>\n",
       "    </tr>\n",
       "  </thead>\n",
       "  <tbody>\n",
       "    <tr>\n",
       "      <th>Ram</th>\n",
       "      <td>23</td>\n",
       "      <td>44</td>\n",
       "    </tr>\n",
       "    <tr>\n",
       "      <th>Shyam</th>\n",
       "      <td>34</td>\n",
       "      <td>40</td>\n",
       "    </tr>\n",
       "    <tr>\n",
       "      <th>Kris</th>\n",
       "      <td>45</td>\n",
       "      <td>49</td>\n",
       "    </tr>\n",
       "    <tr>\n",
       "      <th>Shiv</th>\n",
       "      <td>49</td>\n",
       "      <td>49</td>\n",
       "    </tr>\n",
       "    <tr>\n",
       "      <th>Indr</th>\n",
       "      <td>41</td>\n",
       "      <td>46</td>\n",
       "    </tr>\n",
       "    <tr>\n",
       "      <th>Ayan</th>\n",
       "      <td>39</td>\n",
       "      <td>43</td>\n",
       "    </tr>\n",
       "  </tbody>\n",
       "</table>\n",
       "</div>"
      ],
      "text/plain": [
       "       Test1  Test2\n",
       "Ram       23     44\n",
       "Shyam     34     40\n",
       "Kris      45     49\n",
       "Shiv      49     49\n",
       "Indr      41     46\n",
       "Ayan      39     43"
      ]
     },
     "execution_count": 113,
     "metadata": {},
     "output_type": "execute_result"
    }
   ],
   "source": [
    "#use of STATS\n",
    "df_test_scores = pd.DataFrame({'Test1' : [23,34,45,49,41,39],'Test2' : [44,40,49,49,46,43]},index = ['Ram','Shyam','Kris','Shiv','Indr','Ayan'])\n",
    "df_test_scores"
   ]
  },
  {
   "cell_type": "code",
   "execution_count": 114,
   "id": "c4ac3b04-3225-46a9-955e-62976c07202b",
   "metadata": {},
   "outputs": [
    {
     "data": {
      "text/plain": [
       "Test1    49\n",
       "Test2    49\n",
       "dtype: int64"
      ]
     },
     "execution_count": 114,
     "metadata": {},
     "output_type": "execute_result"
    }
   ],
   "source": [
    "df_test_scores.max()"
   ]
  },
  {
   "cell_type": "code",
   "execution_count": 115,
   "id": "d71b9258-6710-4b61-a1f3-1edfffe1a2a0",
   "metadata": {},
   "outputs": [
    {
     "data": {
      "text/plain": [
       "Test1    38.500000\n",
       "Test2    45.166667\n",
       "dtype: float64"
      ]
     },
     "execution_count": 115,
     "metadata": {},
     "output_type": "execute_result"
    }
   ],
   "source": [
    "df_test_scores.mean()"
   ]
  },
  {
   "cell_type": "code",
   "execution_count": 116,
   "id": "daed607d-292e-4d30-a51a-f5b840c8ae5b",
   "metadata": {},
   "outputs": [
    {
     "data": {
      "text/plain": [
       "Test1    9.159694\n",
       "Test2    3.544949\n",
       "dtype: float64"
      ]
     },
     "execution_count": 116,
     "metadata": {},
     "output_type": "execute_result"
    }
   ],
   "source": [
    "df_test_scores.std()"
   ]
  },
  {
   "cell_type": "code",
   "execution_count": 117,
   "id": "0b740d69-5865-4984-bd54-56c2dfd1b100",
   "metadata": {},
   "outputs": [
    {
     "data": {
      "text/html": [
       "<div>\n",
       "<style scoped>\n",
       "    .dataframe tbody tr th:only-of-type {\n",
       "        vertical-align: middle;\n",
       "    }\n",
       "\n",
       "    .dataframe tbody tr th {\n",
       "        vertical-align: top;\n",
       "    }\n",
       "\n",
       "    .dataframe thead th {\n",
       "        text-align: right;\n",
       "    }\n",
       "</style>\n",
       "<table border=\"1\" class=\"dataframe\">\n",
       "  <thead>\n",
       "    <tr style=\"text-align: right;\">\n",
       "      <th></th>\n",
       "      <th>movie 1</th>\n",
       "      <th>movie 2</th>\n",
       "    </tr>\n",
       "  </thead>\n",
       "  <tbody>\n",
       "    <tr>\n",
       "      <th>Tom</th>\n",
       "      <td>5</td>\n",
       "      <td>4</td>\n",
       "    </tr>\n",
       "    <tr>\n",
       "      <th>Ram</th>\n",
       "      <td>4</td>\n",
       "      <td>5</td>\n",
       "    </tr>\n",
       "    <tr>\n",
       "      <th>Ken</th>\n",
       "      <td>3</td>\n",
       "      <td>2</td>\n",
       "    </tr>\n",
       "    <tr>\n",
       "      <th>Tsu</th>\n",
       "      <td>3</td>\n",
       "      <td>3</td>\n",
       "    </tr>\n",
       "    <tr>\n",
       "      <th>Gus</th>\n",
       "      <td>2</td>\n",
       "      <td>4</td>\n",
       "    </tr>\n",
       "    <tr>\n",
       "      <th>Dre</th>\n",
       "      <td>1</td>\n",
       "      <td>2</td>\n",
       "    </tr>\n",
       "  </tbody>\n",
       "</table>\n",
       "</div>"
      ],
      "text/plain": [
       "     movie 1  movie 2\n",
       "Tom        5        4\n",
       "Ram        4        5\n",
       "Ken        3        2\n",
       "Tsu        3        3\n",
       "Gus        2        4\n",
       "Dre        1        2"
      ]
     },
     "execution_count": 117,
     "metadata": {},
     "output_type": "execute_result"
    }
   ],
   "source": [
    "#use of GROUPBY\n",
    "df_movie_rating = pd.DataFrame({'movie 1':[5,4,3,3,2,1],'movie 2' :[4,5,2,3,4,2]},index =['Tom','Ram','Ken','Tsu','Gus','Dre'])\n",
    "df_movie_rating"
   ]
  },
  {
   "cell_type": "code",
   "execution_count": 120,
   "id": "272c8d1a-0ec1-4a31-800d-aa89fc815e15",
   "metadata": {},
   "outputs": [
    {
     "data": {
      "text/html": [
       "<div>\n",
       "<style scoped>\n",
       "    .dataframe tbody tr th:only-of-type {\n",
       "        vertical-align: middle;\n",
       "    }\n",
       "\n",
       "    .dataframe tbody tr th {\n",
       "        vertical-align: top;\n",
       "    }\n",
       "\n",
       "    .dataframe thead th {\n",
       "        text-align: right;\n",
       "    }\n",
       "</style>\n",
       "<table border=\"1\" class=\"dataframe\">\n",
       "  <thead>\n",
       "    <tr style=\"text-align: right;\">\n",
       "      <th></th>\n",
       "      <th>movie 1</th>\n",
       "      <th>movie 2</th>\n",
       "    </tr>\n",
       "  </thead>\n",
       "  <tbody>\n",
       "    <tr>\n",
       "      <th>Ken</th>\n",
       "      <td>3</td>\n",
       "      <td>2</td>\n",
       "    </tr>\n",
       "    <tr>\n",
       "      <th>Tsu</th>\n",
       "      <td>3</td>\n",
       "      <td>3</td>\n",
       "    </tr>\n",
       "  </tbody>\n",
       "</table>\n",
       "</div>"
      ],
      "text/plain": [
       "     movie 1  movie 2\n",
       "Ken        3        2\n",
       "Tsu        3        3"
      ]
     },
     "execution_count": 120,
     "metadata": {},
     "output_type": "execute_result"
    }
   ],
   "source": [
    "grouped = df_movie_rating.groupby('movie 1')\n",
    "grp_data = grouped.get_group(3)\n",
    "grp_data\n"
   ]
  },
  {
   "cell_type": "code",
   "execution_count": 121,
   "id": "93cc9f98-a19a-46f3-b7fa-2d74548bb25b",
   "metadata": {},
   "outputs": [
    {
     "data": {
      "text/html": [
       "<div>\n",
       "<style scoped>\n",
       "    .dataframe tbody tr th:only-of-type {\n",
       "        vertical-align: middle;\n",
       "    }\n",
       "\n",
       "    .dataframe tbody tr th {\n",
       "        vertical-align: top;\n",
       "    }\n",
       "\n",
       "    .dataframe thead th {\n",
       "        text-align: right;\n",
       "    }\n",
       "</style>\n",
       "<table border=\"1\" class=\"dataframe\">\n",
       "  <thead>\n",
       "    <tr style=\"text-align: right;\">\n",
       "      <th></th>\n",
       "      <th>movie 1</th>\n",
       "      <th>movie 2</th>\n",
       "    </tr>\n",
       "  </thead>\n",
       "  <tbody>\n",
       "    <tr>\n",
       "      <th>Dre</th>\n",
       "      <td>1</td>\n",
       "      <td>2</td>\n",
       "    </tr>\n",
       "    <tr>\n",
       "      <th>Gus</th>\n",
       "      <td>2</td>\n",
       "      <td>4</td>\n",
       "    </tr>\n",
       "    <tr>\n",
       "      <th>Ken</th>\n",
       "      <td>3</td>\n",
       "      <td>2</td>\n",
       "    </tr>\n",
       "    <tr>\n",
       "      <th>Tsu</th>\n",
       "      <td>3</td>\n",
       "      <td>3</td>\n",
       "    </tr>\n",
       "    <tr>\n",
       "      <th>Ram</th>\n",
       "      <td>4</td>\n",
       "      <td>5</td>\n",
       "    </tr>\n",
       "    <tr>\n",
       "      <th>Tom</th>\n",
       "      <td>5</td>\n",
       "      <td>4</td>\n",
       "    </tr>\n",
       "  </tbody>\n",
       "</table>\n",
       "</div>"
      ],
      "text/plain": [
       "     movie 1  movie 2\n",
       "Dre        1        2\n",
       "Gus        2        4\n",
       "Ken        3        2\n",
       "Tsu        3        3\n",
       "Ram        4        5\n",
       "Tom        5        4"
      ]
     },
     "execution_count": 121,
     "metadata": {},
     "output_type": "execute_result"
    }
   ],
   "source": [
    "#sorting \n",
    "df_movie_rating.sort_values('movie 1')"
   ]
  },
  {
   "cell_type": "code",
   "execution_count": 122,
   "id": "95b11415-ce22-4ba6-9fb8-c6ebf83c932b",
   "metadata": {},
   "outputs": [],
   "source": [
    "#standardize datasets\n",
    "def standardize_tests(test):\n",
    "    return (test-test.mean())/test.std()"
   ]
  },
  {
   "cell_type": "code",
   "execution_count": 124,
   "id": "1017a170-54d8-4e82-a172-16857c570b9f",
   "metadata": {},
   "outputs": [
    {
     "data": {
      "text/plain": [
       "Ram     -1.692196\n",
       "Shyam   -0.491283\n",
       "Kris     0.709631\n",
       "Shiv     1.146326\n",
       "Indr     0.272935\n",
       "Ayan     0.054587\n",
       "Name: Test1, dtype: float64"
      ]
     },
     "execution_count": 124,
     "metadata": {},
     "output_type": "execute_result"
    }
   ],
   "source": [
    "standardize_tests(df_test_scores['Test1'])"
   ]
  },
  {
   "cell_type": "code",
   "execution_count": 126,
   "id": "be44ec90-cc0c-4fa8-9983-d2b84fb83de5",
   "metadata": {},
   "outputs": [],
   "source": [
    "# for both tests : applying the function to the entire dataset \n",
    "import numpy as np\n",
    "import pandas as pd\n",
    "def standardize_test_scores(datafrm):\n",
    "    return datafrm.apply(standardize_tests)"
   ]
  },
  {
   "cell_type": "code",
   "execution_count": 127,
   "id": "c84e792d-8edc-42b4-9e45-65424bb683ce",
   "metadata": {},
   "outputs": [
    {
     "data": {
      "text/html": [
       "<div>\n",
       "<style scoped>\n",
       "    .dataframe tbody tr th:only-of-type {\n",
       "        vertical-align: middle;\n",
       "    }\n",
       "\n",
       "    .dataframe tbody tr th {\n",
       "        vertical-align: top;\n",
       "    }\n",
       "\n",
       "    .dataframe thead th {\n",
       "        text-align: right;\n",
       "    }\n",
       "</style>\n",
       "<table border=\"1\" class=\"dataframe\">\n",
       "  <thead>\n",
       "    <tr style=\"text-align: right;\">\n",
       "      <th></th>\n",
       "      <th>Test1</th>\n",
       "      <th>Test2</th>\n",
       "    </tr>\n",
       "  </thead>\n",
       "  <tbody>\n",
       "    <tr>\n",
       "      <th>Ram</th>\n",
       "      <td>-1.692196</td>\n",
       "      <td>-0.329107</td>\n",
       "    </tr>\n",
       "    <tr>\n",
       "      <th>Shyam</th>\n",
       "      <td>-0.491283</td>\n",
       "      <td>-1.457473</td>\n",
       "    </tr>\n",
       "    <tr>\n",
       "      <th>Kris</th>\n",
       "      <td>0.709631</td>\n",
       "      <td>1.081351</td>\n",
       "    </tr>\n",
       "    <tr>\n",
       "      <th>Shiv</th>\n",
       "      <td>1.146326</td>\n",
       "      <td>1.081351</td>\n",
       "    </tr>\n",
       "    <tr>\n",
       "      <th>Indr</th>\n",
       "      <td>0.272935</td>\n",
       "      <td>0.235076</td>\n",
       "    </tr>\n",
       "    <tr>\n",
       "      <th>Ayan</th>\n",
       "      <td>0.054587</td>\n",
       "      <td>-0.611198</td>\n",
       "    </tr>\n",
       "  </tbody>\n",
       "</table>\n",
       "</div>"
      ],
      "text/plain": [
       "          Test1     Test2\n",
       "Ram   -1.692196 -0.329107\n",
       "Shyam -0.491283 -1.457473\n",
       "Kris   0.709631  1.081351\n",
       "Shiv   1.146326  1.081351\n",
       "Indr   0.272935  0.235076\n",
       "Ayan   0.054587 -0.611198"
      ]
     },
     "execution_count": 127,
     "metadata": {},
     "output_type": "execute_result"
    }
   ],
   "source": [
    "standardize_test_scores(df_test_scores)"
   ]
  },
  {
   "cell_type": "code",
   "execution_count": 128,
   "id": "23310c25-85bb-4cb9-901e-ddd88b798542",
   "metadata": {},
   "outputs": [],
   "source": [
    "# DATA OPERATIONS ; MERGE, DUPLICATE & CONCATENATE\n",
    "# IMPORT PANDAS\n",
    "import pandas as pd\n"
   ]
  },
  {
   "cell_type": "code",
   "execution_count": 129,
   "id": "3200495c-347d-4010-8e95-64cc0c593f76",
   "metadata": {},
   "outputs": [],
   "source": [
    "#define student data frome with math data \n",
    "df_student_math =pd.DataFrame ({'student':['Tom','Ram','Ken','Tsu','Gus','Dre'], 'ID':[10,56,31,85,9,22] })\n"
   ]
  },
  {
   "cell_type": "code",
   "execution_count": 130,
   "id": "a637f7ae-c2ae-4bfa-8f8d-dbcf9f526acd",
   "metadata": {},
   "outputs": [],
   "source": [
    "#science data set \n",
    "df_student_science = pd.DataFrame({'student':['Tom','Tsu','Dre'], 'ID':[10,12,22] })"
   ]
  },
  {
   "cell_type": "code",
   "execution_count": 132,
   "id": "7ac30415-c339-40f3-b08f-df62ba0a5a15",
   "metadata": {},
   "outputs": [
    {
     "data": {
      "text/html": [
       "<div>\n",
       "<style scoped>\n",
       "    .dataframe tbody tr th:only-of-type {\n",
       "        vertical-align: middle;\n",
       "    }\n",
       "\n",
       "    .dataframe tbody tr th {\n",
       "        vertical-align: top;\n",
       "    }\n",
       "\n",
       "    .dataframe thead th {\n",
       "        text-align: right;\n",
       "    }\n",
       "</style>\n",
       "<table border=\"1\" class=\"dataframe\">\n",
       "  <thead>\n",
       "    <tr style=\"text-align: right;\">\n",
       "      <th></th>\n",
       "      <th>student</th>\n",
       "      <th>ID</th>\n",
       "    </tr>\n",
       "  </thead>\n",
       "  <tbody>\n",
       "    <tr>\n",
       "      <th>0</th>\n",
       "      <td>Tom</td>\n",
       "      <td>10</td>\n",
       "    </tr>\n",
       "    <tr>\n",
       "      <th>1</th>\n",
       "      <td>Dre</td>\n",
       "      <td>22</td>\n",
       "    </tr>\n",
       "  </tbody>\n",
       "</table>\n",
       "</div>"
      ],
      "text/plain": [
       "  student  ID\n",
       "0     Tom  10\n",
       "1     Dre  22"
      ]
     },
     "execution_count": 132,
     "metadata": {},
     "output_type": "execute_result"
    }
   ],
   "source": [
    "#merge the dataframes to give a single dataframe \n",
    "pd.merge(df_student_math,df_student_science)"
   ]
  },
  {
   "cell_type": "code",
   "execution_count": 133,
   "id": "544498f0-df03-496d-8dc3-cbd8ac7dd0c0",
   "metadata": {},
   "outputs": [
    {
     "data": {
      "text/html": [
       "<div>\n",
       "<style scoped>\n",
       "    .dataframe tbody tr th:only-of-type {\n",
       "        vertical-align: middle;\n",
       "    }\n",
       "\n",
       "    .dataframe tbody tr th {\n",
       "        vertical-align: top;\n",
       "    }\n",
       "\n",
       "    .dataframe thead th {\n",
       "        text-align: right;\n",
       "    }\n",
       "</style>\n",
       "<table border=\"1\" class=\"dataframe\">\n",
       "  <thead>\n",
       "    <tr style=\"text-align: right;\">\n",
       "      <th></th>\n",
       "      <th>student</th>\n",
       "      <th>ID_x</th>\n",
       "      <th>ID_y</th>\n",
       "    </tr>\n",
       "  </thead>\n",
       "  <tbody>\n",
       "    <tr>\n",
       "      <th>0</th>\n",
       "      <td>Tom</td>\n",
       "      <td>10</td>\n",
       "      <td>10</td>\n",
       "    </tr>\n",
       "    <tr>\n",
       "      <th>1</th>\n",
       "      <td>Tsu</td>\n",
       "      <td>85</td>\n",
       "      <td>12</td>\n",
       "    </tr>\n",
       "    <tr>\n",
       "      <th>2</th>\n",
       "      <td>Dre</td>\n",
       "      <td>22</td>\n",
       "      <td>22</td>\n",
       "    </tr>\n",
       "  </tbody>\n",
       "</table>\n",
       "</div>"
      ],
      "text/plain": [
       "  student  ID_x  ID_y\n",
       "0     Tom    10    10\n",
       "1     Tsu    85    12\n",
       "2     Dre    22    22"
      ]
     },
     "execution_count": 133,
     "metadata": {},
     "output_type": "execute_result"
    }
   ],
   "source": [
    "#merge with key on student : returns common students\n",
    "pd.merge(df_student_math,df_student_science, on='student')"
   ]
  },
  {
   "cell_type": "code",
   "execution_count": 5,
   "id": "26314f2d-c6c6-4c9a-a45a-1fb353489955",
   "metadata": {},
   "outputs": [
    {
     "data": {
      "text/html": [
       "<div>\n",
       "<style scoped>\n",
       "    .dataframe tbody tr th:only-of-type {\n",
       "        vertical-align: middle;\n",
       "    }\n",
       "\n",
       "    .dataframe tbody tr th {\n",
       "        vertical-align: top;\n",
       "    }\n",
       "\n",
       "    .dataframe thead th {\n",
       "        text-align: right;\n",
       "    }\n",
       "</style>\n",
       "<table border=\"1\" class=\"dataframe\">\n",
       "  <thead>\n",
       "    <tr style=\"text-align: right;\">\n",
       "      <th></th>\n",
       "      <th>student_x</th>\n",
       "      <th>ID</th>\n",
       "      <th>student_y</th>\n",
       "    </tr>\n",
       "  </thead>\n",
       "  <tbody>\n",
       "    <tr>\n",
       "      <th>0</th>\n",
       "      <td>Tom</td>\n",
       "      <td>10</td>\n",
       "      <td>Tom</td>\n",
       "    </tr>\n",
       "    <tr>\n",
       "      <th>1</th>\n",
       "      <td>Ram</td>\n",
       "      <td>56</td>\n",
       "      <td>X</td>\n",
       "    </tr>\n",
       "    <tr>\n",
       "      <th>2</th>\n",
       "      <td>Ken</td>\n",
       "      <td>31</td>\n",
       "      <td>X</td>\n",
       "    </tr>\n",
       "    <tr>\n",
       "      <th>3</th>\n",
       "      <td>Tsu</td>\n",
       "      <td>85</td>\n",
       "      <td>X</td>\n",
       "    </tr>\n",
       "    <tr>\n",
       "      <th>4</th>\n",
       "      <td>Gus</td>\n",
       "      <td>9</td>\n",
       "      <td>X</td>\n",
       "    </tr>\n",
       "    <tr>\n",
       "      <th>5</th>\n",
       "      <td>Dre</td>\n",
       "      <td>22</td>\n",
       "      <td>Dre</td>\n",
       "    </tr>\n",
       "  </tbody>\n",
       "</table>\n",
       "</div>"
      ],
      "text/plain": [
       "  student_x  ID student_y\n",
       "0       Tom  10       Tom\n",
       "1       Ram  56         X\n",
       "2       Ken  31         X\n",
       "3       Tsu  85         X\n",
       "4       Gus   9         X\n",
       "5       Dre  22       Dre"
      ]
     },
     "execution_count": 5,
     "metadata": {},
     "output_type": "execute_result"
    }
   ],
   "source": [
    "#merge on key values and also fill X in spaces of NaN\n",
    "import pandas as pd\n",
    "df_student_math =pd.DataFrame ({'student':['Tom','Ram','Ken','Tsu','Gus','Dre'], 'ID':[10,56,31,85,9,22] })\n",
    "df_student_science = pd.DataFrame({'student':['Tom','Tsu','Dre'], 'ID':[10,12,22] })\n",
    "\n",
    "pd.merge(df_student_math,df_student_science,how='left', on='ID').fillna('X')"
   ]
  },
  {
   "cell_type": "code",
   "execution_count": 16,
   "id": "e2320095-26eb-429a-8bda-4f18fe8c16cc",
   "metadata": {},
   "outputs": [
    {
     "data": {
      "text/html": [
       "<div>\n",
       "<style scoped>\n",
       "    .dataframe tbody tr th:only-of-type {\n",
       "        vertical-align: middle;\n",
       "    }\n",
       "\n",
       "    .dataframe tbody tr th {\n",
       "        vertical-align: top;\n",
       "    }\n",
       "\n",
       "    .dataframe thead th {\n",
       "        text-align: right;\n",
       "    }\n",
       "</style>\n",
       "<table border=\"1\" class=\"dataframe\">\n",
       "  <thead>\n",
       "    <tr style=\"text-align: right;\">\n",
       "      <th></th>\n",
       "      <th>student</th>\n",
       "      <th>ID</th>\n",
       "    </tr>\n",
       "  </thead>\n",
       "  <tbody>\n",
       "    <tr>\n",
       "      <th>0</th>\n",
       "      <td>Tom</td>\n",
       "      <td>10</td>\n",
       "    </tr>\n",
       "    <tr>\n",
       "      <th>1</th>\n",
       "      <td>Ram</td>\n",
       "      <td>56</td>\n",
       "    </tr>\n",
       "    <tr>\n",
       "      <th>2</th>\n",
       "      <td>Ken</td>\n",
       "      <td>31</td>\n",
       "    </tr>\n",
       "    <tr>\n",
       "      <th>3</th>\n",
       "      <td>Tsu</td>\n",
       "      <td>85</td>\n",
       "    </tr>\n",
       "    <tr>\n",
       "      <th>4</th>\n",
       "      <td>Gus</td>\n",
       "      <td>9</td>\n",
       "    </tr>\n",
       "    <tr>\n",
       "      <th>5</th>\n",
       "      <td>Dre</td>\n",
       "      <td>22</td>\n",
       "    </tr>\n",
       "    <tr>\n",
       "      <th>6</th>\n",
       "      <td>Tom</td>\n",
       "      <td>10</td>\n",
       "    </tr>\n",
       "    <tr>\n",
       "      <th>7</th>\n",
       "      <td>Tsu</td>\n",
       "      <td>12</td>\n",
       "    </tr>\n",
       "    <tr>\n",
       "      <th>8</th>\n",
       "      <td>Dre</td>\n",
       "      <td>22</td>\n",
       "    </tr>\n",
       "  </tbody>\n",
       "</table>\n",
       "</div>"
      ],
      "text/plain": [
       "  student  ID\n",
       "0     Tom  10\n",
       "1     Ram  56\n",
       "2     Ken  31\n",
       "3     Tsu  85\n",
       "4     Gus   9\n",
       "5     Dre  22\n",
       "6     Tom  10\n",
       "7     Tsu  12\n",
       "8     Dre  22"
      ]
     },
     "execution_count": 16,
     "metadata": {},
     "output_type": "execute_result"
    }
   ],
   "source": [
    "#concatenate dataframes\n",
    "pd.concat([df_student_math,df_student_science],ignore_index = True)\n"
   ]
  },
  {
   "cell_type": "code",
   "execution_count": 8,
   "id": "9cda84ee-0255-4a85-a562-c458acb7a375",
   "metadata": {},
   "outputs": [
    {
     "data": {
      "text/html": [
       "<div>\n",
       "<style scoped>\n",
       "    .dataframe tbody tr th:only-of-type {\n",
       "        vertical-align: middle;\n",
       "    }\n",
       "\n",
       "    .dataframe tbody tr th {\n",
       "        vertical-align: top;\n",
       "    }\n",
       "\n",
       "    .dataframe thead th {\n",
       "        text-align: right;\n",
       "    }\n",
       "</style>\n",
       "<table border=\"1\" class=\"dataframe\">\n",
       "  <thead>\n",
       "    <tr style=\"text-align: right;\">\n",
       "      <th></th>\n",
       "      <th>student</th>\n",
       "      <th>ID</th>\n",
       "    </tr>\n",
       "  </thead>\n",
       "  <tbody>\n",
       "    <tr>\n",
       "      <th>0</th>\n",
       "      <td>Tom</td>\n",
       "      <td>10</td>\n",
       "    </tr>\n",
       "    <tr>\n",
       "      <th>1</th>\n",
       "      <td>Ram</td>\n",
       "      <td>56</td>\n",
       "    </tr>\n",
       "    <tr>\n",
       "      <th>2</th>\n",
       "      <td>Ken</td>\n",
       "      <td>31</td>\n",
       "    </tr>\n",
       "    <tr>\n",
       "      <th>3</th>\n",
       "      <td>Tom</td>\n",
       "      <td>10</td>\n",
       "    </tr>\n",
       "    <tr>\n",
       "      <th>4</th>\n",
       "      <td>Ken</td>\n",
       "      <td>31</td>\n",
       "    </tr>\n",
       "    <tr>\n",
       "      <th>5</th>\n",
       "      <td>Dre</td>\n",
       "      <td>22</td>\n",
       "    </tr>\n",
       "  </tbody>\n",
       "</table>\n",
       "</div>"
      ],
      "text/plain": [
       "  student  ID\n",
       "0     Tom  10\n",
       "1     Ram  56\n",
       "2     Ken  31\n",
       "3     Tom  10\n",
       "4     Ken  31\n",
       "5     Dre  22"
      ]
     },
     "execution_count": 8,
     "metadata": {},
     "output_type": "execute_result"
    }
   ],
   "source": [
    "#new dataframe \n",
    "df_new_survey =pd.DataFrame ({'student':['Tom','Ram','Ken','Tom','Ken','Dre'], 'ID':[10,56,31,10,31,22] })\n",
    "df_new_survey"
   ]
  },
  {
   "cell_type": "code",
   "execution_count": 9,
   "id": "24c9dd83-2391-4a72-8843-7636f1d51418",
   "metadata": {},
   "outputs": [
    {
     "data": {
      "text/plain": [
       "0    False\n",
       "1    False\n",
       "2    False\n",
       "3     True\n",
       "4     True\n",
       "5    False\n",
       "dtype: bool"
      ]
     },
     "execution_count": 9,
     "metadata": {},
     "output_type": "execute_result"
    }
   ],
   "source": [
    "#check for duplicate value, true for duplicated & false for not duplicated\n",
    "df_new_survey.duplicated()"
   ]
  },
  {
   "cell_type": "code",
   "execution_count": 10,
   "id": "c38ebd6f-3116-4074-b31a-fb08829d29c9",
   "metadata": {},
   "outputs": [
    {
     "data": {
      "text/html": [
       "<div>\n",
       "<style scoped>\n",
       "    .dataframe tbody tr th:only-of-type {\n",
       "        vertical-align: middle;\n",
       "    }\n",
       "\n",
       "    .dataframe tbody tr th {\n",
       "        vertical-align: top;\n",
       "    }\n",
       "\n",
       "    .dataframe thead th {\n",
       "        text-align: right;\n",
       "    }\n",
       "</style>\n",
       "<table border=\"1\" class=\"dataframe\">\n",
       "  <thead>\n",
       "    <tr style=\"text-align: right;\">\n",
       "      <th></th>\n",
       "      <th>student</th>\n",
       "      <th>ID</th>\n",
       "    </tr>\n",
       "  </thead>\n",
       "  <tbody>\n",
       "    <tr>\n",
       "      <th>0</th>\n",
       "      <td>Tom</td>\n",
       "      <td>10</td>\n",
       "    </tr>\n",
       "    <tr>\n",
       "      <th>1</th>\n",
       "      <td>Ram</td>\n",
       "      <td>56</td>\n",
       "    </tr>\n",
       "    <tr>\n",
       "      <th>2</th>\n",
       "      <td>Ken</td>\n",
       "      <td>31</td>\n",
       "    </tr>\n",
       "    <tr>\n",
       "      <th>5</th>\n",
       "      <td>Dre</td>\n",
       "      <td>22</td>\n",
       "    </tr>\n",
       "  </tbody>\n",
       "</table>\n",
       "</div>"
      ],
      "text/plain": [
       "  student  ID\n",
       "0     Tom  10\n",
       "1     Ram  56\n",
       "2     Ken  31\n",
       "5     Dre  22"
      ]
     },
     "execution_count": 10,
     "metadata": {},
     "output_type": "execute_result"
    }
   ],
   "source": [
    "#drop duplicate values with student as key\n",
    "df_new_survey.drop_duplicates('student')"
   ]
  },
  {
   "cell_type": "code",
   "execution_count": 18,
   "id": "283733aa-c9b3-4517-8bdb-2c26cf4d3785",
   "metadata": {},
   "outputs": [
    {
     "data": {
      "text/html": [
       "<div>\n",
       "<style scoped>\n",
       "    .dataframe tbody tr th:only-of-type {\n",
       "        vertical-align: middle;\n",
       "    }\n",
       "\n",
       "    .dataframe tbody tr th {\n",
       "        vertical-align: top;\n",
       "    }\n",
       "\n",
       "    .dataframe thead th {\n",
       "        text-align: right;\n",
       "    }\n",
       "</style>\n",
       "<table border=\"1\" class=\"dataframe\">\n",
       "  <thead>\n",
       "    <tr style=\"text-align: right;\">\n",
       "      <th></th>\n",
       "      <th>student</th>\n",
       "      <th>ID</th>\n",
       "    </tr>\n",
       "  </thead>\n",
       "  <tbody>\n",
       "    <tr>\n",
       "      <th>0</th>\n",
       "      <td>Tom</td>\n",
       "      <td>10</td>\n",
       "    </tr>\n",
       "    <tr>\n",
       "      <th>1</th>\n",
       "      <td>Ram</td>\n",
       "      <td>56</td>\n",
       "    </tr>\n",
       "    <tr>\n",
       "      <th>2</th>\n",
       "      <td>Ken</td>\n",
       "      <td>31</td>\n",
       "    </tr>\n",
       "    <tr>\n",
       "      <th>5</th>\n",
       "      <td>Dre</td>\n",
       "      <td>22</td>\n",
       "    </tr>\n",
       "  </tbody>\n",
       "</table>\n",
       "</div>"
      ],
      "text/plain": [
       "  student  ID\n",
       "0     Tom  10\n",
       "1     Ram  56\n",
       "2     Ken  31\n",
       "5     Dre  22"
      ]
     },
     "execution_count": 18,
     "metadata": {},
     "output_type": "execute_result"
    }
   ],
   "source": [
    "#drop duplicate elements with id as key\n",
    "df_new_survey.drop_duplicates('ID')"
   ]
  },
  {
   "cell_type": "code",
   "execution_count": null,
   "id": "a2a0f603-89ed-4f93-9e7f-1f954240f092",
   "metadata": {},
   "outputs": [],
   "source": []
  }
 ],
 "metadata": {
  "kernelspec": {
   "display_name": "Python 3 (ipykernel)",
   "language": "python",
   "name": "python3"
  },
  "language_info": {
   "codemirror_mode": {
    "name": "ipython",
    "version": 3
   },
   "file_extension": ".py",
   "mimetype": "text/x-python",
   "name": "python",
   "nbconvert_exporter": "python",
   "pygments_lexer": "ipython3",
   "version": "3.11.7"
  }
 },
 "nbformat": 4,
 "nbformat_minor": 5
}
