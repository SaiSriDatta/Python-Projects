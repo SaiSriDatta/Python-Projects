{
 "cells": [
  {
   "cell_type": "code",
   "execution_count": 2,
   "id": "5845120e-321a-4c9c-8cca-1aa41f2dca82",
   "metadata": {},
   "outputs": [],
   "source": [
    "distance = [10,15,17,26]\n",
    "time = [0.3,0.47,0.55,1.2]"
   ]
  },
  {
   "cell_type": "code",
   "execution_count": 3,
   "id": "77b79916-8fa6-4c25-93c0-22fe12dbb7d2",
   "metadata": {},
   "outputs": [
    {
     "ename": "TypeError",
     "evalue": "unsupported operand type(s) for /: 'list' and 'list'",
     "output_type": "error",
     "traceback": [
      "\u001b[1;31m---------------------------------------------------------------------------\u001b[0m",
      "\u001b[1;31mTypeError\u001b[0m                                 Traceback (most recent call last)",
      "Cell \u001b[1;32mIn[3], line 1\u001b[0m\n\u001b[1;32m----> 1\u001b[0m speed \u001b[38;5;241m=\u001b[39m distance \u001b[38;5;241m/\u001b[39m time\n",
      "\u001b[1;31mTypeError\u001b[0m: unsupported operand type(s) for /: 'list' and 'list'"
     ]
    }
   ],
   "source": [
    "speed = distance / time "
   ]
  },
  {
   "cell_type": "code",
   "execution_count": 4,
   "id": "31347dc6-d65d-466e-a38e-294ba52c33d6",
   "metadata": {},
   "outputs": [],
   "source": [
    "import numpy as np"
   ]
  },
  {
   "cell_type": "code",
   "execution_count": 5,
   "id": "f8a71731-3bc3-430d-b3c5-0c2b9f32e3ce",
   "metadata": {},
   "outputs": [
    {
     "data": {
      "text/plain": [
       "array([33.33333333, 31.91489362, 30.90909091, 21.66666667])"
      ]
     },
     "execution_count": 5,
     "metadata": {},
     "output_type": "execute_result"
    }
   ],
   "source": [
    "np_distance = np.array(distance)\n",
    "np_time = np.array(time)\n",
    "speed = np_distance/np_time\n",
    "speed"
   ]
  },
  {
   "cell_type": "code",
   "execution_count": 6,
   "id": "7a0fbd2c-0574-4b5e-af54-1f739ca3bbe5",
   "metadata": {},
   "outputs": [],
   "source": [
    "#first NumPy array \n",
    "first_numpy_array = np.array([1,2,3,4,5])\n"
   ]
  },
  {
   "cell_type": "code",
   "execution_count": 9,
   "id": "bdadba01-a9cd-4877-bdea-76d91233d859",
   "metadata": {},
   "outputs": [
    {
     "name": "stdout",
     "output_type": "stream",
     "text": [
      "[1 2 3 4 5]\n"
     ]
    }
   ],
   "source": [
    "#print first array\n",
    "print (first_numpy_array)"
   ]
  },
  {
   "cell_type": "code",
   "execution_count": 60,
   "id": "4119e409-d22f-4605-9d85-6c9ee1e4e328",
   "metadata": {},
   "outputs": [
    {
     "data": {
      "text/plain": [
       "array([[0., 0.],\n",
       "       [0., 0.],\n",
       "       [0., 0.],\n",
       "       [0., 0.],\n",
       "       [0., 0.],\n",
       "       [0., 0.],\n",
       "       [0., 0.]])"
      ]
     },
     "execution_count": 60,
     "metadata": {},
     "output_type": "execute_result"
    }
   ],
   "source": [
    "#array with zeros\n",
    "array_with_zeros = np.zeros((7,2))\n",
    "array_with_zeros"
   ]
  },
  {
   "cell_type": "code",
   "execution_count": 19,
   "id": "9382d58d-20ba-40d7-9323-72a16b25e9d2",
   "metadata": {},
   "outputs": [],
   "source": [
    "#array with ones"
   ]
  },
  {
   "cell_type": "code",
   "execution_count": 24,
   "id": "56548b7a-7294-4d37-93f7-5af0b96b2de8",
   "metadata": {},
   "outputs": [
    {
     "data": {
      "text/plain": [
       "array([[6.23042070e-307, 4.67296746e-307, 1.69121096e-306,\n",
       "        3.22646744e-307],\n",
       "       [2.67017691e-306, 1.42413555e-306, 1.78019082e-306,\n",
       "        1.37959740e-306]])"
      ]
     },
     "execution_count": 24,
     "metadata": {},
     "output_type": "execute_result"
    }
   ],
   "source": [
    "#empty arrays for random numbers \n",
    "array_with_empty = np.empty((2,4))\n",
    "array_with_empty"
   ]
  },
  {
   "cell_type": "code",
   "execution_count": 37,
   "id": "b154b91a-9cd2-4345-9117-1ec00606b206",
   "metadata": {},
   "outputs": [
    {
     "data": {
      "text/plain": [
       "array([ 0,  1,  2,  3,  4,  5,  6,  7,  8,  9, 10, 11, 12, 13, 14, 15, 16,\n",
       "       17, 18, 19, 20, 21, 22, 23])"
      ]
     },
     "execution_count": 37,
     "metadata": {},
     "output_type": "execute_result"
    }
   ],
   "source": [
    "#array with arange method\n",
    "np_arange = np.arange(24)\n",
    "np_arange"
   ]
  },
  {
   "cell_type": "code",
   "execution_count": 39,
   "id": "6c68f37a-6bbf-4f03-b174-02f3eac16eaf",
   "metadata": {},
   "outputs": [
    {
     "data": {
      "text/plain": [
       "array([[ 0,  1,  2,  3,  4,  5],\n",
       "       [ 6,  7,  8,  9, 10, 11],\n",
       "       [12, 13, 14, 15, 16, 17],\n",
       "       [18, 19, 20, 21, 22, 23]])"
      ]
     },
     "execution_count": 39,
     "metadata": {},
     "output_type": "execute_result"
    }
   ],
   "source": [
    "#reshape to change / reorder array\n",
    "np_arange.reshape(4,6)"
   ]
  },
  {
   "cell_type": "code",
   "execution_count": 71,
   "id": "6bc902e3-2976-4f47-91a4-c6ebe56c2a93",
   "metadata": {},
   "outputs": [
    {
     "name": "stdout",
     "output_type": "stream",
     "text": [
      "[ 1.          1.47368421  1.94736842  2.42105263  2.89473684  3.36842105\n",
      "  3.84210526  4.31578947  4.78947368  5.26315789  5.73684211  6.21052632\n",
      "  6.68421053  7.15789474  7.63157895  8.10526316  8.57894737  9.05263158\n",
      "  9.52631579 10.        ]\n"
     ]
    }
   ],
   "source": [
    "#linspace for lineraly equal spaced data elements 1 - first, 10 - last number, 100 - number of equidistant elements in total. \n",
    "np_linspace = np.linspace (1,10,20)\n",
    "print (np_linspace)"
   ]
  },
  {
   "cell_type": "code",
   "execution_count": 50,
   "id": "77be34b8-de89-43a7-b30e-4d0ae4066fdf",
   "metadata": {},
   "outputs": [
    {
     "data": {
      "text/plain": [
       "array([ 0,  1,  2,  3,  4,  5,  6,  7,  8,  9, 10, 11])"
      ]
     },
     "execution_count": 50,
     "metadata": {},
     "output_type": "execute_result"
    }
   ],
   "source": [
    "# one d array\n",
    "OneD_array = np.arange(12)\n",
    "np.arange(12)"
   ]
  },
  {
   "cell_type": "code",
   "execution_count": 54,
   "id": "ff6428bd-cb42-480c-982c-e397eca5abda",
   "metadata": {},
   "outputs": [
    {
     "name": "stdout",
     "output_type": "stream",
     "text": [
      "[[ 0  1  2  3]\n",
      " [ 4  5  6  7]\n",
      " [ 8  9 10 11]]\n"
     ]
    }
   ],
   "source": [
    "# 2 d array\n",
    "TwoD_array = OneD_array.reshape(3,4)\n",
    "print (TwoD_array)"
   ]
  },
  {
   "cell_type": "code",
   "execution_count": 59,
   "id": "639714d2-8b29-49d1-ad5e-8ca956efd73d",
   "metadata": {},
   "outputs": [
    {
     "name": "stdout",
     "output_type": "stream",
     "text": [
      "[[[ 0  1]\n",
      "  [ 2  3]\n",
      "  [ 4  5]\n",
      "  [ 6  7]\n",
      "  [ 8  9]\n",
      "  [10 11]]]\n"
     ]
    }
   ],
   "source": [
    "#3 d array\n",
    "ThreeD_array = np.arange(12).reshape(1,6,2)\n",
    "print (ThreeD_array)"
   ]
  },
  {
   "cell_type": "code",
   "execution_count": 66,
   "id": "0b46977c-9e09-48c8-9392-d4c5176f1e0e",
   "metadata": {},
   "outputs": [
    {
     "data": {
      "text/plain": [
       "2"
      ]
     },
     "execution_count": 66,
     "metadata": {},
     "output_type": "execute_result"
    }
   ],
   "source": [
    "# new array for dim, shape, size and type analysis \n",
    "nd_array = np. array([['SRH','KKR','RPSG'],['CSK','LSG','RR']])\n",
    "nd_array.ndim\n",
    "                      \n",
    "                    "
   ]
  },
  {
   "cell_type": "code",
   "execution_count": 67,
   "id": "e10c5890-336e-4965-8052-4204e80d76a7",
   "metadata": {},
   "outputs": [
    {
     "data": {
      "text/plain": [
       "6"
      ]
     },
     "execution_count": 67,
     "metadata": {},
     "output_type": "execute_result"
    }
   ],
   "source": [
    "nd_array.size"
   ]
  },
  {
   "cell_type": "code",
   "execution_count": 68,
   "id": "920e82c5-c791-4f1f-a62c-25ca4cf678b7",
   "metadata": {},
   "outputs": [
    {
     "data": {
      "text/plain": [
       "(2, 3)"
      ]
     },
     "execution_count": 68,
     "metadata": {},
     "output_type": "execute_result"
    }
   ],
   "source": [
    "nd_array.shape"
   ]
  },
  {
   "cell_type": "code",
   "execution_count": 70,
   "id": "114c5e8e-7bc4-4497-ab61-2603124b7266",
   "metadata": {},
   "outputs": [
    {
     "data": {
      "text/plain": [
       "dtype('<U4')"
      ]
     },
     "execution_count": 70,
     "metadata": {},
     "output_type": "execute_result"
    }
   ],
   "source": [
    "nd_array.dtype"
   ]
  },
  {
   "cell_type": "code",
   "execution_count": 52,
   "id": "f93ab256-e753-47ea-a0a9-8e81cc02fa0c",
   "metadata": {},
   "outputs": [
    {
     "name": "stdout",
     "output_type": "stream",
     "text": [
      "[ 52 148  48 113]\n"
     ]
    }
   ],
   "source": [
    "# adding two arrays / vector addition\n",
    "import numpy as np\n",
    "match_one_scores = np.array([12,24,45,101])\n",
    "match_two_scores = np.array([40,124,3,12])\n",
    "total_scores = match_one_scores + match_two_scores\n",
    "print (total_scores)"
   ]
  },
  {
   "cell_type": "code",
   "execution_count": 9,
   "id": "0596219e-2f49-4f97-b639-ed747378ede9",
   "metadata": {},
   "outputs": [],
   "source": [
    "import numpy as np\n"
   ]
  },
  {
   "cell_type": "code",
   "execution_count": 51,
   "id": "a9439554-d5af-416e-a475-54e47ab6c6fd",
   "metadata": {},
   "outputs": [
    {
     "data": {
      "text/plain": [
       "57"
      ]
     },
     "execution_count": 51,
     "metadata": {},
     "output_type": "execute_result"
    }
   ],
   "source": [
    "#add\n",
    "np.add(23,34)"
   ]
  },
  {
   "cell_type": "code",
   "execution_count": 45,
   "id": "1149c4ce-ceb7-4846-bf36-52771de62535",
   "metadata": {},
   "outputs": [
    {
     "data": {
      "text/plain": [
       "-11"
      ]
     },
     "execution_count": 45,
     "metadata": {},
     "output_type": "execute_result"
    }
   ],
   "source": [
    "#subtract\n",
    "np.subtract(23,34)"
   ]
  },
  {
   "cell_type": "code",
   "execution_count": 12,
   "id": "d87dfd2f-c7c4-4b97-9d92-d05a85943282",
   "metadata": {},
   "outputs": [
    {
     "data": {
      "text/plain": [
       "782"
      ]
     },
     "execution_count": 12,
     "metadata": {},
     "output_type": "execute_result"
    }
   ],
   "source": [
    "#multiply\n",
    "np.multiply(23,34)"
   ]
  },
  {
   "cell_type": "code",
   "execution_count": 13,
   "id": "4e3cd466-3ffe-43f1-ba49-ade25080324e",
   "metadata": {},
   "outputs": [
    {
     "data": {
      "text/plain": [
       "23.0"
      ]
     },
     "execution_count": 13,
     "metadata": {},
     "output_type": "execute_result"
    }
   ],
   "source": [
    "#divide and add\n",
    "np.divide(np.multiply(23,34),34)"
   ]
  },
  {
   "cell_type": "code",
   "execution_count": 21,
   "id": "c6b246c0-ef19-48ac-8fb7-138d4bbb85d0",
   "metadata": {},
   "outputs": [
    {
     "data": {
      "text/plain": [
       "array([36, 69, 12])"
      ]
     },
     "execution_count": 21,
     "metadata": {},
     "output_type": "execute_result"
    }
   ],
   "source": [
    "#yearly mean\n",
    "np_yearly= np.array([12,23,4])*3\n",
    "np_yearly"
   ]
  },
  {
   "cell_type": "code",
   "execution_count": 22,
   "id": "01937e84-218c-4646-a1c9-3397fedf64a3",
   "metadata": {},
   "outputs": [
    {
     "data": {
      "text/plain": [
       "117"
      ]
     },
     "execution_count": 22,
     "metadata": {},
     "output_type": "execute_result"
    }
   ],
   "source": [
    "sum(np_yearly)"
   ]
  },
  {
   "cell_type": "code",
   "execution_count": 29,
   "id": "541afbc0-1e42-48de-a0c6-dfdf8b71a95a",
   "metadata": {},
   "outputs": [
    {
     "data": {
      "text/plain": [
       "array([36, 69])"
      ]
     },
     "execution_count": 29,
     "metadata": {},
     "output_type": "execute_result"
    }
   ],
   "source": [
    "#numpy for comparisons, always use square brackets \n",
    "\n",
    "np_yearly[np_yearly>35]"
   ]
  },
  {
   "cell_type": "code",
   "execution_count": 38,
   "id": "28473627-7267-4617-9688-b3d92b0133c7",
   "metadata": {},
   "outputs": [
    {
     "data": {
      "text/plain": [
       "array([69, 12])"
      ]
     },
     "execution_count": 38,
     "metadata": {},
     "output_type": "execute_result"
    }
   ],
   "source": [
    "# for data not equal to a value , use of exclamation mark '!' for not equal to\n",
    "np_yearly[np_yearly != 36]"
   ]
  },
  {
   "cell_type": "code",
   "execution_count": 43,
   "id": "0fe2ef99-b9b3-46e4-82ac-ba36f10e4052",
   "metadata": {},
   "outputs": [
    {
     "data": {
      "text/plain": [
       "array([ True,  True, False])"
      ]
     },
     "execution_count": 43,
     "metadata": {},
     "output_type": "execute_result"
    }
   ],
   "source": [
    "# for AND logical test \n",
    "np.logical_and(np_yearly > 20, np_yearly < 70)"
   ]
  },
  {
   "cell_type": "code",
   "execution_count": 53,
   "id": "7d0418f7-ec49-49f3-a54f-3427aed3908d",
   "metadata": {},
   "outputs": [
    {
     "data": {
      "text/plain": [
       "array([ True, False,  True])"
      ]
     },
     "execution_count": 53,
     "metadata": {},
     "output_type": "execute_result"
    }
   ],
   "source": [
    "# for not satisfying\n",
    "np.logical_not(np_yearly >60)"
   ]
  },
  {
   "cell_type": "code",
   "execution_count": 57,
   "id": "ad166130-c140-4c1c-ae84-8521a6d70fb5",
   "metadata": {},
   "outputs": [
    {
     "data": {
      "text/plain": [
       "array([10, 20, 34, 56])"
      ]
     },
     "execution_count": 57,
     "metadata": {},
     "output_type": "execute_result"
    }
   ],
   "source": [
    "#accessing specific arrays\n",
    "trials = np.array([[10,20,34,56],[34,5,33,23]])\n",
    "first_trial = trials[0]\n",
    "first_trial"
   ]
  },
  {
   "cell_type": "code",
   "execution_count": 59,
   "id": "987498fc-5367-4f96-8506-ee5655e2f00d",
   "metadata": {},
   "outputs": [
    {
     "data": {
      "text/plain": [
       "array([34,  5, 33, 23])"
      ]
     },
     "execution_count": 59,
     "metadata": {},
     "output_type": "execute_result"
    }
   ],
   "source": [
    "second_trial= trials[1]\n",
    "second_trial"
   ]
  },
  {
   "cell_type": "code",
   "execution_count": 61,
   "id": "20aeb90c-d385-4d7b-bb35-9f4584e55823",
   "metadata": {},
   "outputs": [
    {
     "data": {
      "text/plain": [
       "array([10, 34])"
      ]
     },
     "execution_count": 61,
     "metadata": {},
     "output_type": "execute_result"
    }
   ],
   "source": [
    "first_cyclist_all_trials = trials [:,0]\n",
    "first_cyclist_all_trials"
   ]
  },
  {
   "cell_type": "code",
   "execution_count": 8,
   "id": "c1601bf5-67e3-4775-ab33-04c4c4686128",
   "metadata": {},
   "outputs": [
    {
     "data": {
      "text/plain": [
       "23"
      ]
     },
     "execution_count": 8,
     "metadata": {},
     "output_type": "execute_result"
    }
   ],
   "source": [
    "import numpy as np\n",
    "trials = np.array([[10,20,34,56],[34,5,33,23]])\n",
    "second_cyclist_third_trial= trials [1,3]\n",
    "second_cyclist_third_trial"
   ]
  },
  {
   "cell_type": "code",
   "execution_count": 11,
   "id": "925b99a9-9a4e-43d5-84d2-25dc2b462a1e",
   "metadata": {},
   "outputs": [
    {
     "data": {
      "text/plain": [
       "array([[10, 20],\n",
       "       [34,  5]])"
      ]
     },
     "execution_count": 11,
     "metadata": {},
     "output_type": "execute_result"
    }
   ],
   "source": [
    "#slicing\n",
    "both_trial_data = trials[:,0:2]\n",
    "both_trial_data "
   ]
  },
  {
   "cell_type": "code",
   "execution_count": 21,
   "id": "1db2b5c5-6b17-4110-b7d8-8c54318d0380",
   "metadata": {},
   "outputs": [
    {
     "name": "stdout",
     "output_type": "stream",
     "text": [
      "[10 20 34 56]\n",
      "[34  5 33 23]\n"
     ]
    }
   ],
   "source": [
    "# using iterations for going through each element in data\n",
    "trials = np.array([[10,20,34,56],[34,5,33,23]])\n",
    "for iterate_trials in trials:\n",
    "    print(iterate_trials)"
   ]
  },
  {
   "cell_type": "code",
   "execution_count": 25,
   "id": "82ca6913-1c44-4b01-b210-865e750751ce",
   "metadata": {},
   "outputs": [
    {
     "data": {
      "text/plain": [
       "array([[False,  True,  True,  True],\n",
       "       [ True,  True,  True,  True]])"
      ]
     },
     "execution_count": 25,
     "metadata": {},
     "output_type": "execute_result"
    }
   ],
   "source": [
    "#using boolean for normalisation \n",
    "test_scores = np.array([[23,43,54,65],[54,87,45,78]])\n",
    "passing_score = test_scores > 30\n",
    "passing_score"
   ]
  },
  {
   "cell_type": "code",
   "execution_count": 32,
   "id": "4f4ba0b4-117c-4bc6-a9dc-d12878874e97",
   "metadata": {},
   "outputs": [
    {
     "data": {
      "text/plain": [
       "array([43, 54, 65, 54, 87, 45, 78])"
      ]
     },
     "execution_count": 32,
     "metadata": {},
     "output_type": "execute_result"
    }
   ],
   "source": [
    "test_scores[passing_score]"
   ]
  },
  {
   "cell_type": "code",
   "execution_count": 23,
   "id": "02f3f452-863d-487d-90e5-9c97a66fabe1",
   "metadata": {},
   "outputs": [
    {
     "name": "stdout",
     "output_type": "stream",
     "text": [
      "[10 20]\n",
      "[34  5]\n"
     ]
    }
   ],
   "source": [
    "for iterate_both_trial_data in both_trial_data:\n",
    "    print(iterate_both_trial_data)\n"
   ]
  },
  {
   "cell_type": "code",
   "execution_count": 39,
   "id": "16131273-6d64-4062-87a0-dd89ca683b06",
   "metadata": {},
   "outputs": [
    {
     "data": {
      "text/plain": [
       "array([1.41421356, 2.        , 1.73205081])"
      ]
     },
     "execution_count": 39,
     "metadata": {},
     "output_type": "execute_result"
    }
   ],
   "source": [
    "#exp\n",
    "np_sqrt = np.sqrt([2,4,3])\n",
    "np_sqrt"
   ]
  },
  {
   "cell_type": "code",
   "execution_count": 42,
   "id": "7606b37d-118f-4b77-8601-049c72ab846b",
   "metadata": {},
   "outputs": [
    {
     "data": {
      "text/plain": [
       "1.0"
      ]
     },
     "execution_count": 42,
     "metadata": {},
     "output_type": "execute_result"
    }
   ],
   "source": [
    "from numpy import pi\n",
    "np.cos(0)"
   ]
  },
  {
   "cell_type": "code",
   "execution_count": 43,
   "id": "bb49cc4d-4072-4a4b-ac36-5b95fa25b8df",
   "metadata": {},
   "outputs": [
    {
     "data": {
      "text/plain": [
       "1.0"
      ]
     },
     "execution_count": 43,
     "metadata": {},
     "output_type": "execute_result"
    }
   ],
   "source": [
    "np.sin(pi/2)"
   ]
  },
  {
   "cell_type": "code",
   "execution_count": 48,
   "id": "449f2b38-f756-463f-9b39-d891a54bb47b",
   "metadata": {},
   "outputs": [
    {
     "ename": "TypeError",
     "evalue": "'list' object is not callable",
     "output_type": "error",
     "traceback": [
      "\u001b[1;31m---------------------------------------------------------------------------\u001b[0m",
      "\u001b[1;31mTypeError\u001b[0m                                 Traceback (most recent call last)",
      "Cell \u001b[1;32mIn[48], line 2\u001b[0m\n\u001b[0;32m      1\u001b[0m \u001b[38;5;28;01mimport\u001b[39;00m \u001b[38;5;21;01mnumpy\u001b[39;00m \u001b[38;5;28;01mas\u001b[39;00m \u001b[38;5;21;01mnp\u001b[39;00m\n\u001b[1;32m----> 2\u001b[0m result \u001b[38;5;241m=\u001b[39m np\u001b[38;5;241m.\u001b[39mexp([\u001b[38;5;241m0\u001b[39m,\u001b[38;5;241m1\u001b[39m,\u001b[38;5;241m5\u001b[39m])\n",
      "\u001b[1;31mTypeError\u001b[0m: 'list' object is not callable"
     ]
    }
   ],
   "source": [
    "import numpy as np\n",
    "result = np.exp([0,1,5])"
   ]
  },
  {
   "cell_type": "code",
   "execution_count": 52,
   "id": "d8ecdfdf-d412-4306-b30e-c5ca34969d0e",
   "metadata": {},
   "outputs": [
    {
     "data": {
      "text/plain": [
       "array([ 1.,  5.,  7., -2.])"
      ]
     },
     "execution_count": 52,
     "metadata": {},
     "output_type": "execute_result"
    }
   ],
   "source": [
    "\n",
    "np.floor([1.4,5.2,7.77,-1.9])"
   ]
  },
  {
   "cell_type": "code",
   "execution_count": 59,
   "id": "62d90917-470f-48fb-956f-8a0c9b3dca64",
   "metadata": {},
   "outputs": [
    {
     "data": {
      "text/plain": [
       "array([5, 5, 6, 4])"
      ]
     },
     "execution_count": 59,
     "metadata": {},
     "output_type": "execute_result"
    }
   ],
   "source": [
    "bowler_wickets_match_one = np.array([3,2,4,1])\n",
    "bowler_wickets_match_two = np.array([2,3,2,3])\n",
    "bowler_wickets = bowler_wickets_match_one + bowler_wickets_match_two\n",
    "bowler_wickets"
   ]
  },
  {
   "cell_type": "code",
   "execution_count": 63,
   "id": "4ef13379-fb2d-495b-8d5a-89b2bab23efe",
   "metadata": {},
   "outputs": [
    {
     "data": {
      "text/plain": [
       "array([3, 2, 4, 1, 2, 3, 2, 3])"
      ]
     },
     "execution_count": 63,
     "metadata": {},
     "output_type": "execute_result"
    }
   ],
   "source": [
    "bowler_wickets_together = np.array([[3,2,4,1],[2,3,2,3]])\n",
    "\n",
    "bowler_wickets_together.ravel()"
   ]
  },
  {
   "cell_type": "code",
   "execution_count": 62,
   "id": "24759ef8-305c-40bc-94de-48ae15eaedb0",
   "metadata": {},
   "outputs": [],
   "source": [
    "trials = np.array([[10,20,34,56],[34,5,33,23]])"
   ]
  },
  {
   "cell_type": "code",
   "execution_count": 58,
   "id": "ab9f90b5-868b-4a9c-ac7b-92db6d6f3a54",
   "metadata": {},
   "outputs": [
    {
     "data": {
      "text/plain": [
       "array([10, 20, 34, 56, 34,  5, 33, 23])"
      ]
     },
     "execution_count": 58,
     "metadata": {},
     "output_type": "execute_result"
    }
   ],
   "source": [
    "trials.ravel()"
   ]
  },
  {
   "cell_type": "code",
   "execution_count": 64,
   "id": "7ec3757b-569c-4d68-aa5b-4bfa4c1df4ec",
   "metadata": {},
   "outputs": [
    {
     "data": {
      "text/plain": [
       "array([[3, 2, 4, 1],\n",
       "       [2, 3, 2, 3]])"
      ]
     },
     "execution_count": 64,
     "metadata": {},
     "output_type": "execute_result"
    }
   ],
   "source": [
    "bowler_wickets_together.reshape(2,4)"
   ]
  },
  {
   "cell_type": "code",
   "execution_count": 66,
   "id": "eea510eb-5197-49c6-be23-939481866a0b",
   "metadata": {},
   "outputs": [],
   "source": [
    "bowler_wickets_together.resize(4,2)"
   ]
  },
  {
   "cell_type": "code",
   "execution_count": 67,
   "id": "6e04bada-b70e-4c0f-aae7-0bd9fc6b9139",
   "metadata": {},
   "outputs": [
    {
     "data": {
      "text/plain": [
       "array([[3, 2],\n",
       "       [4, 1],\n",
       "       [2, 3],\n",
       "       [2, 3]])"
      ]
     },
     "execution_count": 67,
     "metadata": {},
     "output_type": "execute_result"
    }
   ],
   "source": [
    "bowler_wickets_together"
   ]
  },
  {
   "cell_type": "code",
   "execution_count": 68,
   "id": "d35f8c19-76d7-4354-ab68-9e6ab5fbb004",
   "metadata": {},
   "outputs": [
    {
     "data": {
      "text/plain": [
       "array([[3, 2],\n",
       "       [4, 1],\n",
       "       [2, 3],\n",
       "       [2, 3]])"
      ]
     },
     "execution_count": 68,
     "metadata": {},
     "output_type": "execute_result"
    }
   ],
   "source": [
    "bowler_wickets_together.reshape(4,2)"
   ]
  },
  {
   "cell_type": "code",
   "execution_count": 69,
   "id": "6b946611-7bca-40dc-b66f-4d22d26576f0",
   "metadata": {},
   "outputs": [
    {
     "data": {
      "text/plain": [
       "[array([[3],\n",
       "        [4],\n",
       "        [2],\n",
       "        [2]]),\n",
       " array([[2],\n",
       "        [1],\n",
       "        [3],\n",
       "        [3]])]"
      ]
     },
     "execution_count": 69,
     "metadata": {},
     "output_type": "execute_result"
    }
   ],
   "source": [
    "# splits the array into two\n",
    "np.hsplit(bowler_wickets_together,2)"
   ]
  },
  {
   "cell_type": "code",
   "execution_count": 73,
   "id": "62a6889e-9b5a-4b4b-ba26-d6f9ad063d85",
   "metadata": {},
   "outputs": [
    {
     "data": {
      "text/plain": [
       "array([3, 2, 4, 1, 2, 3, 2, 3])"
      ]
     },
     "execution_count": 73,
     "metadata": {},
     "output_type": "execute_result"
    }
   ],
   "source": [
    "bowler_wickets_match_one = np.array([3,2,4,1])\n",
    "bowler_wickets_match_two = np.array([2,3,2,3])\n",
    "np.hstack((bowler_wickets_match_one,bowler_wickets_match_two))"
   ]
  },
  {
   "cell_type": "code",
   "execution_count": 74,
   "id": "42afc22a-de8b-4ec6-b0e2-1db0b783b7ca",
   "metadata": {},
   "outputs": [
    {
     "data": {
      "text/plain": [
       "array([2666, 3465,  192])"
      ]
     },
     "execution_count": 74,
     "metadata": {},
     "output_type": "execute_result"
    }
   ],
   "source": [
    "one = np.array([86,77,32])\n",
    "two = np.array([31,45,6])\n",
    "one*two\n"
   ]
  },
  {
   "cell_type": "code",
   "execution_count": 75,
   "id": "72dc7690-9177-4fc3-8c2b-edc3e97a5f14",
   "metadata": {},
   "outputs": [
    {
     "data": {
      "text/plain": [
       "array([258, 231,  96])"
      ]
     },
     "execution_count": 75,
     "metadata": {},
     "output_type": "execute_result"
    }
   ],
   "source": [
    "scalar_c= 3\n",
    "one*scalar_c"
   ]
  },
  {
   "cell_type": "code",
   "execution_count": 94,
   "id": "1d72de67-a54d-45fa-be55-5524f01aaf70",
   "metadata": {},
   "outputs": [],
   "source": [
    "one = np.array([86,77,32])\n",
    "two = np.array([31,45,6])\n",
    "\n",
    "total = np.array ([[86,77,32],[31,45,6]])\n"
   ]
  },
  {
   "cell_type": "code",
   "execution_count": 95,
   "id": "e188428d-ea14-46f2-a167-299c5bc6250a",
   "metadata": {},
   "outputs": [
    {
     "data": {
      "text/plain": [
       "array([[86, 77, 32],\n",
       "       [31, 45,  6]])"
      ]
     },
     "execution_count": 95,
     "metadata": {},
     "output_type": "execute_result"
    }
   ],
   "source": [
    "total"
   ]
  },
  {
   "cell_type": "code",
   "execution_count": 96,
   "id": "c39389fb-256d-4f5a-9922-88820fa6cc88",
   "metadata": {},
   "outputs": [
    {
     "data": {
      "text/plain": [
       "array([[86, 31],\n",
       "       [77, 45],\n",
       "       [32,  6]])"
      ]
     },
     "execution_count": 96,
     "metadata": {},
     "output_type": "execute_result"
    }
   ],
   "source": [
    "total.transpose()"
   ]
  },
  {
   "cell_type": "code",
   "execution_count": 103,
   "id": "ec5988d2-96af-4c0c-af7f-0a7163db8dac",
   "metadata": {},
   "outputs": [
    {
     "data": {
      "text/plain": [
       "array([[ 0.0303439 , -0.05192178],\n",
       "       [-0.02090357,  0.05799056]])"
      ]
     },
     "execution_count": 103,
     "metadata": {},
     "output_type": "execute_result"
    }
   ],
   "source": [
    "inverse = np.array ([[86,77],[31,45]])\n",
    "np.linalg.inv(inverse)"
   ]
  },
  {
   "cell_type": "code",
   "execution_count": 104,
   "id": "f233a8bb-0076-4021-ac5e-f672f66f8cb2",
   "metadata": {},
   "outputs": [
    {
     "data": {
      "text/plain": [
       "131"
      ]
     },
     "execution_count": 104,
     "metadata": {},
     "output_type": "execute_result"
    }
   ],
   "source": [
    "np.trace(inverse)"
   ]
  },
  {
   "cell_type": "code",
   "execution_count": 106,
   "id": "4db44d15-09f3-42ce-853e-7799622ff1a1",
   "metadata": {},
   "outputs": [
    {
     "data": {
      "text/plain": [
       "131"
      ]
     },
     "execution_count": 106,
     "metadata": {},
     "output_type": "execute_result"
    }
   ],
   "source": [
    "86+45"
   ]
  },
  {
   "cell_type": "code",
   "execution_count": null,
   "id": "22e15738-6091-4c56-a076-2eba1c2da737",
   "metadata": {},
   "outputs": [],
   "source": [
    "List of countries:\n",
    "\n",
    "'Algeria','Angola','Argentina','Australia','Austria','Bahamas','Bangladesh','Belarus','Belgium','Bhutan','Brazil','Bulgaria','Cambodia','Cameroon','Chile','China','Colombia','Cyprus','Denmark','El Salvador','Estonia','Ethiopia','Fiji','Finland','France','Georgia','Ghana','Grenada','Guinea','Haiti','Honduras','Hungary','India','Indonesia','Ireland','Italy','Japan','Kenya', 'South Korea','Liberia','Malaysia','Mexico', 'Morocco','Nepal','New Zealand','Norway','Pakistan', 'Peru','Qatar','Russia','Singapore','South Africa','Spain','Sweden','Switzerland','Thailand', 'United Arab Emirates','United Kingdom','United States','Uruguay','Venezuela','Vietnam','Zimbabwe'\n",
    "\n",
    "\n",
    "GDP values for each country:\n",
    "\n",
    "2255.225482,629.9553062,11601.63022,25306.82494,27266.40335,19466.99052,588.3691778,2890.345675,24733.62696,1445.760002,4803.398244,2618.876037,590.4521124,665.7982328,7122.938458,2639.54156,3362.4656,15378.16704,30860.12808,2579.115607,6525.541272,229.6769525,2242.689259,27570.4852,23016.84778,1334.646773,402.6953275,6047.200797,394.1156638,385.5793827,1414.072488,5745.981529,837.7464011,1206.991065,27715.52837,18937.24998,39578.07441,478.2194906,16684.21278,279.2204061,5345.213415,6288.25324,1908.304416,274.8728621,14646.42094,40034.85063,672.1547506,3359.517402,36152.66676,3054.727742,33529.83052,3825.093781,15428.32098,33630.24604,39170.41371,2699.123242,21058.43643,28272.40661,37691.02733,9581.05659,5671.912202,757.4009286,347.7456605"
   ]
  },
  {
   "cell_type": "code",
   "execution_count": 111,
   "id": "5e611dec-2a1a-4d1f-b7f1-5fef374db87f",
   "metadata": {},
   "outputs": [],
   "source": [
    "import numpy as np"
   ]
  },
  {
   "cell_type": "code",
   "execution_count": 112,
   "id": "cf04904b-ae33-4d5b-8cbb-ac63991758f7",
   "metadata": {},
   "outputs": [
    {
     "data": {
      "text/plain": [
       "47"
      ]
     },
     "execution_count": 112,
     "metadata": {},
     "output_type": "execute_result"
    }
   ],
   "source": [
    "2+45"
   ]
  },
  {
   "cell_type": "code",
   "execution_count": 113,
   "id": "08bee1a5-b5ce-4ddc-80ef-4e27e3a48ff1",
   "metadata": {},
   "outputs": [
    {
     "data": {
      "text/plain": [
       "131"
      ]
     },
     "execution_count": 113,
     "metadata": {},
     "output_type": "execute_result"
    }
   ],
   "source": [
    "np.trace(inverse)"
   ]
  },
  {
   "cell_type": "code",
   "execution_count": 115,
   "id": "b407e2c8-9bd0-4648-9414-c4382a00db11",
   "metadata": {},
   "outputs": [
    {
     "data": {
      "text/plain": [
       "[array([[3, 2],\n",
       "        [4, 1],\n",
       "        [2, 3],\n",
       "        [2, 3]])]"
      ]
     },
     "execution_count": 115,
     "metadata": {},
     "output_type": "execute_result"
    }
   ],
   "source": [
    "np.hsplit(bowler_wickets_together,1)"
   ]
  },
  {
   "cell_type": "code",
   "execution_count": 119,
   "id": "b8b83151-f7e6-4792-b962-dba11c764900",
   "metadata": {},
   "outputs": [
    {
     "data": {
      "text/plain": [
       "array([['Algeria', 'Angola', 'Argentina', 'Australia', 'Austria',\n",
       "        'Bahamas', 'Bangladesh', 'Belarus', 'Belgium', 'Bhutan',\n",
       "        'Brazil', 'Bulgaria', 'Cambodia', 'Cameroon', 'Chile', 'China',\n",
       "        'Colombia', 'Cyprus', 'Denmark', 'El Salvador', 'Estonia',\n",
       "        'Ethiopia', 'Fiji', 'Finland', 'France', 'Georgia', 'Ghana',\n",
       "        'Grenada', 'Guinea', 'Haiti', 'Honduras', 'Hungary', 'India',\n",
       "        'Indonesia', 'Ireland', 'Italy', 'Japan', 'Kenya', 'South Korea',\n",
       "        'Liberia', 'Malaysia', 'Mexico', 'Morocco', 'Nepal',\n",
       "        'New Zealand', 'Norway', 'Pakistan', 'Peru', 'Qatar', 'Russia',\n",
       "        'Singapore', 'South Africa', 'Spain', 'Sweden', 'Switzerland',\n",
       "        'Thailand', 'United Arab Emirates', 'United Kingdom',\n",
       "        'United States', 'Uruguay', 'Venezuela', 'Vietnam', 'Zimbabwe'],\n",
       "       ['2255.225482', '629.9553062', '11601.63022', '25306.82494',\n",
       "        '27266.40335', '19466.99052', '588.3691778', '2890.345675',\n",
       "        '24733.62696', '1445.760002', '4803.398244', '2618.876037',\n",
       "        '590.4521124', '665.7982328', '7122.938458', '2639.54156',\n",
       "        '3362.4656', '15378.16704', '30860.12808', '2579.115607',\n",
       "        '6525.541272', '229.6769525', '2242.689259', '27570.4852',\n",
       "        '23016.84778', '1334.646773', '402.6953275', '6047.200797',\n",
       "        '394.1156638', '385.5793827', '1414.072488', '5745.981529',\n",
       "        '837.7464011', '1206.991065', '27715.52837', '18937.24998',\n",
       "        '39578.07441', '478.2194906', '16684.21278', '279.2204061',\n",
       "        '5345.213415', '6288.25324', '1908.304416', '274.8728621',\n",
       "        '14646.42094', '40034.85063', '672.1547506', '3359.517402',\n",
       "        '36152.66676', '3054.727742', '33529.83052', '3825.093781',\n",
       "        '15428.32098', '33630.24604', '39170.41371', '2699.123242',\n",
       "        '21058.43643', '28272.40661', '37691.02733', '9581.05659',\n",
       "        '5671.912202', '757.4009286', '347.7456605']], dtype='<U32')"
      ]
     },
     "execution_count": 119,
     "metadata": {},
     "output_type": "execute_result"
    }
   ],
   "source": [
    "c_name = np.array([\n",
    "'Algeria','Angola','Argentina','Australia','Austria','Bahamas','Bangladesh','Belarus','Belgium','Bhutan','Brazil','Bulgaria','Cambodia','Cameroon','Chile','China','Colombia','Cyprus','Denmark','El Salvador','Estonia','Ethiopia','Fiji','Finland','France','Georgia','Ghana','Grenada','Guinea','Haiti','Honduras','Hungary','India','Indonesia','Ireland','Italy','Japan','Kenya', 'South Korea','Liberia','Malaysia','Mexico', 'Morocco','Nepal','New Zealand','Norway','Pakistan', 'Peru','Qatar','Russia','Singapore','South Africa','Spain','Sweden','Switzerland','Thailand', 'United Arab Emirates','United Kingdom','United States','Uruguay','Venezuela','Vietnam','Zimbabwe'])\n",
    "c_gdp =np.array([2255.225482,629.9553062,11601.63022,25306.82494,27266.40335,19466.99052,588.3691778,2890.345675,24733.62696,1445.760002,4803.398244,2618.876037,590.4521124,665.7982328,7122.938458,2639.54156,3362.4656,15378.16704,30860.12808,2579.115607,6525.541272,229.6769525,2242.689259,27570.4852,23016.84778,1334.646773,402.6953275,6047.200797,394.1156638,385.5793827,1414.072488,5745.981529,837.7464011,1206.991065,27715.52837,18937.24998,39578.07441,478.2194906,16684.21278,279.2204061,5345.213415,6288.25324,1908.304416,274.8728621,14646.42094,40034.85063,672.1547506,3359.517402,36152.66676,3054.727742,33529.83052,3825.093781,15428.32098,33630.24604,39170.41371,2699.123242,21058.43643,28272.40661,37691.02733,9581.05659,5671.912202,757.4009286,347.7456605])\n",
    "name_GDP_match = np.array([['Algeria','Angola','Argentina','Australia','Austria','Bahamas','Bangladesh','Belarus','Belgium','Bhutan','Brazil','Bulgaria','Cambodia','Cameroon','Chile','China','Colombia','Cyprus','Denmark','El Salvador','Estonia','Ethiopia','Fiji','Finland','France','Georgia','Ghana','Grenada','Guinea','Haiti','Honduras','Hungary','India','Indonesia','Ireland','Italy','Japan','Kenya', 'South Korea','Liberia','Malaysia','Mexico', 'Morocco','Nepal','New Zealand','Norway','Pakistan', 'Peru','Qatar','Russia','Singapore','South Africa','Spain','Sweden','Switzerland','Thailand', 'United Arab Emirates','United Kingdom','United States','Uruguay','Venezuela','Vietnam','Zimbabwe'\n",
    "                        ],[2255.225482,629.9553062,11601.63022,25306.82494,27266.40335,19466.99052,588.3691778,2890.345675,24733.62696,1445.760002,4803.398244,2618.876037,590.4521124,665.7982328,7122.938458,2639.54156,3362.4656,15378.16704,30860.12808,2579.115607,6525.541272,229.6769525,2242.689259,27570.4852,23016.84778,1334.646773,402.6953275,6047.200797,394.1156638,385.5793827,1414.072488,5745.981529,837.7464011,1206.991065,27715.52837,18937.24998,39578.07441,478.2194906,16684.21278,279.2204061,5345.213415,6288.25324,1908.304416,274.8728621,14646.42094,40034.85063,672.1547506,3359.517402,36152.66676,3054.727742,33529.83052,3825.093781,15428.32098,33630.24604,39170.41371,2699.123242,21058.43643,28272.40661,37691.02733,9581.05659,5671.912202,757.4009286,347.7456605]])\n",
    "name_GDP_match"
   ]
  },
  {
   "cell_type": "code",
   "execution_count": 117,
   "id": "60d68650-60c1-47e8-b090-713c4bed735f",
   "metadata": {},
   "outputs": [
    {
     "data": {
      "text/plain": [
       "array([['Algeria', '2255.225482'],\n",
       "       ['Angola', '629.9553062'],\n",
       "       ['Argentina', '11601.63022'],\n",
       "       ['Australia', '25306.82494'],\n",
       "       ['Austria', '27266.40335'],\n",
       "       ['Bahamas', '19466.99052'],\n",
       "       ['Bangladesh', '588.3691778'],\n",
       "       ['Belarus', '2890.345675'],\n",
       "       ['Belgium', '24733.62696'],\n",
       "       ['Bhutan', '1445.760002'],\n",
       "       ['Brazil', '4803.398244'],\n",
       "       ['Bulgaria', '2618.876037'],\n",
       "       ['Cambodia', '590.4521124'],\n",
       "       ['Cameroon', '665.7982328'],\n",
       "       ['Chile', '7122.938458'],\n",
       "       ['China', '2639.54156'],\n",
       "       ['Colombia', '3362.4656'],\n",
       "       ['Cyprus', '15378.16704'],\n",
       "       ['Denmark', '30860.12808'],\n",
       "       ['El Salvador', '2579.115607'],\n",
       "       ['Estonia', '6525.541272'],\n",
       "       ['Ethiopia', '229.6769525'],\n",
       "       ['Fiji', '2242.689259'],\n",
       "       ['Finland', '27570.4852'],\n",
       "       ['France', '23016.84778'],\n",
       "       ['Georgia', '1334.646773'],\n",
       "       ['Ghana', '402.6953275'],\n",
       "       ['Grenada', '6047.200797'],\n",
       "       ['Guinea', '394.1156638'],\n",
       "       ['Haiti', '385.5793827'],\n",
       "       ['Honduras', '1414.072488'],\n",
       "       ['Hungary', '5745.981529'],\n",
       "       ['India', '837.7464011'],\n",
       "       ['Indonesia', '1206.991065'],\n",
       "       ['Ireland', '27715.52837'],\n",
       "       ['Italy', '18937.24998'],\n",
       "       ['Japan', '39578.07441'],\n",
       "       ['Kenya', '478.2194906'],\n",
       "       ['South Korea', '16684.21278'],\n",
       "       ['Liberia', '279.2204061'],\n",
       "       ['Malaysia', '5345.213415'],\n",
       "       ['Mexico', '6288.25324'],\n",
       "       ['Morocco', '1908.304416'],\n",
       "       ['Nepal', '274.8728621'],\n",
       "       ['New Zealand', '14646.42094'],\n",
       "       ['Norway', '40034.85063'],\n",
       "       ['Pakistan', '672.1547506'],\n",
       "       ['Peru', '3359.517402'],\n",
       "       ['Qatar', '36152.66676'],\n",
       "       ['Russia', '3054.727742'],\n",
       "       ['Singapore', '33529.83052'],\n",
       "       ['South Africa', '3825.093781'],\n",
       "       ['Spain', '15428.32098'],\n",
       "       ['Sweden', '33630.24604'],\n",
       "       ['Switzerland', '39170.41371'],\n",
       "       ['Thailand', '2699.123242'],\n",
       "       ['United Arab Emirates', '21058.43643'],\n",
       "       ['United Kingdom', '28272.40661'],\n",
       "       ['United States', '37691.02733'],\n",
       "       ['Uruguay', '9581.05659'],\n",
       "       ['Venezuela', '5671.912202'],\n",
       "       ['Vietnam', '757.4009286'],\n",
       "       ['Zimbabwe', '347.7456605']], dtype='<U32')"
      ]
     },
     "execution_count": 117,
     "metadata": {},
     "output_type": "execute_result"
    }
   ],
   "source": [
    "name_GDP_match.transpose()"
   ]
  },
  {
   "cell_type": "code",
   "execution_count": 133,
   "id": "fc8af77f-b1cc-42fe-8e48-5e4cb478472f",
   "metadata": {},
   "outputs": [
    {
     "data": {
      "text/plain": [
       "array([], dtype=float64)"
      ]
     },
     "execution_count": 133,
     "metadata": {},
     "output_type": "execute_result"
    }
   ],
   "source": [
    "c_gdp[c_gdp>40034.85063]"
   ]
  },
  {
   "cell_type": "code",
   "execution_count": 155,
   "id": "bfee1a3d-9599-40d3-a79d-39e10181a7c4",
   "metadata": {},
   "outputs": [],
   "source": [
    "import numpy as np\n",
    "max_gdp_per_capita = c_gdp.argmax()"
   ]
  },
  {
   "cell_type": "code",
   "execution_count": 136,
   "id": "85336472-9ae4-4bcb-bf39-beee43e90b66",
   "metadata": {},
   "outputs": [
    {
     "data": {
      "text/plain": [
       "'Norway'"
      ]
     },
     "execution_count": 136,
     "metadata": {},
     "output_type": "execute_result"
    }
   ],
   "source": [
    "c_name_with_max_gdp = c_name[max_gdp_per_capita]\n",
    "c_name_with_max_gdp"
   ]
  },
  {
   "cell_type": "code",
   "execution_count": 137,
   "id": "ac514b32-102a-4386-9b5a-25afac14318b",
   "metadata": {},
   "outputs": [],
   "source": [
    "min_gdp_per_capita = c_gdp.argmin()"
   ]
  },
  {
   "cell_type": "code",
   "execution_count": 138,
   "id": "e7fabb89-ca9d-4536-a653-61a52f4ce996",
   "metadata": {},
   "outputs": [
    {
     "data": {
      "text/plain": [
       "'Ethiopia'"
      ]
     },
     "execution_count": 138,
     "metadata": {},
     "output_type": "execute_result"
    }
   ],
   "source": [
    "c_name_with_min_gdp = c_name[min_gdp_per_capita]\n",
    "c_name_with_min_gdp"
   ]
  },
  {
   "cell_type": "code",
   "execution_count": 144,
   "id": "962f702b-2419-481b-bea7-4eb484f4b28c",
   "metadata": {},
   "outputs": [
    {
     "name": "stdout",
     "output_type": "stream",
     "text": [
      "ecalculating country Algeria\n",
      "ecalculating country Angola\n",
      "ecalculating country Argentina\n",
      "ecalculating country Australia\n",
      "ecalculating country Austria\n",
      "ecalculating country Bahamas\n",
      "ecalculating country Bangladesh\n",
      "ecalculating country Belarus\n",
      "ecalculating country Belgium\n",
      "ecalculating country Bhutan\n",
      "ecalculating country Brazil\n",
      "ecalculating country Bulgaria\n",
      "ecalculating country Cambodia\n",
      "ecalculating country Cameroon\n",
      "ecalculating country Chile\n",
      "ecalculating country China\n",
      "ecalculating country Colombia\n",
      "ecalculating country Cyprus\n",
      "ecalculating country Denmark\n",
      "ecalculating country El Salvador\n",
      "ecalculating country Estonia\n",
      "ecalculating country Ethiopia\n",
      "ecalculating country Fiji\n",
      "ecalculating country Finland\n",
      "ecalculating country France\n",
      "ecalculating country Georgia\n",
      "ecalculating country Ghana\n",
      "ecalculating country Grenada\n",
      "ecalculating country Guinea\n",
      "ecalculating country Haiti\n",
      "ecalculating country Honduras\n",
      "ecalculating country Hungary\n",
      "ecalculating country India\n",
      "ecalculating country Indonesia\n",
      "ecalculating country Ireland\n",
      "ecalculating country Italy\n",
      "ecalculating country Japan\n",
      "ecalculating country Kenya\n",
      "ecalculating country South Korea\n",
      "ecalculating country Liberia\n",
      "ecalculating country Malaysia\n",
      "ecalculating country Mexico\n",
      "ecalculating country Morocco\n",
      "ecalculating country Nepal\n",
      "ecalculating country New Zealand\n",
      "ecalculating country Norway\n",
      "ecalculating country Pakistan\n",
      "ecalculating country Peru\n",
      "ecalculating country Qatar\n",
      "ecalculating country Russia\n",
      "ecalculating country Singapore\n",
      "ecalculating country South Africa\n",
      "ecalculating country Spain\n",
      "ecalculating country Sweden\n",
      "ecalculating country Switzerland\n",
      "ecalculating country Thailand\n",
      "ecalculating country United Arab Emirates\n",
      "ecalculating country United Kingdom\n",
      "ecalculating country United States\n",
      "ecalculating country Uruguay\n",
      "ecalculating country Venezuela\n",
      "ecalculating country Vietnam\n",
      "ecalculating country Zimbabwe\n"
     ]
    }
   ],
   "source": [
    "#important code\n",
    "for country in c_name :\n",
    "    print ('ecalculating country {}'.format(country))"
   ]
  },
  {
   "cell_type": "code",
   "execution_count": 154,
   "id": "083bcfa1-7bcd-4b38-946a-af19bc8fa39b",
   "metadata": {},
   "outputs": [
    {
     "name": "stdout",
     "output_type": "stream",
     "text": [
      "Algeria is having a per capita GDP of 2255.225482\n",
      "Angola is having a per capita GDP of 629.9553062\n",
      "Argentina is having a per capita GDP of 11601.63022\n",
      "Australia is having a per capita GDP of 25306.82494\n",
      "Austria is having a per capita GDP of 27266.40335\n",
      "Bahamas is having a per capita GDP of 19466.99052\n",
      "Bangladesh is having a per capita GDP of 588.3691778\n",
      "Belarus is having a per capita GDP of 2890.345675\n",
      "Belgium is having a per capita GDP of 24733.62696\n",
      "Bhutan is having a per capita GDP of 1445.760002\n",
      "Brazil is having a per capita GDP of 4803.398244\n",
      "Bulgaria is having a per capita GDP of 2618.876037\n",
      "Cambodia is having a per capita GDP of 590.4521124\n",
      "Cameroon is having a per capita GDP of 665.7982328\n",
      "Chile is having a per capita GDP of 7122.938458\n",
      "China is having a per capita GDP of 2639.54156\n",
      "Colombia is having a per capita GDP of 3362.4656\n",
      "Cyprus is having a per capita GDP of 15378.16704\n",
      "Denmark is having a per capita GDP of 30860.12808\n",
      "El Salvador is having a per capita GDP of 2579.115607\n",
      "Estonia is having a per capita GDP of 6525.541272\n",
      "Ethiopia is having a per capita GDP of 229.6769525\n",
      "Fiji is having a per capita GDP of 2242.689259\n",
      "Finland is having a per capita GDP of 27570.4852\n",
      "France is having a per capita GDP of 23016.84778\n",
      "Georgia is having a per capita GDP of 1334.646773\n",
      "Ghana is having a per capita GDP of 402.6953275\n",
      "Grenada is having a per capita GDP of 6047.200797\n",
      "Guinea is having a per capita GDP of 394.1156638\n",
      "Haiti is having a per capita GDP of 385.5793827\n",
      "Honduras is having a per capita GDP of 1414.072488\n",
      "Hungary is having a per capita GDP of 5745.981529\n",
      "India is having a per capita GDP of 837.7464011\n",
      "Indonesia is having a per capita GDP of 1206.991065\n",
      "Ireland is having a per capita GDP of 27715.52837\n",
      "Italy is having a per capita GDP of 18937.24998\n",
      "Japan is having a per capita GDP of 39578.07441\n",
      "Kenya is having a per capita GDP of 478.2194906\n",
      "South Korea is having a per capita GDP of 16684.21278\n",
      "Liberia is having a per capita GDP of 279.2204061\n",
      "Malaysia is having a per capita GDP of 5345.213415\n",
      "Mexico is having a per capita GDP of 6288.25324\n",
      "Morocco is having a per capita GDP of 1908.304416\n",
      "Nepal is having a per capita GDP of 274.8728621\n",
      "New Zealand is having a per capita GDP of 14646.42094\n",
      "Norway is having a per capita GDP of 40034.85063\n",
      "Pakistan is having a per capita GDP of 672.1547506\n",
      "Peru is having a per capita GDP of 3359.517402\n",
      "Qatar is having a per capita GDP of 36152.66676\n",
      "Russia is having a per capita GDP of 3054.727742\n",
      "Singapore is having a per capita GDP of 33529.83052\n",
      "South Africa is having a per capita GDP of 3825.093781\n",
      "Spain is having a per capita GDP of 15428.32098\n",
      "Sweden is having a per capita GDP of 33630.24604\n",
      "Switzerland is having a per capita GDP of 39170.41371\n",
      "Thailand is having a per capita GDP of 2699.123242\n",
      "United Arab Emirates is having a per capita GDP of 21058.43643\n",
      "United Kingdom is having a per capita GDP of 28272.40661\n",
      "United States is having a per capita GDP of 37691.02733\n",
      "Uruguay is having a per capita GDP of 9581.05659\n",
      "Venezuela is having a per capita GDP of 5671.912202\n",
      "Vietnam is having a per capita GDP of 757.4009286\n",
      "Zimbabwe is having a per capita GDP of 347.7456605\n"
     ]
    }
   ],
   "source": [
    "#getting twp variables together - work out the mistake\n",
    "for i in range(len(c_gdp)):\n",
    "    country = c_name[i]\n",
    "    GDP = c_gdp[i]\n",
    "    print ('{} is having a per capita GDP of {}'.format(country, GDP ))\n",
    "    \n",
    "    "
   ]
  },
  {
   "cell_type": "code",
   "execution_count": 160,
   "id": "2c03f740-7718-4332-87de-a37190fd25ed",
   "metadata": {},
   "outputs": [
    {
     "name": "stdout",
     "output_type": "stream",
     "text": [
      "40034.85063\n",
      "229.6769525\n",
      "11289.409271639683\n",
      "12743.828910617945\n",
      "711232.7841133\n"
     ]
    }
   ],
   "source": [
    "import numpy as np\n",
    "print(c_gdp.max())\n",
    "print(c_gdp.min())\n",
    "print(c_gdp.mean())\n",
    "print(c_gdp.std())\n",
    "print(c_gdp.sum())"
   ]
  },
  {
   "cell_type": "code",
   "execution_count": 169,
   "id": "cb8822aa-01dd-4dd8-8082-d1c288507a54",
   "metadata": {},
   "outputs": [
    {
     "name": "stdout",
     "output_type": "stream",
     "text": [
      "Minimum GDP of a country is 229.6769525\n"
     ]
    }
   ],
   "source": [
    "print('Minimum GDP of a country is', c_gdp.min())"
   ]
  },
  {
   "cell_type": "code",
   "execution_count": 193,
   "id": "1ee22d2d-cd63-4ad1-ad9d-abcb5d1b2bd9",
   "metadata": {},
   "outputs": [
    {
     "name": "stdout",
     "output_type": "stream",
     "text": [
      "United States\n"
     ]
    }
   ],
   "source": [
    "# country to win maximum gold medals\n",
    "import numpy as np\n",
    "country = np.array(['Great Britain',\n",
    "'China', \n",
    "'Russia',\n",
    "'United States',\n",
    "'Korea',\n",
    "'Japan',\n",
    "'Germany'])\n",
    "gold_medals = np.array([29,\n",
    "38,\n",
    "24,\n",
    "46,\n",
    "13,\n",
    "7,\n",
    "11])\n",
    "max_gold_medals = gold_medals.argmax()\n",
    "country_with_max_gold_medals = country[max_gold_medals]\n",
    "\n",
    "print (country_with_max_gold_medals)\n"
   ]
  },
  {
   "cell_type": "code",
   "execution_count": 194,
   "id": "248f195e-51c2-4d0b-ad12-7f978c76d38b",
   "metadata": {},
   "outputs": [
    {
     "name": "stdout",
     "output_type": "stream",
     "text": [
      "['Great Britain' 'China' 'Russia' 'United States']\n"
     ]
    }
   ],
   "source": [
    "#Boolean indexing technique\n",
    "gold_medals_more_than_twenty = (gold_medals>20)\n",
    "country_with_criteria = country[gold_medals_more_than_twenty]\n",
    "print (country_with_criteria)"
   ]
  },
  {
   "cell_type": "code",
   "execution_count": 192,
   "id": "e172151b-9bce-4e67-ba49-ed6605eb5dba",
   "metadata": {},
   "outputs": [
    {
     "data": {
      "text/plain": [
       "[array(['Great Britain', 'China', 'Russia', 'United States', 'Korea',\n",
       "        'Japan', 'Germany'], dtype='<U13'),\n",
       " array([29, 38, 24, 46, 13,  7, 11]),\n",
       " array([17, 28, 25, 28,  8, 14, 11]),\n",
       " array([19, 22, 32, 29,  7, 17, 14])]"
      ]
     },
     "execution_count": 192,
     "metadata": {},
     "output_type": "execute_result"
    }
   ],
   "source": [
    "#medal tally \n",
    "import numpy as np\n",
    "country = np.array(['Great Britain',\n",
    "'China', \n",
    "'Russia',\n",
    "'United States',\n",
    "'Korea',\n",
    "'Japan',\n",
    "'Germany'])\n",
    "gold_medals = np.array([29,\n",
    "38,\n",
    "24,\n",
    "46,\n",
    "13,\n",
    "7,\n",
    "11])\n",
    "silver_medals = np.array ([17,\n",
    "28,\n",
    "25,\n",
    "28,\n",
    "8,\n",
    "14,\n",
    "11])\n",
    "bronze_medals = np.array([19,\n",
    "22,\n",
    "32,\n",
    "29,\n",
    "7,\n",
    "17,\n",
    "14])\n",
    "medal_tally = [country, gold_medals, silver_medals, bronze_medals]\n",
    "medal_tally\n"
   ]
  },
  {
   "cell_type": "code",
   "execution_count": 190,
   "id": "ff5bdbf7-12b0-4211-b7eb-69ee743b858e",
   "metadata": {},
   "outputs": [
    {
     "ename": "AttributeError",
     "evalue": "'list' object has no attribute 'transpose'",
     "output_type": "error",
     "traceback": [
      "\u001b[1;31m---------------------------------------------------------------------------\u001b[0m",
      "\u001b[1;31mAttributeError\u001b[0m                            Traceback (most recent call last)",
      "Cell \u001b[1;32mIn[190], line 1\u001b[0m\n\u001b[1;32m----> 1\u001b[0m medal_tally\u001b[38;5;241m.\u001b[39mtranspose\n",
      "\u001b[1;31mAttributeError\u001b[0m: 'list' object has no attribute 'transpose'"
     ]
    }
   ],
   "source": []
  },
  {
   "cell_type": "code",
   "execution_count": 204,
   "id": "8d8a2403-cd0c-4511-abb4-ece190025fdb",
   "metadata": {},
   "outputs": [
    {
     "name": "stdout",
     "output_type": "stream",
     "text": [
      "Great Britain - 29 gold medals, 17 silver medals, 22 bronze medals with a total of 65\n",
      "China - 38 gold medals, 28 silver medals, 22 bronze medals with a total of 88\n",
      "Russia - 24 gold medals, 25 silver medals, 22 bronze medals with a total of 81\n",
      "United States - 46 gold medals, 28 silver medals, 22 bronze medals with a total of 103\n",
      "Korea - 13 gold medals, 8 silver medals, 22 bronze medals with a total of 28\n",
      "Japan - 7 gold medals, 14 silver medals, 22 bronze medals with a total of 38\n",
      "Germany - 11 gold medals, 11 silver medals, 22 bronze medals with a total of 36\n"
     ]
    }
   ],
   "source": [
    "for i in range(len(country)):\n",
    "    Country_name = country[i]\n",
    "    g_medal = gold_medals[i]\n",
    "    s_medal = silver_medals[i]\n",
    "    b_medal = bronze_medals[1]\n",
    "    total_medals = gold_medals +  silver_medals + bronze_medals\n",
    "    t_medals = total_medals[i]\n",
    "    print ('{} - {} gold medals, {} silver medals, {} bronze medals with a total of {}'.format(Country_name,g_medal,s_medal,b_medal,t_medals))\n",
    "    "
   ]
  },
  {
   "cell_type": "code",
   "execution_count": null,
   "id": "44eb3b89-c510-463b-81c8-4638a70ddcb9",
   "metadata": {},
   "outputs": [],
   "source": []
  }
 ],
 "metadata": {
  "kernelspec": {
   "display_name": "Python 3 (ipykernel)",
   "language": "python",
   "name": "python3"
  },
  "language_info": {
   "codemirror_mode": {
    "name": "ipython",
    "version": 3
   },
   "file_extension": ".py",
   "mimetype": "text/x-python",
   "name": "python",
   "nbconvert_exporter": "python",
   "pygments_lexer": "ipython3",
   "version": "3.11.7"
  }
 },
 "nbformat": 4,
 "nbformat_minor": 5
}
