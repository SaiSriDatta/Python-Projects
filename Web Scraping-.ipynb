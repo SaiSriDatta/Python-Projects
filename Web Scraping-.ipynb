{
 "cells": [
  {
   "cell_type": "code",
   "execution_count": 1,
   "id": "9337339d-5d6d-4bd6-80fb-54366f863a0a",
   "metadata": {},
   "outputs": [],
   "source": [
    "from bs4 import BeautifulSoup"
   ]
  },
  {
   "cell_type": "code",
   "execution_count": 21,
   "id": "182e5116-564d-4d48-a972-1f5419f7884a",
   "metadata": {},
   "outputs": [],
   "source": [
    "#creatae a html document\n",
    "html_doc=\"\"\"<html>\n",
    "<body>\n",
    "<h1>My First Heading</h1>\n",
    "<b>!--This is a comment line--</b>\n",
    "<p title=\"About Me\" class=\"test\">My first paragraph.</p>\n",
    "<div class=\"cities\">\n",
    "<h2>London</h2>\n",
    "</div.\n",
    "</body>\n",
    "</html>\"\"\"\n",
    "#parse it using html parser\n",
    "soup = BeautifulSoup(html_doc,'html.parser')"
   ]
  },
  {
   "cell_type": "code",
   "execution_count": 22,
   "id": "5daa92dd-6500-448f-b57b-430503fb02db",
   "metadata": {},
   "outputs": [
    {
     "data": {
      "text/plain": [
       "bs4.BeautifulSoup"
      ]
     },
     "execution_count": 22,
     "metadata": {},
     "output_type": "execute_result"
    }
   ],
   "source": [
    "#view the soup type \n",
    "type(soup)"
   ]
  },
  {
   "cell_type": "code",
   "execution_count": 23,
   "id": "5a94da72-f158-4cf8-a654-8f2cf353af4b",
   "metadata": {},
   "outputs": [
    {
     "name": "stdout",
     "output_type": "stream",
     "text": [
      "<html>\n",
      "<body>\n",
      "<h1>My First Heading</h1>\n",
      "<b>!--This is a comment line--</b>\n",
      "<p class=\"test\" title=\"About Me\">My first paragraph.</p>\n",
      "<div class=\"cities\">\n",
      "<h2>London</h2>\n",
      "\n",
      "</div></body></html>\n"
     ]
    }
   ],
   "source": [
    "#view soup object\n",
    "print (soup)"
   ]
  },
  {
   "cell_type": "code",
   "execution_count": 24,
   "id": "ab721482-f149-4f82-bedc-17b713976665",
   "metadata": {},
   "outputs": [],
   "source": [
    "#create a tag object\n",
    "tag=soup.p"
   ]
  },
  {
   "cell_type": "code",
   "execution_count": 25,
   "id": "6955c625-e9af-4e11-806f-25ca2873c1f8",
   "metadata": {},
   "outputs": [
    {
     "data": {
      "text/plain": [
       "bs4.element.Tag"
      ]
     },
     "execution_count": 25,
     "metadata": {},
     "output_type": "execute_result"
    }
   ],
   "source": [
    "type(tag)"
   ]
  },
  {
   "cell_type": "code",
   "execution_count": 26,
   "id": "a4e20b4a-376f-4ef7-845e-f7ca04c3c5a4",
   "metadata": {},
   "outputs": [
    {
     "name": "stdout",
     "output_type": "stream",
     "text": [
      "<p class=\"test\" title=\"About Me\">My first paragraph.</p>\n"
     ]
    }
   ],
   "source": [
    "print(tag)"
   ]
  },
  {
   "cell_type": "code",
   "execution_count": 27,
   "id": "bc0816ba-d86f-4839-beb7-3ffe14121f07",
   "metadata": {},
   "outputs": [],
   "source": [
    "#create a comment \n",
    "comment = soup.b.string"
   ]
  },
  {
   "cell_type": "code",
   "execution_count": 28,
   "id": "6d443013-87b4-4edf-8188-a8328db58d99",
   "metadata": {},
   "outputs": [
    {
     "data": {
      "text/plain": [
       "bs4.element.NavigableString"
      ]
     },
     "execution_count": 28,
     "metadata": {},
     "output_type": "execute_result"
    }
   ],
   "source": [
    "type(comment)"
   ]
  },
  {
   "cell_type": "code",
   "execution_count": 29,
   "id": "b885faeb-362b-4206-8140-eefafabc5412",
   "metadata": {},
   "outputs": [
    {
     "data": {
      "text/plain": [
       "'!--This is a comment line--'"
      ]
     },
     "execution_count": 29,
     "metadata": {},
     "output_type": "execute_result"
    }
   ],
   "source": [
    "comment"
   ]
  },
  {
   "cell_type": "code",
   "execution_count": 30,
   "id": "270f8411-d392-48f0-aea7-519c655150e7",
   "metadata": {},
   "outputs": [
    {
     "data": {
      "text/plain": [
       "{'title': 'About Me', 'class': ['test']}"
      ]
     },
     "execution_count": 30,
     "metadata": {},
     "output_type": "execute_result"
    }
   ],
   "source": [
    "#view tag attributes\n",
    "tag.attrs"
   ]
  },
  {
   "cell_type": "code",
   "execution_count": 31,
   "id": "d79af085-6ec0-4551-90e3-1c13db5feb1d",
   "metadata": {},
   "outputs": [
    {
     "data": {
      "text/plain": [
       "'My first paragraph.'"
      ]
     },
     "execution_count": 31,
     "metadata": {},
     "output_type": "execute_result"
    }
   ],
   "source": [
    "tag.string"
   ]
  },
  {
   "cell_type": "code",
   "execution_count": 32,
   "id": "69cf4dc4-3169-4122-8e93-54054a6060a3",
   "metadata": {},
   "outputs": [
    {
     "data": {
      "text/plain": [
       "bs4.element.NavigableString"
      ]
     },
     "execution_count": 32,
     "metadata": {},
     "output_type": "execute_result"
    }
   ],
   "source": [
    "type(tag.string)"
   ]
  },
  {
   "cell_type": "markdown",
   "id": "4d78aad0-0744-4d34-a94a-f62799aa64a1",
   "metadata": {},
   "source": [
    "### Searching a parsed tree"
   ]
  },
  {
   "cell_type": "code",
   "execution_count": 34,
   "id": "be22255a-c040-47df-8e32-a0cffde10b84",
   "metadata": {},
   "outputs": [],
   "source": [
    "#find_all() - find_all(name,attrs,recursive(boolean),string,limit,**kwargs-keyword args)\n",
    "#find() - for just one result \n",
    "\n",
    "#find parents,find previous siblings - all matches \n",
    "#find next \" \" \"                   - next matches "
   ]
  },
  {
   "cell_type": "code",
   "execution_count": null,
   "id": "fb4af638-4fa0-4eb4-bb5e-88f3bb84c29e",
   "metadata": {},
   "outputs": [],
   "source": []
  }
 ],
 "metadata": {
  "kernelspec": {
   "display_name": "Python 3 (ipykernel)",
   "language": "python",
   "name": "python3"
  },
  "language_info": {
   "codemirror_mode": {
    "name": "ipython",
    "version": 3
   },
   "file_extension": ".py",
   "mimetype": "text/x-python",
   "name": "python",
   "nbconvert_exporter": "python",
   "pygments_lexer": "ipython3",
   "version": "3.11.7"
  }
 },
 "nbformat": 4,
 "nbformat_minor": 5
}
