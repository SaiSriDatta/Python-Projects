{
 "cells": [
  {
   "cell_type": "code",
   "execution_count": 2,
   "id": "c53c6ee1-7f27-4e4e-baf9-14f242baa86c",
   "metadata": {},
   "outputs": [
    {
     "name": "stdout",
     "output_type": "stream",
     "text": [
      "[1, 4, 9, 16, 25, 36]\n"
     ]
    }
   ],
   "source": [
    "to_square = [1,2,3,4,5,6]\n",
    "def square(num):\n",
    "    return num * num \n",
    "squared_nums = map(square,to_square)\n",
    "squared_nums_list = list(squared_nums)\n",
    "print (squared_nums_list)"
   ]
  },
  {
   "cell_type": "code",
   "execution_count": 3,
   "id": "9a236fd9-a5eb-4936-9a76-2343f474fc58",
   "metadata": {},
   "outputs": [
    {
     "name": "stdout",
     "output_type": "stream",
     "text": [
      "[1, 4, 9, 16, 25, 36]\n"
     ]
    }
   ],
   "source": [
    "def square(num):\n",
    "    return num * num \n",
    "squared_nums_list = [square(num) for num in to_square]\n",
    "print (squared_nums_list)"
   ]
  },
  {
   "cell_type": "code",
   "execution_count": 7,
   "id": "053a6426-be07-4b76-b7e6-f0a2bb7cce0d",
   "metadata": {},
   "outputs": [
    {
     "name": "stdout",
     "output_type": "stream",
     "text": [
      "91\n"
     ]
    }
   ],
   "source": [
    "from functools import reduce\n",
    "def sum(a,b):\n",
    "    return a + b\n",
    "sum_squared = reduce(sum,squared_nums_list)\n",
    "print (sum_squared)"
   ]
  },
  {
   "cell_type": "code",
   "execution_count": 8,
   "id": "68b07143-fe90-4a6d-9ae4-c77f903fcf6d",
   "metadata": {},
   "outputs": [
    {
     "data": {
      "text/plain": [
       "''"
      ]
     },
     "execution_count": 8,
     "metadata": {},
     "output_type": "execute_result"
    }
   ],
   "source": [
    "sc"
   ]
  },
  {
   "cell_type": "code",
   "execution_count": null,
   "id": "a9b3f18c-0ed6-487e-8c49-814b9cfbf705",
   "metadata": {},
   "outputs": [],
   "source": [
    "datafile"
   ]
  }
 ],
 "metadata": {
  "kernelspec": {
   "display_name": "Python 3 (ipykernel)",
   "language": "python",
   "name": "python3"
  },
  "language_info": {
   "codemirror_mode": {
    "name": "ipython",
    "version": 3
   },
   "file_extension": ".py",
   "mimetype": "text/x-python",
   "name": "python",
   "nbconvert_exporter": "python",
   "pygments_lexer": "ipython3",
   "version": "3.11.7"
  }
 },
 "nbformat": 4,
 "nbformat_minor": 5
}
