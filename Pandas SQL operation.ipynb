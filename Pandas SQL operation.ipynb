{
 "cells": [
  {
   "cell_type": "code",
   "execution_count": 1,
   "id": "d999ec5e-5217-4429-8eb6-a706c4b14966",
   "metadata": {},
   "outputs": [],
   "source": [
    "import pandas as pd"
   ]
  },
  {
   "cell_type": "code",
   "execution_count": 2,
   "id": "454e1e82-5116-4035-8d09-a9833781785e",
   "metadata": {},
   "outputs": [],
   "source": [
    "import sqlite3"
   ]
  },
  {
   "cell_type": "code",
   "execution_count": 5,
   "id": "a5700bd8-9e04-4494-a1cc-1e01d2379665",
   "metadata": {},
   "outputs": [],
   "source": [
    "#SQL statements to create a table; name is student score; parenthesis has column name & dtype of column\n",
    "\n",
    "create_table = \"\"\"\n",
    "CREATE TABLE student_score\n",
    "(Id INTEGER, Name VARCHAR(20), Math REAL, Science REAL);\"\"\""
   ]
  },
  {
   "cell_type": "code",
   "execution_count": 6,
   "id": "86742ab8-ec46-4916-a165-1b0b0da667bc",
   "metadata": {},
   "outputs": [],
   "source": [
    "#exceute the SQL statement : using connect method to connect with the memory database \n",
    "executeSQL = sqlite3.connect(':memory:')\n",
    "executeSQL.execute(create_table)\n",
    "executeSQL.commit()\n",
    "\n"
   ]
  },
  {
   "cell_type": "code",
   "execution_count": 7,
   "id": "6e5876cc-1580-4c6c-bfe3-f3c66146f51e",
   "metadata": {},
   "outputs": [],
   "source": [
    "#prepare an SQl query to fetch data from table \n",
    "SQL_query = executeSQL.execute('select * from student_score')"
   ]
  },
  {
   "cell_type": "code",
   "execution_count": 8,
   "id": "925ac4dc-ce97-4db1-a182-9f23253610ea",
   "metadata": {},
   "outputs": [],
   "source": [
    "#execute is used to execute and fetchfall is used to fetch data \n",
    "resulset = SQL_query.fetchall()"
   ]
  },
  {
   "cell_type": "code",
   "execution_count": 9,
   "id": "184868de-618b-4da7-a528-f82b90f7c0eb",
   "metadata": {},
   "outputs": [
    {
     "data": {
      "text/plain": [
       "[]"
      ]
     },
     "execution_count": 9,
     "metadata": {},
     "output_type": "execute_result"
    }
   ],
   "source": [
    "#view resulset is empty as table is empty \n",
    "\n",
    "resulset"
   ]
  },
  {
   "cell_type": "code",
   "execution_count": 10,
   "id": "10e200f2-b5e1-42e8-b15b-c1ef70f41aff",
   "metadata": {},
   "outputs": [],
   "source": [
    "#insert data into a table using SQL commands\n",
    "#prepare an SQl statement to insert values/ records into table \n",
    "import sqlite3\n",
    "insertSQL = [(10,'Jack',85,92),(29,'Tom',73,89),(65,'Ram',65.5,77),(5,'Steve',55,91)]\n",
    "\n"
   ]
  },
  {
   "cell_type": "code",
   "execution_count": 12,
   "id": "c76ea302-8cca-4e29-a573-b79a7c20e731",
   "metadata": {},
   "outputs": [],
   "source": [
    "#insert records into SQL table through SQL statement; question marks is syntax\n",
    "insert_statement = \"Insert into student_score values(?,?,?,?)\"\n",
    "executeSQL.executemany(insert_statement,insertSQL)\n",
    "executeSQL.commit()"
   ]
  },
  {
   "cell_type": "code",
   "execution_count": 13,
   "id": "926f4b65-484c-481b-9322-adc73327fb63",
   "metadata": {},
   "outputs": [],
   "source": [
    "#prepare SQL query\n",
    "SQL_query =  executeSQL.execute(\"select * from student_score\")"
   ]
  },
  {
   "cell_type": "code",
   "execution_count": 14,
   "id": "5d6b36fb-8412-4309-ad57-7691b09812e6",
   "metadata": {},
   "outputs": [],
   "source": [
    "#fetch the result for the query\n",
    "resulset = SQL_query.fetchall()"
   ]
  },
  {
   "cell_type": "code",
   "execution_count": 16,
   "id": "66171cca-c6e2-44c1-abac-61015a828aca",
   "metadata": {},
   "outputs": [
    {
     "data": {
      "text/plain": [
       "[(10, 'Jack', 85.0, 92.0),\n",
       " (29, 'Tom', 73.0, 89.0),\n",
       " (65, 'Ram', 65.5, 77.0),\n",
       " (5, 'Steve', 55.0, 91.0)]"
      ]
     },
     "execution_count": 16,
     "metadata": {},
     "output_type": "execute_result"
    }
   ],
   "source": [
    "# shows all the records present in the table \n",
    "resulset"
   ]
  },
  {
   "cell_type": "code",
   "execution_count": 31,
   "id": "5f518d5d-e9ee-44a7-b34a-1e3764a7c591",
   "metadata": {},
   "outputs": [
    {
     "ename": "TypeError",
     "evalue": "'zip' object is not subscriptable",
     "output_type": "error",
     "traceback": [
      "\u001b[1;31m---------------------------------------------------------------------------\u001b[0m",
      "\u001b[1;31mTypeError\u001b[0m                                 Traceback (most recent call last)",
      "Cell \u001b[1;32mIn[31], line 4\u001b[0m\n\u001b[0;32m      1\u001b[0m \u001b[38;5;66;03m#create a df to store resulset in it; the ZIP method gets all the columns together\u001b[39;00m\n\u001b[0;32m      2\u001b[0m \u001b[38;5;28;01mimport\u001b[39;00m \u001b[38;5;21;01mpandas\u001b[39;00m \u001b[38;5;28;01mas\u001b[39;00m \u001b[38;5;21;01mpd\u001b[39;00m\n\u001b[1;32m----> 4\u001b[0m df_student_recors \u001b[38;5;241m=\u001b[39m pd\u001b[38;5;241m.\u001b[39mDataFrame(resulset,columns\u001b[38;5;241m=\u001b[39m\u001b[38;5;28mzip\u001b[39m(\u001b[38;5;241m*\u001b[39mSQL_query\u001b[38;5;241m.\u001b[39mdescription)[\u001b[38;5;241m0\u001b[39m])\n",
      "\u001b[1;31mTypeError\u001b[0m: 'zip' object is not subscriptable"
     ]
    }
   ],
   "source": [
    " #create a df to store resulset in it; the ZIP method gets all the columns together\n",
    "import pandas as pd\n",
    "\n",
    "df_student_recors = pd.DataFrame(resulset,columns=zip(*SQL_query.description)[0])\n"
   ]
  },
  {
   "cell_type": "code",
   "execution_count": 28,
   "id": "ac6c332e-be7f-4d0b-a164-6684bd0b3ed1",
   "metadata": {},
   "outputs": [
    {
     "ename": "NameError",
     "evalue": "name 'df_student_recors' is not defined",
     "output_type": "error",
     "traceback": [
      "\u001b[1;31m---------------------------------------------------------------------------\u001b[0m",
      "\u001b[1;31mNameError\u001b[0m                                 Traceback (most recent call last)",
      "Cell \u001b[1;32mIn[28], line 1\u001b[0m\n\u001b[1;32m----> 1\u001b[0m df_student_recors\n",
      "\u001b[1;31mNameError\u001b[0m: name 'df_student_recors' is not defined"
     ]
    }
   ],
   "source": [
    "df_student_recors"
   ]
  },
  {
   "cell_type": "code",
   "execution_count": 32,
   "id": "9a55348b-7159-48b0-ae2d-c04575f4c3de",
   "metadata": {},
   "outputs": [],
   "source": [
    "columns = [col[0] for col in SQL_query.description]"
   ]
  },
  {
   "cell_type": "code",
   "execution_count": 33,
   "id": "d49e62f7-27e2-4a39-acfd-15bd9180ee8a",
   "metadata": {},
   "outputs": [
    {
     "data": {
      "text/html": [
       "<div>\n",
       "<style scoped>\n",
       "    .dataframe tbody tr th:only-of-type {\n",
       "        vertical-align: middle;\n",
       "    }\n",
       "\n",
       "    .dataframe tbody tr th {\n",
       "        vertical-align: top;\n",
       "    }\n",
       "\n",
       "    .dataframe thead th {\n",
       "        text-align: right;\n",
       "    }\n",
       "</style>\n",
       "<table border=\"1\" class=\"dataframe\">\n",
       "  <thead>\n",
       "    <tr style=\"text-align: right;\">\n",
       "      <th></th>\n",
       "      <th>Id</th>\n",
       "      <th>Name</th>\n",
       "      <th>Math</th>\n",
       "      <th>Science</th>\n",
       "    </tr>\n",
       "  </thead>\n",
       "  <tbody>\n",
       "    <tr>\n",
       "      <th>0</th>\n",
       "      <td>10</td>\n",
       "      <td>Jack</td>\n",
       "      <td>85.0</td>\n",
       "      <td>92.0</td>\n",
       "    </tr>\n",
       "    <tr>\n",
       "      <th>1</th>\n",
       "      <td>29</td>\n",
       "      <td>Tom</td>\n",
       "      <td>73.0</td>\n",
       "      <td>89.0</td>\n",
       "    </tr>\n",
       "    <tr>\n",
       "      <th>2</th>\n",
       "      <td>65</td>\n",
       "      <td>Ram</td>\n",
       "      <td>65.5</td>\n",
       "      <td>77.0</td>\n",
       "    </tr>\n",
       "    <tr>\n",
       "      <th>3</th>\n",
       "      <td>5</td>\n",
       "      <td>Steve</td>\n",
       "      <td>55.0</td>\n",
       "      <td>91.0</td>\n",
       "    </tr>\n",
       "  </tbody>\n",
       "</table>\n",
       "</div>"
      ],
      "text/plain": [
       "   Id   Name  Math  Science\n",
       "0  10   Jack  85.0     92.0\n",
       "1  29    Tom  73.0     89.0\n",
       "2  65    Ram  65.5     77.0\n",
       "3   5  Steve  55.0     91.0"
      ]
     },
     "execution_count": 33,
     "metadata": {},
     "output_type": "execute_result"
    }
   ],
   "source": [
    "df_student_records = pd.DataFrame(resulset, columns=columns)\n",
    "df_student_records"
   ]
  },
  {
   "cell_type": "code",
   "execution_count": 34,
   "id": "98d4ca7e-4bcf-4563-b4d9-aeec222b568b",
   "metadata": {},
   "outputs": [],
   "source": [
    "#lesson7 ASSIGNMENT "
   ]
  },
  {
   "cell_type": "code",
   "execution_count": null,
   "id": "fc839191-f1c7-497c-a75d-789b533c54a7",
   "metadata": {},
   "outputs": [],
   "source": []
  }
 ],
 "metadata": {
  "kernelspec": {
   "display_name": "Python 3 (ipykernel)",
   "language": "python",
   "name": "python3"
  },
  "language_info": {
   "codemirror_mode": {
    "name": "ipython",
    "version": 3
   },
   "file_extension": ".py",
   "mimetype": "text/x-python",
   "name": "python",
   "nbconvert_exporter": "python",
   "pygments_lexer": "ipython3",
   "version": "3.11.7"
  }
 },
 "nbformat": 4,
 "nbformat_minor": 5
}
