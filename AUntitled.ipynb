{
 "cells": [
  {
   "cell_type": "code",
   "execution_count": 1,
   "id": "95174aa7-e992-40bd-97f1-7cde2e680a22",
   "metadata": {},
   "outputs": [
    {
     "ename": "ModuleNotFoundError",
     "evalue": "No module named 'pandas_datareader'",
     "output_type": "error",
     "traceback": [
      "\u001b[1;31m---------------------------------------------------------------------------\u001b[0m",
      "\u001b[1;31mModuleNotFoundError\u001b[0m                       Traceback (most recent call last)",
      "Cell \u001b[1;32mIn[1], line 3\u001b[0m\n\u001b[0;32m      1\u001b[0m \u001b[38;5;28;01mimport\u001b[39;00m \u001b[38;5;21;01mpandas\u001b[39;00m \u001b[38;5;28;01mas\u001b[39;00m \u001b[38;5;21;01mpd\u001b[39;00m\n\u001b[0;32m      2\u001b[0m \u001b[38;5;28;01mimport\u001b[39;00m \u001b[38;5;21;01mnumpy\u001b[39;00m \u001b[38;5;28;01mas\u001b[39;00m \u001b[38;5;21;01mnp\u001b[39;00m\n\u001b[1;32m----> 3\u001b[0m \u001b[38;5;28;01mfrom\u001b[39;00m \u001b[38;5;21;01mpandas_datareader\u001b[39;00m\u001b[38;5;21;01m.\u001b[39;00m\u001b[38;5;21;01mfamafrench\u001b[39;00m \u001b[38;5;28;01mimport\u001b[39;00m get_available_datasets\n\u001b[0;32m      4\u001b[0m get_available_datasets()[\u001b[38;5;241m0\u001b[39m:\u001b[38;5;241m5\u001b[39m]\n",
      "\u001b[1;31mModuleNotFoundError\u001b[0m: No module named 'pandas_datareader'"
     ]
    }
   ],
   "source": [
    "import pandas as pd\n",
    "import numpy as np\n",
    "from pandas_datareader.famafrench import get_available_datasets\n",
    "get_available_datasets()[0:5]"
   ]
  },
  {
   "cell_type": "code",
   "execution_count": 2,
   "id": "24b0bac5-0df8-4b76-ade4-f1b4687e42b1",
   "metadata": {},
   "outputs": [
    {
     "name": "stdout",
     "output_type": "stream",
     "text": [
      "Collecting pandas_datareader\n",
      "  Downloading pandas_datareader-0.10.0-py3-none-any.whl.metadata (2.9 kB)\n",
      "Requirement already satisfied: lxml in c:\\users\\ramasastrydatta\\downloads\\new folder\\lib\\site-packages (from pandas_datareader) (4.9.3)\n",
      "Requirement already satisfied: pandas>=0.23 in c:\\users\\ramasastrydatta\\downloads\\new folder\\lib\\site-packages (from pandas_datareader) (2.1.4)\n",
      "Requirement already satisfied: requests>=2.19.0 in c:\\users\\ramasastrydatta\\downloads\\new folder\\lib\\site-packages (from pandas_datareader) (2.31.0)\n",
      "Requirement already satisfied: numpy<2,>=1.23.2 in c:\\users\\ramasastrydatta\\downloads\\new folder\\lib\\site-packages (from pandas>=0.23->pandas_datareader) (1.26.4)\n",
      "Requirement already satisfied: python-dateutil>=2.8.2 in c:\\users\\ramasastrydatta\\downloads\\new folder\\lib\\site-packages (from pandas>=0.23->pandas_datareader) (2.8.2)\n",
      "Requirement already satisfied: pytz>=2020.1 in c:\\users\\ramasastrydatta\\downloads\\new folder\\lib\\site-packages (from pandas>=0.23->pandas_datareader) (2023.3.post1)\n",
      "Requirement already satisfied: tzdata>=2022.1 in c:\\users\\ramasastrydatta\\downloads\\new folder\\lib\\site-packages (from pandas>=0.23->pandas_datareader) (2023.3)\n",
      "Requirement already satisfied: charset-normalizer<4,>=2 in c:\\users\\ramasastrydatta\\downloads\\new folder\\lib\\site-packages (from requests>=2.19.0->pandas_datareader) (2.0.4)\n",
      "Requirement already satisfied: idna<4,>=2.5 in c:\\users\\ramasastrydatta\\downloads\\new folder\\lib\\site-packages (from requests>=2.19.0->pandas_datareader) (3.4)\n",
      "Requirement already satisfied: urllib3<3,>=1.21.1 in c:\\users\\ramasastrydatta\\downloads\\new folder\\lib\\site-packages (from requests>=2.19.0->pandas_datareader) (2.0.7)\n",
      "Requirement already satisfied: certifi>=2017.4.17 in c:\\users\\ramasastrydatta\\downloads\\new folder\\lib\\site-packages (from requests>=2.19.0->pandas_datareader) (2024.2.2)\n",
      "Requirement already satisfied: six>=1.5 in c:\\users\\ramasastrydatta\\downloads\\new folder\\lib\\site-packages (from python-dateutil>=2.8.2->pandas>=0.23->pandas_datareader) (1.16.0)\n",
      "Downloading pandas_datareader-0.10.0-py3-none-any.whl (109 kB)\n",
      "   ---------------------------------------- 0.0/109.5 kB ? eta -:--:--\n",
      "   ----------- ---------------------------- 30.7/109.5 kB 1.3 MB/s eta 0:00:01\n",
      "   ------------------------------------- -- 102.4/109.5 kB 1.2 MB/s eta 0:00:01\n",
      "   ---------------------------------------- 109.5/109.5 kB 1.1 MB/s eta 0:00:00\n",
      "Installing collected packages: pandas_datareader\n",
      "Successfully installed pandas_datareader-0.10.0\n"
     ]
    }
   ],
   "source": [
    "!pip install pandas_datareader\n"
   ]
  },
  {
   "cell_type": "code",
   "execution_count": 7,
   "id": "da4ddbdd-a3ee-460d-ab0a-bc738bb9b206",
   "metadata": {},
   "outputs": [
    {
     "name": "stdout",
     "output_type": "stream",
     "text": [
      "0.10.0\n"
     ]
    }
   ],
   "source": [
    "import pandas_datareader\n",
    "print (pandas_datareader.__version__)"
   ]
  },
  {
   "cell_type": "code",
   "execution_count": 9,
   "id": "1fe8ecf1-bbdb-4343-9b78-71cb4b72afd6",
   "metadata": {},
   "outputs": [
    {
     "data": {
      "text/plain": [
       "['F-F_Research_Data_Factors',\n",
       " 'F-F_Research_Data_Factors_weekly',\n",
       " 'F-F_Research_Data_Factors_daily',\n",
       " 'F-F_Research_Data_5_Factors_2x3',\n",
       " 'F-F_Research_Data_5_Factors_2x3_daily']"
      ]
     },
     "execution_count": 9,
     "metadata": {},
     "output_type": "execute_result"
    }
   ],
   "source": [
    "import pandas as pd\n",
    "import numpy as np\n",
    "from pandas_datareader import data, wb\n",
    "from pandas_datareader.famafrench import get_available_datasets\n",
    "get_available_datasets()[0:5]"
   ]
  },
  {
   "cell_type": "code",
   "execution_count": 14,
   "id": "bc1af880-5e73-4439-bbf4-c736d362d5f4",
   "metadata": {},
   "outputs": [
    {
     "name": "stderr",
     "output_type": "stream",
     "text": [
      "C:\\Users\\ramasastrydatta\\AppData\\Local\\Temp\\ipykernel_9984\\3924291393.py:1: FutureWarning: The argument 'date_parser' is deprecated and will be removed in a future version. Please use 'date_format' instead, or read your data in as 'object' dtype and then call 'to_datetime'.\n",
      "  df_first = data.DataReader('F-F_Research_Data_Factors_weekly','famafrench')\n"
     ]
    },
    {
     "data": {
      "text/plain": [
       "dict"
      ]
     },
     "execution_count": 14,
     "metadata": {},
     "output_type": "execute_result"
    }
   ],
   "source": [
    "df_first = data.DataReader('F-F_Research_Data_Factors_weekly','famafrench')\n",
    "type(df_first)"
   ]
  },
  {
   "cell_type": "code",
   "execution_count": 16,
   "id": "ca85d095-7ef7-487a-9be0-86729c8ca65a",
   "metadata": {},
   "outputs": [
    {
     "data": {
      "text/plain": [
       "dict_keys([0, 'DESCR'])"
      ]
     },
     "execution_count": 16,
     "metadata": {},
     "output_type": "execute_result"
    }
   ],
   "source": [
    "df_first.keys()"
   ]
  },
  {
   "cell_type": "code",
   "execution_count": 17,
   "id": "08db4d62-3029-49e3-8ca2-45408b67f290",
   "metadata": {},
   "outputs": [
    {
     "data": {
      "text/plain": [
       "'F-F Research Data Factors weekly\\n--------------------------------\\n\\nThis file was created by CMPT_ME_BEME_RETS_WEEKLY using the 202403 CRSP database. The Tbill return is the weekly rate that, over four weeks, compounds to 1-month TBill rate from Ibbotson and Associates Inc. Copyright 2024 Kenneth R. French\\n\\n  0 : (252 rows x 4 cols)'"
      ]
     },
     "execution_count": 17,
     "metadata": {},
     "output_type": "execute_result"
    }
   ],
   "source": [
    "df_first['DESCR']"
   ]
  },
  {
   "cell_type": "code",
   "execution_count": 25,
   "id": "4302906c-1dd8-4f1d-ae62-345e140eab87",
   "metadata": {},
   "outputs": [
    {
     "data": {
      "text/html": [
       "<div>\n",
       "<style scoped>\n",
       "    .dataframe tbody tr th:only-of-type {\n",
       "        vertical-align: middle;\n",
       "    }\n",
       "\n",
       "    .dataframe tbody tr th {\n",
       "        vertical-align: top;\n",
       "    }\n",
       "\n",
       "    .dataframe thead th {\n",
       "        text-align: right;\n",
       "    }\n",
       "</style>\n",
       "<table border=\"1\" class=\"dataframe\">\n",
       "  <thead>\n",
       "    <tr style=\"text-align: right;\">\n",
       "      <th></th>\n",
       "      <th>Mkt-RF</th>\n",
       "      <th>SMB</th>\n",
       "      <th>HML</th>\n",
       "      <th>RF</th>\n",
       "    </tr>\n",
       "    <tr>\n",
       "      <th>Date</th>\n",
       "      <th></th>\n",
       "      <th></th>\n",
       "      <th></th>\n",
       "      <th></th>\n",
       "    </tr>\n",
       "  </thead>\n",
       "  <tbody>\n",
       "    <tr>\n",
       "      <th>2019-05-31</th>\n",
       "      <td>-2.71</td>\n",
       "      <td>-0.49</td>\n",
       "      <td>-1.04</td>\n",
       "      <td>0.052</td>\n",
       "    </tr>\n",
       "    <tr>\n",
       "      <th>2019-06-07</th>\n",
       "      <td>4.27</td>\n",
       "      <td>-1.24</td>\n",
       "      <td>-0.53</td>\n",
       "      <td>0.046</td>\n",
       "    </tr>\n",
       "    <tr>\n",
       "      <th>2019-06-14</th>\n",
       "      <td>0.45</td>\n",
       "      <td>-0.02</td>\n",
       "      <td>-0.08</td>\n",
       "      <td>0.046</td>\n",
       "    </tr>\n",
       "    <tr>\n",
       "      <th>2019-06-21</th>\n",
       "      <td>2.21</td>\n",
       "      <td>0.07</td>\n",
       "      <td>-1.67</td>\n",
       "      <td>0.046</td>\n",
       "    </tr>\n",
       "    <tr>\n",
       "      <th>2019-06-28</th>\n",
       "      <td>-0.11</td>\n",
       "      <td>1.43</td>\n",
       "      <td>1.58</td>\n",
       "      <td>0.046</td>\n",
       "    </tr>\n",
       "  </tbody>\n",
       "</table>\n",
       "</div>"
      ],
      "text/plain": [
       "            Mkt-RF   SMB   HML     RF\n",
       "Date                                 \n",
       "2019-05-31   -2.71 -0.49 -1.04  0.052\n",
       "2019-06-07    4.27 -1.24 -0.53  0.046\n",
       "2019-06-14    0.45 -0.02 -0.08  0.046\n",
       "2019-06-21    2.21  0.07 -1.67  0.046\n",
       "2019-06-28   -0.11  1.43  1.58  0.046"
      ]
     },
     "execution_count": 25,
     "metadata": {},
     "output_type": "execute_result"
    }
   ],
   "source": [
    "df_first[0].head()"
   ]
  },
  {
   "cell_type": "code",
   "execution_count": 26,
   "id": "7dd6f6a1-917d-49ad-a7a6-bb3dfea29a2f",
   "metadata": {},
   "outputs": [],
   "source": [
    "from pandas_datareader import get_nasdaq_symbols"
   ]
  },
  {
   "cell_type": "code",
   "execution_count": null,
   "id": "330f6233-8128-4358-a1c2-70bc50544fb3",
   "metadata": {},
   "outputs": [],
   "source": []
  }
 ],
 "metadata": {
  "kernelspec": {
   "display_name": "Python 3 (ipykernel)",
   "language": "python",
   "name": "python3"
  },
  "language_info": {
   "codemirror_mode": {
    "name": "ipython",
    "version": 3
   },
   "file_extension": ".py",
   "mimetype": "text/x-python",
   "name": "python",
   "nbconvert_exporter": "python",
   "pygments_lexer": "ipython3",
   "version": "3.11.7"
  }
 },
 "nbformat": 4,
 "nbformat_minor": 5
}
