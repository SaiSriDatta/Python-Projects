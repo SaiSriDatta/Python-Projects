{
 "cells": [
  {
   "cell_type": "markdown",
   "id": "f0178708-2e06-4519-9454-6cc45014eb1b",
   "metadata": {},
   "source": [
    "#### Eliminate punctuation and stopwords from the sentence"
   ]
  },
  {
   "cell_type": "code",
   "execution_count": 3,
   "id": "bc1f8f60-aafe-40f6-99b7-c0c1bcc186c0",
   "metadata": {},
   "outputs": [],
   "source": [
    "#import required libraries \n",
    "import string\n",
    "from nltk.corpus import stopwords "
   ]
  },
  {
   "cell_type": "code",
   "execution_count": 4,
   "id": "09cd4a21-f439-4ace-9585-13e28a561829",
   "metadata": {},
   "outputs": [
    {
     "data": {
      "text/plain": [
       "['i', 'me', 'my', 'myself', 'we', 'our', 'ours', 'ourselves', 'you', \"you're\"]"
      ]
     },
     "execution_count": 4,
     "metadata": {},
     "output_type": "execute_result"
    }
   ],
   "source": [
    "#view the first 10 stopwords present in the english corpus \n",
    "stopwords.words('english')[0:10]"
   ]
  },
  {
   "cell_type": "code",
   "execution_count": 5,
   "id": "611e2fe2-9766-4c71-b518-1eb317c86452",
   "metadata": {},
   "outputs": [],
   "source": [
    "#test  sentence\n",
    "test_sentence = ' This is my first test string. Wow!! we are doing just fine'"
   ]
  },
  {
   "cell_type": "code",
   "execution_count": 6,
   "id": "61c0e5f1-2b23-419b-9b8f-27e6a9b54611",
   "metadata": {},
   "outputs": [
    {
     "data": {
      "text/plain": [
       "[' ',\n",
       " 'T',\n",
       " 'h',\n",
       " 'i',\n",
       " 's',\n",
       " ' ',\n",
       " 'i',\n",
       " 's',\n",
       " ' ',\n",
       " 'm',\n",
       " 'y',\n",
       " ' ',\n",
       " 'f',\n",
       " 'i',\n",
       " 'r',\n",
       " 's',\n",
       " 't',\n",
       " ' ',\n",
       " 't',\n",
       " 'e',\n",
       " 's',\n",
       " 't',\n",
       " ' ',\n",
       " 's',\n",
       " 't',\n",
       " 'r',\n",
       " 'i',\n",
       " 'n',\n",
       " 'g',\n",
       " ' ',\n",
       " 'W',\n",
       " 'o',\n",
       " 'w',\n",
       " ' ',\n",
       " 'w',\n",
       " 'e',\n",
       " ' ',\n",
       " 'a',\n",
       " 'r',\n",
       " 'e',\n",
       " ' ',\n",
       " 'd',\n",
       " 'o',\n",
       " 'i',\n",
       " 'n',\n",
       " 'g',\n",
       " ' ',\n",
       " 'j',\n",
       " 'u',\n",
       " 's',\n",
       " 't',\n",
       " ' ',\n",
       " 'f',\n",
       " 'i',\n",
       " 'n',\n",
       " 'e']"
      ]
     },
     "execution_count": 6,
     "metadata": {},
     "output_type": "execute_result"
    }
   ],
   "source": [
    "#eliminate the punctuation in the form of characters and print them \n",
    "no_punctuation = [char for char in test_sentence if char not in string.punctuation]\n",
    "no_punctuation"
   ]
  },
  {
   "cell_type": "code",
   "execution_count": 31,
   "id": "4e0b613b-14f1-4d47-a3da-0877ed6a2d7e",
   "metadata": {},
   "outputs": [
    {
     "data": {
      "text/plain": [
       "'                                                                                T                                                                               h                                                                               i                                                                               s                                                                                                                                                               i                                                                               s                                                                                                                                                               m                                                                               y                                                                                                                                                               f                                                                               i                                                                               r                                                                               s                                                                               t                                                                                                                                                               t                                                                               e                                                                               s                                                                               t                                                                                                                                                               s                                                                               t                                                                               r                                                                               i                                                                               n                                                                               g                                                                                                                                                               W                                                                               o                                                                               w                                                                                                                                                               w                                                                               e                                                                                                                                                               a                                                                               r                                                                               e                                                                                                                                                               d                                                                               o                                                                               i                                                                               n                                                                               g                                                                                                                                                               j                                                                               u                                                                               s                                                                               t                                                                                                                                                               f                                                                               i                                                                               n                                                                               e'"
      ]
     },
     "execution_count": 31,
     "metadata": {},
     "output_type": "execute_result"
    }
   ],
   "source": [
    "#now print the text without punctutation\n",
    "no_punctuation=''.join(no_punctuation)\n",
    "no_punctuation"
   ]
  },
  {
   "cell_type": "code",
   "execution_count": 32,
   "id": "3ca07957-e422-4945-aff7-e17d6f1537af",
   "metadata": {},
   "outputs": [
    {
     "data": {
      "text/plain": [
       "['T',\n",
       " 'h',\n",
       " 'i',\n",
       " 's',\n",
       " 'i',\n",
       " 's',\n",
       " 'm',\n",
       " 'y',\n",
       " 'f',\n",
       " 'i',\n",
       " 'r',\n",
       " 's',\n",
       " 't',\n",
       " 't',\n",
       " 'e',\n",
       " 's',\n",
       " 't',\n",
       " 's',\n",
       " 't',\n",
       " 'r',\n",
       " 'i',\n",
       " 'n',\n",
       " 'g',\n",
       " 'W',\n",
       " 'o',\n",
       " 'w',\n",
       " 'w',\n",
       " 'e',\n",
       " 'a',\n",
       " 'r',\n",
       " 'e',\n",
       " 'd',\n",
       " 'o',\n",
       " 'i',\n",
       " 'n',\n",
       " 'g',\n",
       " 'j',\n",
       " 'u',\n",
       " 's',\n",
       " 't',\n",
       " 'f',\n",
       " 'i',\n",
       " 'n',\n",
       " 'e']"
      ]
     },
     "execution_count": 32,
     "metadata": {},
     "output_type": "execute_result"
    }
   ],
   "source": [
    "#split each word \n",
    "no_punctuation.split()"
   ]
  },
  {
   "cell_type": "code",
   "execution_count": 26,
   "id": "2d346648-a032-4278-9432-8218ba181fcc",
   "metadata": {},
   "outputs": [],
   "source": [
    "#now eliminate stop words\n",
    "clean_sentence = [word for word in no_punctuation.split() if word.lower() not in stopwords.words('english')]"
   ]
  },
  {
   "cell_type": "code",
   "execution_count": 27,
   "id": "23723984-11ec-4f98-bf1f-ee5c402c6d0f",
   "metadata": {},
   "outputs": [
    {
     "data": {
      "text/plain": [
       "['h',\n",
       " 'f',\n",
       " 'r',\n",
       " 'e',\n",
       " 'r',\n",
       " 'n',\n",
       " 'g',\n",
       " 'W',\n",
       " 'w',\n",
       " 'w',\n",
       " 'e',\n",
       " 'r',\n",
       " 'e',\n",
       " 'n',\n",
       " 'g',\n",
       " 'j',\n",
       " 'u',\n",
       " 'f',\n",
       " 'n',\n",
       " 'e']"
      ]
     },
     "execution_count": 27,
     "metadata": {},
     "output_type": "execute_result"
    }
   ],
   "source": [
    "clean_sentence"
   ]
  },
  {
   "cell_type": "code",
   "execution_count": null,
   "id": "3836a34d-df0d-4171-9186-f0cb3c321e8c",
   "metadata": {},
   "outputs": [],
   "source": []
  }
 ],
 "metadata": {
  "kernelspec": {
   "display_name": "Python 3 (ipykernel)",
   "language": "python",
   "name": "python3"
  },
  "language_info": {
   "codemirror_mode": {
    "name": "ipython",
    "version": 3
   },
   "file_extension": ".py",
   "mimetype": "text/x-python",
   "name": "python",
   "nbconvert_exporter": "python",
   "pygments_lexer": "ipython3",
   "version": "3.11.7"
  }
 },
 "nbformat": 4,
 "nbformat_minor": 5
}
